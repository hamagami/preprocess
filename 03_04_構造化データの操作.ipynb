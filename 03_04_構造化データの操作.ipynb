{
  "nbformat": 4,
  "nbformat_minor": 0,
  "metadata": {
    "colab": {
      "name": "03-04_構造化データの操作.ipynb",
      "provenance": [],
      "authorship_tag": "ABX9TyP7UaiHjgSh6u24aaqrQZmw",
      "include_colab_link": true
    },
    "kernelspec": {
      "name": "python3",
      "display_name": "Python 3"
    },
    "language_info": {
      "name": "python"
    }
  },
  "cells": [
    {
      "cell_type": "markdown",
      "metadata": {
        "id": "view-in-github",
        "colab_type": "text"
      },
      "source": [
        "<a href=\"https://colab.research.google.com/github/hamagami/preprocess/blob/main/03_04_%E6%A7%8B%E9%80%A0%E5%8C%96%E3%83%87%E3%83%BC%E3%82%BF%E3%81%AE%E6%93%8D%E4%BD%9C.ipynb\" target=\"_parent\"><img src=\"https://colab.research.google.com/assets/colab-badge.svg\" alt=\"Open In Colab\"/></a>"
      ]
    },
    {
      "cell_type": "markdown",
      "metadata": {
        "id": "C5ALzZiFEAnP"
      },
      "source": [
        "# 構造化データの操作\n",
        "pandas の表の操作例を簡単なデータを使って試してみます"
      ]
    },
    {
      "cell_type": "code",
      "metadata": {
        "id": "g0xZq_qMOW2T"
      },
      "source": [
        "import pandas as pd\n",
        "from pandas import Series, DataFrame"
      ],
      "execution_count": 3,
      "outputs": []
    },
    {
      "cell_type": "markdown",
      "metadata": {
        "id": "Pg9WRcLaEJhQ"
      },
      "source": [
        "## 簡単なデータと直接つくります"
      ]
    },
    {
      "cell_type": "code",
      "metadata": {
        "id": "piBOqz7fOycj"
      },
      "source": [
        "# データ1の準備\n",
        "data1 = {'ID':['100','101','102','105','106']\n",
        "        ,'city':['Tokyo','Chiba','Kyoto','Gunma','Tokyo']\n",
        "        ,'birth_year':[1991,1992,1985,1996,1981]\n",
        "        ,'name':['Yamada','Sato','Suzuki','Kitamura','Aoki']}\n",
        "df1 = DataFrame(data1)\n",
        "\n",
        "# データ2の準備\n",
        "data2 = {'ID':['100','101','102','103','104']\n",
        "        ,'math':[34,77,45,81,98]\n",
        "        ,'English':[47,64,16,53,37]\n",
        "        ,'sex':['F','M','F','F','M']\n",
        "        ,'index_num':[0,1,2,3,4]}\n",
        "df2 = DataFrame(data2)\n"
      ],
      "execution_count": 4,
      "outputs": []
    },
    {
      "cell_type": "markdown",
      "metadata": {
        "id": "EAMoGNqOENR2"
      },
      "source": [
        "## データを表示します"
      ]
    },
    {
      "cell_type": "code",
      "metadata": {
        "colab": {
          "base_uri": "https://localhost:8080/",
          "height": 205
        },
        "id": "pHvFJ7CqO5Ro",
        "outputId": "38d77239-1da2-4275-f74e-8061552f375f"
      },
      "source": [
        "df1"
      ],
      "execution_count": 5,
      "outputs": [
        {
          "output_type": "execute_result",
          "data": {
            "text/html": [
              "<div>\n",
              "<style scoped>\n",
              "    .dataframe tbody tr th:only-of-type {\n",
              "        vertical-align: middle;\n",
              "    }\n",
              "\n",
              "    .dataframe tbody tr th {\n",
              "        vertical-align: top;\n",
              "    }\n",
              "\n",
              "    .dataframe thead th {\n",
              "        text-align: right;\n",
              "    }\n",
              "</style>\n",
              "<table border=\"1\" class=\"dataframe\">\n",
              "  <thead>\n",
              "    <tr style=\"text-align: right;\">\n",
              "      <th></th>\n",
              "      <th>ID</th>\n",
              "      <th>city</th>\n",
              "      <th>birth_year</th>\n",
              "      <th>name</th>\n",
              "    </tr>\n",
              "  </thead>\n",
              "  <tbody>\n",
              "    <tr>\n",
              "      <th>0</th>\n",
              "      <td>100</td>\n",
              "      <td>Tokyo</td>\n",
              "      <td>1991</td>\n",
              "      <td>Yamada</td>\n",
              "    </tr>\n",
              "    <tr>\n",
              "      <th>1</th>\n",
              "      <td>101</td>\n",
              "      <td>Chiba</td>\n",
              "      <td>1992</td>\n",
              "      <td>Sato</td>\n",
              "    </tr>\n",
              "    <tr>\n",
              "      <th>2</th>\n",
              "      <td>102</td>\n",
              "      <td>Kyoto</td>\n",
              "      <td>1985</td>\n",
              "      <td>Suzuki</td>\n",
              "    </tr>\n",
              "    <tr>\n",
              "      <th>3</th>\n",
              "      <td>105</td>\n",
              "      <td>Gunma</td>\n",
              "      <td>1996</td>\n",
              "      <td>Kitamura</td>\n",
              "    </tr>\n",
              "    <tr>\n",
              "      <th>4</th>\n",
              "      <td>106</td>\n",
              "      <td>Tokyo</td>\n",
              "      <td>1981</td>\n",
              "      <td>Aoki</td>\n",
              "    </tr>\n",
              "  </tbody>\n",
              "</table>\n",
              "</div>"
            ],
            "text/plain": [
              "    ID   city  birth_year      name\n",
              "0  100  Tokyo        1991    Yamada\n",
              "1  101  Chiba        1992      Sato\n",
              "2  102  Kyoto        1985    Suzuki\n",
              "3  105  Gunma        1996  Kitamura\n",
              "4  106  Tokyo        1981      Aoki"
            ]
          },
          "metadata": {
            "tags": []
          },
          "execution_count": 5
        }
      ]
    },
    {
      "cell_type": "code",
      "metadata": {
        "colab": {
          "base_uri": "https://localhost:8080/",
          "height": 205
        },
        "id": "NPnJUNK7PNSm",
        "outputId": "aa73a1ec-c2b9-4f62-c33d-9adb5a79a543"
      },
      "source": [
        "df2"
      ],
      "execution_count": 6,
      "outputs": [
        {
          "output_type": "execute_result",
          "data": {
            "text/html": [
              "<div>\n",
              "<style scoped>\n",
              "    .dataframe tbody tr th:only-of-type {\n",
              "        vertical-align: middle;\n",
              "    }\n",
              "\n",
              "    .dataframe tbody tr th {\n",
              "        vertical-align: top;\n",
              "    }\n",
              "\n",
              "    .dataframe thead th {\n",
              "        text-align: right;\n",
              "    }\n",
              "</style>\n",
              "<table border=\"1\" class=\"dataframe\">\n",
              "  <thead>\n",
              "    <tr style=\"text-align: right;\">\n",
              "      <th></th>\n",
              "      <th>ID</th>\n",
              "      <th>math</th>\n",
              "      <th>English</th>\n",
              "      <th>sex</th>\n",
              "      <th>index_num</th>\n",
              "    </tr>\n",
              "  </thead>\n",
              "  <tbody>\n",
              "    <tr>\n",
              "      <th>0</th>\n",
              "      <td>100</td>\n",
              "      <td>34</td>\n",
              "      <td>47</td>\n",
              "      <td>F</td>\n",
              "      <td>0</td>\n",
              "    </tr>\n",
              "    <tr>\n",
              "      <th>1</th>\n",
              "      <td>101</td>\n",
              "      <td>77</td>\n",
              "      <td>64</td>\n",
              "      <td>M</td>\n",
              "      <td>1</td>\n",
              "    </tr>\n",
              "    <tr>\n",
              "      <th>2</th>\n",
              "      <td>102</td>\n",
              "      <td>45</td>\n",
              "      <td>16</td>\n",
              "      <td>F</td>\n",
              "      <td>2</td>\n",
              "    </tr>\n",
              "    <tr>\n",
              "      <th>3</th>\n",
              "      <td>103</td>\n",
              "      <td>81</td>\n",
              "      <td>53</td>\n",
              "      <td>F</td>\n",
              "      <td>3</td>\n",
              "    </tr>\n",
              "    <tr>\n",
              "      <th>4</th>\n",
              "      <td>104</td>\n",
              "      <td>98</td>\n",
              "      <td>37</td>\n",
              "      <td>M</td>\n",
              "      <td>4</td>\n",
              "    </tr>\n",
              "  </tbody>\n",
              "</table>\n",
              "</div>"
            ],
            "text/plain": [
              "    ID  math  English sex  index_num\n",
              "0  100    34       47   F          0\n",
              "1  101    77       64   M          1\n",
              "2  102    45       16   F          2\n",
              "3  103    81       53   F          3\n",
              "4  104    98       37   M          4"
            ]
          },
          "metadata": {
            "tags": []
          },
          "execution_count": 6
        }
      ]
    },
    {
      "cell_type": "markdown",
      "metadata": {
        "id": "3k4gyjP3ER4D"
      },
      "source": [
        "## 内部結合の例  innner outer left right index"
      ]
    },
    {
      "cell_type": "code",
      "metadata": {
        "id": "2no9GiwZPQKJ"
      },
      "source": [
        "# IDで内部結合\n",
        "inner_join = pd.merge(df1, df2, how=\"inner\" ,on=\"ID\")\n",
        "# Left join\n",
        "left_join  = pd.merge(df1, df2, how=\"left\", on=\"ID\")\n",
        "right_join = pd.merge(df1,df2,how=\"right\", on=\"ID\")\n",
        "# Outer join\n",
        "outer_join=pd.merge(df1, df2, how=\"outer\", on=\"ID\")\n",
        "# indexによる結合\n",
        "index_join=pd.merge(df1, df2, left_index=True, right_on=\"index_num\")"
      ],
      "execution_count": 7,
      "outputs": []
    },
    {
      "cell_type": "code",
      "metadata": {
        "colab": {
          "base_uri": "https://localhost:8080/",
          "height": 143
        },
        "id": "RMttjBsMQUpJ",
        "outputId": "bc9ef76c-c833-46f0-8a4f-1215a86531b2"
      },
      "source": [
        "inner_join"
      ],
      "execution_count": 8,
      "outputs": [
        {
          "output_type": "execute_result",
          "data": {
            "text/html": [
              "<div>\n",
              "<style scoped>\n",
              "    .dataframe tbody tr th:only-of-type {\n",
              "        vertical-align: middle;\n",
              "    }\n",
              "\n",
              "    .dataframe tbody tr th {\n",
              "        vertical-align: top;\n",
              "    }\n",
              "\n",
              "    .dataframe thead th {\n",
              "        text-align: right;\n",
              "    }\n",
              "</style>\n",
              "<table border=\"1\" class=\"dataframe\">\n",
              "  <thead>\n",
              "    <tr style=\"text-align: right;\">\n",
              "      <th></th>\n",
              "      <th>ID</th>\n",
              "      <th>city</th>\n",
              "      <th>birth_year</th>\n",
              "      <th>name</th>\n",
              "      <th>math</th>\n",
              "      <th>English</th>\n",
              "      <th>sex</th>\n",
              "      <th>index_num</th>\n",
              "    </tr>\n",
              "  </thead>\n",
              "  <tbody>\n",
              "    <tr>\n",
              "      <th>0</th>\n",
              "      <td>100</td>\n",
              "      <td>Tokyo</td>\n",
              "      <td>1991</td>\n",
              "      <td>Yamada</td>\n",
              "      <td>34</td>\n",
              "      <td>47</td>\n",
              "      <td>F</td>\n",
              "      <td>0</td>\n",
              "    </tr>\n",
              "    <tr>\n",
              "      <th>1</th>\n",
              "      <td>101</td>\n",
              "      <td>Chiba</td>\n",
              "      <td>1992</td>\n",
              "      <td>Sato</td>\n",
              "      <td>77</td>\n",
              "      <td>64</td>\n",
              "      <td>M</td>\n",
              "      <td>1</td>\n",
              "    </tr>\n",
              "    <tr>\n",
              "      <th>2</th>\n",
              "      <td>102</td>\n",
              "      <td>Kyoto</td>\n",
              "      <td>1985</td>\n",
              "      <td>Suzuki</td>\n",
              "      <td>45</td>\n",
              "      <td>16</td>\n",
              "      <td>F</td>\n",
              "      <td>2</td>\n",
              "    </tr>\n",
              "  </tbody>\n",
              "</table>\n",
              "</div>"
            ],
            "text/plain": [
              "    ID   city  birth_year    name  math  English sex  index_num\n",
              "0  100  Tokyo        1991  Yamada    34       47   F          0\n",
              "1  101  Chiba        1992    Sato    77       64   M          1\n",
              "2  102  Kyoto        1985  Suzuki    45       16   F          2"
            ]
          },
          "metadata": {
            "tags": []
          },
          "execution_count": 8
        }
      ]
    },
    {
      "cell_type": "code",
      "metadata": {
        "colab": {
          "base_uri": "https://localhost:8080/",
          "height": 268
        },
        "id": "hJyYn0bLQWjc",
        "outputId": "66648d3a-6791-4de1-fe36-d906b56f2ae8"
      },
      "source": [
        "outer_join"
      ],
      "execution_count": 9,
      "outputs": [
        {
          "output_type": "execute_result",
          "data": {
            "text/html": [
              "<div>\n",
              "<style scoped>\n",
              "    .dataframe tbody tr th:only-of-type {\n",
              "        vertical-align: middle;\n",
              "    }\n",
              "\n",
              "    .dataframe tbody tr th {\n",
              "        vertical-align: top;\n",
              "    }\n",
              "\n",
              "    .dataframe thead th {\n",
              "        text-align: right;\n",
              "    }\n",
              "</style>\n",
              "<table border=\"1\" class=\"dataframe\">\n",
              "  <thead>\n",
              "    <tr style=\"text-align: right;\">\n",
              "      <th></th>\n",
              "      <th>ID</th>\n",
              "      <th>city</th>\n",
              "      <th>birth_year</th>\n",
              "      <th>name</th>\n",
              "      <th>math</th>\n",
              "      <th>English</th>\n",
              "      <th>sex</th>\n",
              "      <th>index_num</th>\n",
              "    </tr>\n",
              "  </thead>\n",
              "  <tbody>\n",
              "    <tr>\n",
              "      <th>0</th>\n",
              "      <td>100</td>\n",
              "      <td>Tokyo</td>\n",
              "      <td>1991.0</td>\n",
              "      <td>Yamada</td>\n",
              "      <td>34.0</td>\n",
              "      <td>47.0</td>\n",
              "      <td>F</td>\n",
              "      <td>0.0</td>\n",
              "    </tr>\n",
              "    <tr>\n",
              "      <th>1</th>\n",
              "      <td>101</td>\n",
              "      <td>Chiba</td>\n",
              "      <td>1992.0</td>\n",
              "      <td>Sato</td>\n",
              "      <td>77.0</td>\n",
              "      <td>64.0</td>\n",
              "      <td>M</td>\n",
              "      <td>1.0</td>\n",
              "    </tr>\n",
              "    <tr>\n",
              "      <th>2</th>\n",
              "      <td>102</td>\n",
              "      <td>Kyoto</td>\n",
              "      <td>1985.0</td>\n",
              "      <td>Suzuki</td>\n",
              "      <td>45.0</td>\n",
              "      <td>16.0</td>\n",
              "      <td>F</td>\n",
              "      <td>2.0</td>\n",
              "    </tr>\n",
              "    <tr>\n",
              "      <th>3</th>\n",
              "      <td>105</td>\n",
              "      <td>Gunma</td>\n",
              "      <td>1996.0</td>\n",
              "      <td>Kitamura</td>\n",
              "      <td>NaN</td>\n",
              "      <td>NaN</td>\n",
              "      <td>NaN</td>\n",
              "      <td>NaN</td>\n",
              "    </tr>\n",
              "    <tr>\n",
              "      <th>4</th>\n",
              "      <td>106</td>\n",
              "      <td>Tokyo</td>\n",
              "      <td>1981.0</td>\n",
              "      <td>Aoki</td>\n",
              "      <td>NaN</td>\n",
              "      <td>NaN</td>\n",
              "      <td>NaN</td>\n",
              "      <td>NaN</td>\n",
              "    </tr>\n",
              "    <tr>\n",
              "      <th>5</th>\n",
              "      <td>103</td>\n",
              "      <td>NaN</td>\n",
              "      <td>NaN</td>\n",
              "      <td>NaN</td>\n",
              "      <td>81.0</td>\n",
              "      <td>53.0</td>\n",
              "      <td>F</td>\n",
              "      <td>3.0</td>\n",
              "    </tr>\n",
              "    <tr>\n",
              "      <th>6</th>\n",
              "      <td>104</td>\n",
              "      <td>NaN</td>\n",
              "      <td>NaN</td>\n",
              "      <td>NaN</td>\n",
              "      <td>98.0</td>\n",
              "      <td>37.0</td>\n",
              "      <td>M</td>\n",
              "      <td>4.0</td>\n",
              "    </tr>\n",
              "  </tbody>\n",
              "</table>\n",
              "</div>"
            ],
            "text/plain": [
              "    ID   city  birth_year      name  math  English  sex  index_num\n",
              "0  100  Tokyo      1991.0    Yamada  34.0     47.0    F        0.0\n",
              "1  101  Chiba      1992.0      Sato  77.0     64.0    M        1.0\n",
              "2  102  Kyoto      1985.0    Suzuki  45.0     16.0    F        2.0\n",
              "3  105  Gunma      1996.0  Kitamura   NaN      NaN  NaN        NaN\n",
              "4  106  Tokyo      1981.0      Aoki   NaN      NaN  NaN        NaN\n",
              "5  103    NaN         NaN       NaN  81.0     53.0    F        3.0\n",
              "6  104    NaN         NaN       NaN  98.0     37.0    M        4.0"
            ]
          },
          "metadata": {
            "tags": []
          },
          "execution_count": 9
        }
      ]
    },
    {
      "cell_type": "code",
      "metadata": {
        "colab": {
          "base_uri": "https://localhost:8080/",
          "height": 205
        },
        "id": "tmvVohpYQYhd",
        "outputId": "58f6889f-392f-4465-dd71-96e7eef26551"
      },
      "source": [
        "left_join"
      ],
      "execution_count": 10,
      "outputs": [
        {
          "output_type": "execute_result",
          "data": {
            "text/html": [
              "<div>\n",
              "<style scoped>\n",
              "    .dataframe tbody tr th:only-of-type {\n",
              "        vertical-align: middle;\n",
              "    }\n",
              "\n",
              "    .dataframe tbody tr th {\n",
              "        vertical-align: top;\n",
              "    }\n",
              "\n",
              "    .dataframe thead th {\n",
              "        text-align: right;\n",
              "    }\n",
              "</style>\n",
              "<table border=\"1\" class=\"dataframe\">\n",
              "  <thead>\n",
              "    <tr style=\"text-align: right;\">\n",
              "      <th></th>\n",
              "      <th>ID</th>\n",
              "      <th>city</th>\n",
              "      <th>birth_year</th>\n",
              "      <th>name</th>\n",
              "      <th>math</th>\n",
              "      <th>English</th>\n",
              "      <th>sex</th>\n",
              "      <th>index_num</th>\n",
              "    </tr>\n",
              "  </thead>\n",
              "  <tbody>\n",
              "    <tr>\n",
              "      <th>0</th>\n",
              "      <td>100</td>\n",
              "      <td>Tokyo</td>\n",
              "      <td>1991</td>\n",
              "      <td>Yamada</td>\n",
              "      <td>34.0</td>\n",
              "      <td>47.0</td>\n",
              "      <td>F</td>\n",
              "      <td>0.0</td>\n",
              "    </tr>\n",
              "    <tr>\n",
              "      <th>1</th>\n",
              "      <td>101</td>\n",
              "      <td>Chiba</td>\n",
              "      <td>1992</td>\n",
              "      <td>Sato</td>\n",
              "      <td>77.0</td>\n",
              "      <td>64.0</td>\n",
              "      <td>M</td>\n",
              "      <td>1.0</td>\n",
              "    </tr>\n",
              "    <tr>\n",
              "      <th>2</th>\n",
              "      <td>102</td>\n",
              "      <td>Kyoto</td>\n",
              "      <td>1985</td>\n",
              "      <td>Suzuki</td>\n",
              "      <td>45.0</td>\n",
              "      <td>16.0</td>\n",
              "      <td>F</td>\n",
              "      <td>2.0</td>\n",
              "    </tr>\n",
              "    <tr>\n",
              "      <th>3</th>\n",
              "      <td>105</td>\n",
              "      <td>Gunma</td>\n",
              "      <td>1996</td>\n",
              "      <td>Kitamura</td>\n",
              "      <td>NaN</td>\n",
              "      <td>NaN</td>\n",
              "      <td>NaN</td>\n",
              "      <td>NaN</td>\n",
              "    </tr>\n",
              "    <tr>\n",
              "      <th>4</th>\n",
              "      <td>106</td>\n",
              "      <td>Tokyo</td>\n",
              "      <td>1981</td>\n",
              "      <td>Aoki</td>\n",
              "      <td>NaN</td>\n",
              "      <td>NaN</td>\n",
              "      <td>NaN</td>\n",
              "      <td>NaN</td>\n",
              "    </tr>\n",
              "  </tbody>\n",
              "</table>\n",
              "</div>"
            ],
            "text/plain": [
              "    ID   city  birth_year      name  math  English  sex  index_num\n",
              "0  100  Tokyo        1991    Yamada  34.0     47.0    F        0.0\n",
              "1  101  Chiba        1992      Sato  77.0     64.0    M        1.0\n",
              "2  102  Kyoto        1985    Suzuki  45.0     16.0    F        2.0\n",
              "3  105  Gunma        1996  Kitamura   NaN      NaN  NaN        NaN\n",
              "4  106  Tokyo        1981      Aoki   NaN      NaN  NaN        NaN"
            ]
          },
          "metadata": {
            "tags": []
          },
          "execution_count": 10
        }
      ]
    },
    {
      "cell_type": "code",
      "metadata": {
        "colab": {
          "base_uri": "https://localhost:8080/",
          "height": 205
        },
        "id": "GdLJoZKTMghx",
        "outputId": "f9402133-fed0-4867-d225-a04643efafb8"
      },
      "source": [
        "right_join"
      ],
      "execution_count": 11,
      "outputs": [
        {
          "output_type": "execute_result",
          "data": {
            "text/html": [
              "<div>\n",
              "<style scoped>\n",
              "    .dataframe tbody tr th:only-of-type {\n",
              "        vertical-align: middle;\n",
              "    }\n",
              "\n",
              "    .dataframe tbody tr th {\n",
              "        vertical-align: top;\n",
              "    }\n",
              "\n",
              "    .dataframe thead th {\n",
              "        text-align: right;\n",
              "    }\n",
              "</style>\n",
              "<table border=\"1\" class=\"dataframe\">\n",
              "  <thead>\n",
              "    <tr style=\"text-align: right;\">\n",
              "      <th></th>\n",
              "      <th>ID</th>\n",
              "      <th>city</th>\n",
              "      <th>birth_year</th>\n",
              "      <th>name</th>\n",
              "      <th>math</th>\n",
              "      <th>English</th>\n",
              "      <th>sex</th>\n",
              "      <th>index_num</th>\n",
              "    </tr>\n",
              "  </thead>\n",
              "  <tbody>\n",
              "    <tr>\n",
              "      <th>0</th>\n",
              "      <td>100</td>\n",
              "      <td>Tokyo</td>\n",
              "      <td>1991.0</td>\n",
              "      <td>Yamada</td>\n",
              "      <td>34</td>\n",
              "      <td>47</td>\n",
              "      <td>F</td>\n",
              "      <td>0</td>\n",
              "    </tr>\n",
              "    <tr>\n",
              "      <th>1</th>\n",
              "      <td>101</td>\n",
              "      <td>Chiba</td>\n",
              "      <td>1992.0</td>\n",
              "      <td>Sato</td>\n",
              "      <td>77</td>\n",
              "      <td>64</td>\n",
              "      <td>M</td>\n",
              "      <td>1</td>\n",
              "    </tr>\n",
              "    <tr>\n",
              "      <th>2</th>\n",
              "      <td>102</td>\n",
              "      <td>Kyoto</td>\n",
              "      <td>1985.0</td>\n",
              "      <td>Suzuki</td>\n",
              "      <td>45</td>\n",
              "      <td>16</td>\n",
              "      <td>F</td>\n",
              "      <td>2</td>\n",
              "    </tr>\n",
              "    <tr>\n",
              "      <th>3</th>\n",
              "      <td>103</td>\n",
              "      <td>NaN</td>\n",
              "      <td>NaN</td>\n",
              "      <td>NaN</td>\n",
              "      <td>81</td>\n",
              "      <td>53</td>\n",
              "      <td>F</td>\n",
              "      <td>3</td>\n",
              "    </tr>\n",
              "    <tr>\n",
              "      <th>4</th>\n",
              "      <td>104</td>\n",
              "      <td>NaN</td>\n",
              "      <td>NaN</td>\n",
              "      <td>NaN</td>\n",
              "      <td>98</td>\n",
              "      <td>37</td>\n",
              "      <td>M</td>\n",
              "      <td>4</td>\n",
              "    </tr>\n",
              "  </tbody>\n",
              "</table>\n",
              "</div>"
            ],
            "text/plain": [
              "    ID   city  birth_year    name  math  English sex  index_num\n",
              "0  100  Tokyo      1991.0  Yamada    34       47   F          0\n",
              "1  101  Chiba      1992.0    Sato    77       64   M          1\n",
              "2  102  Kyoto      1985.0  Suzuki    45       16   F          2\n",
              "3  103    NaN         NaN     NaN    81       53   F          3\n",
              "4  104    NaN         NaN     NaN    98       37   M          4"
            ]
          },
          "metadata": {
            "tags": []
          },
          "execution_count": 11
        }
      ]
    },
    {
      "cell_type": "code",
      "metadata": {
        "colab": {
          "base_uri": "https://localhost:8080/",
          "height": 205
        },
        "id": "1vCnKKiNQZ9z",
        "outputId": "236b4d3e-de97-46d6-83a3-eb41bee8ca7a"
      },
      "source": [
        "index_join"
      ],
      "execution_count": 12,
      "outputs": [
        {
          "output_type": "execute_result",
          "data": {
            "text/html": [
              "<div>\n",
              "<style scoped>\n",
              "    .dataframe tbody tr th:only-of-type {\n",
              "        vertical-align: middle;\n",
              "    }\n",
              "\n",
              "    .dataframe tbody tr th {\n",
              "        vertical-align: top;\n",
              "    }\n",
              "\n",
              "    .dataframe thead th {\n",
              "        text-align: right;\n",
              "    }\n",
              "</style>\n",
              "<table border=\"1\" class=\"dataframe\">\n",
              "  <thead>\n",
              "    <tr style=\"text-align: right;\">\n",
              "      <th></th>\n",
              "      <th>ID_x</th>\n",
              "      <th>city</th>\n",
              "      <th>birth_year</th>\n",
              "      <th>name</th>\n",
              "      <th>ID_y</th>\n",
              "      <th>math</th>\n",
              "      <th>English</th>\n",
              "      <th>sex</th>\n",
              "      <th>index_num</th>\n",
              "    </tr>\n",
              "  </thead>\n",
              "  <tbody>\n",
              "    <tr>\n",
              "      <th>0</th>\n",
              "      <td>100</td>\n",
              "      <td>Tokyo</td>\n",
              "      <td>1991</td>\n",
              "      <td>Yamada</td>\n",
              "      <td>100</td>\n",
              "      <td>34</td>\n",
              "      <td>47</td>\n",
              "      <td>F</td>\n",
              "      <td>0</td>\n",
              "    </tr>\n",
              "    <tr>\n",
              "      <th>1</th>\n",
              "      <td>101</td>\n",
              "      <td>Chiba</td>\n",
              "      <td>1992</td>\n",
              "      <td>Sato</td>\n",
              "      <td>101</td>\n",
              "      <td>77</td>\n",
              "      <td>64</td>\n",
              "      <td>M</td>\n",
              "      <td>1</td>\n",
              "    </tr>\n",
              "    <tr>\n",
              "      <th>2</th>\n",
              "      <td>102</td>\n",
              "      <td>Kyoto</td>\n",
              "      <td>1985</td>\n",
              "      <td>Suzuki</td>\n",
              "      <td>102</td>\n",
              "      <td>45</td>\n",
              "      <td>16</td>\n",
              "      <td>F</td>\n",
              "      <td>2</td>\n",
              "    </tr>\n",
              "    <tr>\n",
              "      <th>3</th>\n",
              "      <td>105</td>\n",
              "      <td>Gunma</td>\n",
              "      <td>1996</td>\n",
              "      <td>Kitamura</td>\n",
              "      <td>103</td>\n",
              "      <td>81</td>\n",
              "      <td>53</td>\n",
              "      <td>F</td>\n",
              "      <td>3</td>\n",
              "    </tr>\n",
              "    <tr>\n",
              "      <th>4</th>\n",
              "      <td>106</td>\n",
              "      <td>Tokyo</td>\n",
              "      <td>1981</td>\n",
              "      <td>Aoki</td>\n",
              "      <td>104</td>\n",
              "      <td>98</td>\n",
              "      <td>37</td>\n",
              "      <td>M</td>\n",
              "      <td>4</td>\n",
              "    </tr>\n",
              "  </tbody>\n",
              "</table>\n",
              "</div>"
            ],
            "text/plain": [
              "  ID_x   city  birth_year      name ID_y  math  English sex  index_num\n",
              "0  100  Tokyo        1991    Yamada  100    34       47   F          0\n",
              "1  101  Chiba        1992      Sato  101    77       64   M          1\n",
              "2  102  Kyoto        1985    Suzuki  102    45       16   F          2\n",
              "3  105  Gunma        1996  Kitamura  103    81       53   F          3\n",
              "4  106  Tokyo        1981      Aoki  104    98       37   M          4"
            ]
          },
          "metadata": {
            "tags": []
          },
          "execution_count": 12
        }
      ]
    },
    {
      "cell_type": "markdown",
      "metadata": {
        "id": "9Czxj6wtEfTu"
      },
      "source": [
        "## concatinate用の別データ"
      ]
    },
    {
      "cell_type": "code",
      "metadata": {
        "id": "9xJxg0hiQiXx"
      },
      "source": [
        "# データ1の準備\n",
        "data3 = {'ID':['100','101','102','105','106']\n",
        "        ,'city':['Tokyo','Chiba','Kyoto','Gunma','Tokyo']\n",
        "        ,'birth_year':[1991,1992,1985,1996,1981]\n",
        "        ,'name':['Yamada','Sato','Suzuki','Kitamura','Aoki']}\n",
        "df3 = DataFrame(data3)\n",
        "\n",
        "# データ3の準備\n",
        "data4 = {'ID':['110','111','112']\n",
        "        ,'city':['Akita','Okinawa','Fukuoka']\n",
        "        ,'birth_year':[1992,1987,1990]\n",
        "        ,'name':['Ishida','Takada','Shimada']}\n",
        "df4 = DataFrame(data4)\n"
      ],
      "execution_count": 14,
      "outputs": []
    },
    {
      "cell_type": "code",
      "metadata": {
        "colab": {
          "base_uri": "https://localhost:8080/",
          "height": 205
        },
        "id": "TkqzxehJQ4bG",
        "outputId": "ba6989c2-c691-4d33-d5df-5bd4431747fd"
      },
      "source": [
        "df3"
      ],
      "execution_count": 15,
      "outputs": [
        {
          "output_type": "execute_result",
          "data": {
            "text/html": [
              "<div>\n",
              "<style scoped>\n",
              "    .dataframe tbody tr th:only-of-type {\n",
              "        vertical-align: middle;\n",
              "    }\n",
              "\n",
              "    .dataframe tbody tr th {\n",
              "        vertical-align: top;\n",
              "    }\n",
              "\n",
              "    .dataframe thead th {\n",
              "        text-align: right;\n",
              "    }\n",
              "</style>\n",
              "<table border=\"1\" class=\"dataframe\">\n",
              "  <thead>\n",
              "    <tr style=\"text-align: right;\">\n",
              "      <th></th>\n",
              "      <th>ID</th>\n",
              "      <th>city</th>\n",
              "      <th>birth_year</th>\n",
              "      <th>name</th>\n",
              "    </tr>\n",
              "  </thead>\n",
              "  <tbody>\n",
              "    <tr>\n",
              "      <th>0</th>\n",
              "      <td>100</td>\n",
              "      <td>Tokyo</td>\n",
              "      <td>1991</td>\n",
              "      <td>Yamada</td>\n",
              "    </tr>\n",
              "    <tr>\n",
              "      <th>1</th>\n",
              "      <td>101</td>\n",
              "      <td>Chiba</td>\n",
              "      <td>1992</td>\n",
              "      <td>Sato</td>\n",
              "    </tr>\n",
              "    <tr>\n",
              "      <th>2</th>\n",
              "      <td>102</td>\n",
              "      <td>Kyoto</td>\n",
              "      <td>1985</td>\n",
              "      <td>Suzuki</td>\n",
              "    </tr>\n",
              "    <tr>\n",
              "      <th>3</th>\n",
              "      <td>105</td>\n",
              "      <td>Gunma</td>\n",
              "      <td>1996</td>\n",
              "      <td>Kitamura</td>\n",
              "    </tr>\n",
              "    <tr>\n",
              "      <th>4</th>\n",
              "      <td>106</td>\n",
              "      <td>Tokyo</td>\n",
              "      <td>1981</td>\n",
              "      <td>Aoki</td>\n",
              "    </tr>\n",
              "  </tbody>\n",
              "</table>\n",
              "</div>"
            ],
            "text/plain": [
              "    ID   city  birth_year      name\n",
              "0  100  Tokyo        1991    Yamada\n",
              "1  101  Chiba        1992      Sato\n",
              "2  102  Kyoto        1985    Suzuki\n",
              "3  105  Gunma        1996  Kitamura\n",
              "4  106  Tokyo        1981      Aoki"
            ]
          },
          "metadata": {
            "tags": []
          },
          "execution_count": 15
        }
      ]
    },
    {
      "cell_type": "code",
      "metadata": {
        "colab": {
          "base_uri": "https://localhost:8080/",
          "height": 143
        },
        "id": "oOnKZBhgQ8nW",
        "outputId": "66a0b94f-aa79-45ca-fb73-a122621a8eed"
      },
      "source": [
        "df4"
      ],
      "execution_count": 16,
      "outputs": [
        {
          "output_type": "execute_result",
          "data": {
            "text/html": [
              "<div>\n",
              "<style scoped>\n",
              "    .dataframe tbody tr th:only-of-type {\n",
              "        vertical-align: middle;\n",
              "    }\n",
              "\n",
              "    .dataframe tbody tr th {\n",
              "        vertical-align: top;\n",
              "    }\n",
              "\n",
              "    .dataframe thead th {\n",
              "        text-align: right;\n",
              "    }\n",
              "</style>\n",
              "<table border=\"1\" class=\"dataframe\">\n",
              "  <thead>\n",
              "    <tr style=\"text-align: right;\">\n",
              "      <th></th>\n",
              "      <th>ID</th>\n",
              "      <th>city</th>\n",
              "      <th>birth_year</th>\n",
              "      <th>name</th>\n",
              "    </tr>\n",
              "  </thead>\n",
              "  <tbody>\n",
              "    <tr>\n",
              "      <th>0</th>\n",
              "      <td>110</td>\n",
              "      <td>Akita</td>\n",
              "      <td>1992</td>\n",
              "      <td>Ishida</td>\n",
              "    </tr>\n",
              "    <tr>\n",
              "      <th>1</th>\n",
              "      <td>111</td>\n",
              "      <td>Okinawa</td>\n",
              "      <td>1987</td>\n",
              "      <td>Takada</td>\n",
              "    </tr>\n",
              "    <tr>\n",
              "      <th>2</th>\n",
              "      <td>112</td>\n",
              "      <td>Fukuoka</td>\n",
              "      <td>1990</td>\n",
              "      <td>Shimada</td>\n",
              "    </tr>\n",
              "  </tbody>\n",
              "</table>\n",
              "</div>"
            ],
            "text/plain": [
              "    ID     city  birth_year     name\n",
              "0  110    Akita        1992   Ishida\n",
              "1  111  Okinawa        1987   Takada\n",
              "2  112  Fukuoka        1990  Shimada"
            ]
          },
          "metadata": {
            "tags": []
          },
          "execution_count": 16
        }
      ]
    },
    {
      "cell_type": "code",
      "metadata": {
        "id": "Rqe_3IeYQ9aK"
      },
      "source": [
        "# concatinate\n",
        "concat=pd.concat([df3, df4])"
      ],
      "execution_count": 17,
      "outputs": []
    },
    {
      "cell_type": "code",
      "metadata": {
        "colab": {
          "base_uri": "https://localhost:8080/",
          "height": 300
        },
        "id": "5IoeKsSWRMQ-",
        "outputId": "01523cb8-ef45-4050-9c31-fd87ac91d1bc"
      },
      "source": [
        "concat"
      ],
      "execution_count": 18,
      "outputs": [
        {
          "output_type": "execute_result",
          "data": {
            "text/html": [
              "<div>\n",
              "<style scoped>\n",
              "    .dataframe tbody tr th:only-of-type {\n",
              "        vertical-align: middle;\n",
              "    }\n",
              "\n",
              "    .dataframe tbody tr th {\n",
              "        vertical-align: top;\n",
              "    }\n",
              "\n",
              "    .dataframe thead th {\n",
              "        text-align: right;\n",
              "    }\n",
              "</style>\n",
              "<table border=\"1\" class=\"dataframe\">\n",
              "  <thead>\n",
              "    <tr style=\"text-align: right;\">\n",
              "      <th></th>\n",
              "      <th>ID</th>\n",
              "      <th>city</th>\n",
              "      <th>birth_year</th>\n",
              "      <th>name</th>\n",
              "    </tr>\n",
              "  </thead>\n",
              "  <tbody>\n",
              "    <tr>\n",
              "      <th>0</th>\n",
              "      <td>100</td>\n",
              "      <td>Tokyo</td>\n",
              "      <td>1991</td>\n",
              "      <td>Yamada</td>\n",
              "    </tr>\n",
              "    <tr>\n",
              "      <th>1</th>\n",
              "      <td>101</td>\n",
              "      <td>Chiba</td>\n",
              "      <td>1992</td>\n",
              "      <td>Sato</td>\n",
              "    </tr>\n",
              "    <tr>\n",
              "      <th>2</th>\n",
              "      <td>102</td>\n",
              "      <td>Kyoto</td>\n",
              "      <td>1985</td>\n",
              "      <td>Suzuki</td>\n",
              "    </tr>\n",
              "    <tr>\n",
              "      <th>3</th>\n",
              "      <td>105</td>\n",
              "      <td>Gunma</td>\n",
              "      <td>1996</td>\n",
              "      <td>Kitamura</td>\n",
              "    </tr>\n",
              "    <tr>\n",
              "      <th>4</th>\n",
              "      <td>106</td>\n",
              "      <td>Tokyo</td>\n",
              "      <td>1981</td>\n",
              "      <td>Aoki</td>\n",
              "    </tr>\n",
              "    <tr>\n",
              "      <th>0</th>\n",
              "      <td>110</td>\n",
              "      <td>Akita</td>\n",
              "      <td>1992</td>\n",
              "      <td>Ishida</td>\n",
              "    </tr>\n",
              "    <tr>\n",
              "      <th>1</th>\n",
              "      <td>111</td>\n",
              "      <td>Okinawa</td>\n",
              "      <td>1987</td>\n",
              "      <td>Takada</td>\n",
              "    </tr>\n",
              "    <tr>\n",
              "      <th>2</th>\n",
              "      <td>112</td>\n",
              "      <td>Fukuoka</td>\n",
              "      <td>1990</td>\n",
              "      <td>Shimada</td>\n",
              "    </tr>\n",
              "  </tbody>\n",
              "</table>\n",
              "</div>"
            ],
            "text/plain": [
              "    ID     city  birth_year      name\n",
              "0  100    Tokyo        1991    Yamada\n",
              "1  101    Chiba        1992      Sato\n",
              "2  102    Kyoto        1985    Suzuki\n",
              "3  105    Gunma        1996  Kitamura\n",
              "4  106    Tokyo        1981      Aoki\n",
              "0  110    Akita        1992    Ishida\n",
              "1  111  Okinawa        1987    Takada\n",
              "2  112  Fukuoka        1990   Shimada"
            ]
          },
          "metadata": {
            "tags": []
          },
          "execution_count": 18
        }
      ]
    },
    {
      "cell_type": "code",
      "metadata": {
        "id": "pjAjufAqRuis",
        "colab": {
          "base_uri": "https://localhost:8080/",
          "height": 300
        },
        "outputId": "dc4cf6ef-a954-4d87-d21f-4334ec311332"
      },
      "source": [
        "pd.merge(df3, df4, how=\"outer\")"
      ],
      "execution_count": 19,
      "outputs": [
        {
          "output_type": "execute_result",
          "data": {
            "text/html": [
              "<div>\n",
              "<style scoped>\n",
              "    .dataframe tbody tr th:only-of-type {\n",
              "        vertical-align: middle;\n",
              "    }\n",
              "\n",
              "    .dataframe tbody tr th {\n",
              "        vertical-align: top;\n",
              "    }\n",
              "\n",
              "    .dataframe thead th {\n",
              "        text-align: right;\n",
              "    }\n",
              "</style>\n",
              "<table border=\"1\" class=\"dataframe\">\n",
              "  <thead>\n",
              "    <tr style=\"text-align: right;\">\n",
              "      <th></th>\n",
              "      <th>ID</th>\n",
              "      <th>city</th>\n",
              "      <th>birth_year</th>\n",
              "      <th>name</th>\n",
              "    </tr>\n",
              "  </thead>\n",
              "  <tbody>\n",
              "    <tr>\n",
              "      <th>0</th>\n",
              "      <td>100</td>\n",
              "      <td>Tokyo</td>\n",
              "      <td>1991</td>\n",
              "      <td>Yamada</td>\n",
              "    </tr>\n",
              "    <tr>\n",
              "      <th>1</th>\n",
              "      <td>101</td>\n",
              "      <td>Chiba</td>\n",
              "      <td>1992</td>\n",
              "      <td>Sato</td>\n",
              "    </tr>\n",
              "    <tr>\n",
              "      <th>2</th>\n",
              "      <td>102</td>\n",
              "      <td>Kyoto</td>\n",
              "      <td>1985</td>\n",
              "      <td>Suzuki</td>\n",
              "    </tr>\n",
              "    <tr>\n",
              "      <th>3</th>\n",
              "      <td>105</td>\n",
              "      <td>Gunma</td>\n",
              "      <td>1996</td>\n",
              "      <td>Kitamura</td>\n",
              "    </tr>\n",
              "    <tr>\n",
              "      <th>4</th>\n",
              "      <td>106</td>\n",
              "      <td>Tokyo</td>\n",
              "      <td>1981</td>\n",
              "      <td>Aoki</td>\n",
              "    </tr>\n",
              "    <tr>\n",
              "      <th>5</th>\n",
              "      <td>110</td>\n",
              "      <td>Akita</td>\n",
              "      <td>1992</td>\n",
              "      <td>Ishida</td>\n",
              "    </tr>\n",
              "    <tr>\n",
              "      <th>6</th>\n",
              "      <td>111</td>\n",
              "      <td>Okinawa</td>\n",
              "      <td>1987</td>\n",
              "      <td>Takada</td>\n",
              "    </tr>\n",
              "    <tr>\n",
              "      <th>7</th>\n",
              "      <td>112</td>\n",
              "      <td>Fukuoka</td>\n",
              "      <td>1990</td>\n",
              "      <td>Shimada</td>\n",
              "    </tr>\n",
              "  </tbody>\n",
              "</table>\n",
              "</div>"
            ],
            "text/plain": [
              "    ID     city  birth_year      name\n",
              "0  100    Tokyo        1991    Yamada\n",
              "1  101    Chiba        1992      Sato\n",
              "2  102    Kyoto        1985    Suzuki\n",
              "3  105    Gunma        1996  Kitamura\n",
              "4  106    Tokyo        1981      Aoki\n",
              "5  110    Akita        1992    Ishida\n",
              "6  111  Okinawa        1987    Takada\n",
              "7  112  Fukuoka        1990   Shimada"
            ]
          },
          "metadata": {
            "tags": []
          },
          "execution_count": 19
        }
      ]
    },
    {
      "cell_type": "markdown",
      "metadata": {
        "id": "6NoppgklEoQD"
      },
      "source": [
        "## カラム削除の例"
      ]
    },
    {
      "cell_type": "code",
      "metadata": {
        "id": "l_IlxCcTR0Ma",
        "colab": {
          "base_uri": "https://localhost:8080/",
          "height": 205
        },
        "outputId": "33980b27-8fa1-4f6a-ebb6-2bbf9321184d"
      },
      "source": [
        "df3.drop(\"name\",axis=1)"
      ],
      "execution_count": 20,
      "outputs": [
        {
          "output_type": "execute_result",
          "data": {
            "text/html": [
              "<div>\n",
              "<style scoped>\n",
              "    .dataframe tbody tr th:only-of-type {\n",
              "        vertical-align: middle;\n",
              "    }\n",
              "\n",
              "    .dataframe tbody tr th {\n",
              "        vertical-align: top;\n",
              "    }\n",
              "\n",
              "    .dataframe thead th {\n",
              "        text-align: right;\n",
              "    }\n",
              "</style>\n",
              "<table border=\"1\" class=\"dataframe\">\n",
              "  <thead>\n",
              "    <tr style=\"text-align: right;\">\n",
              "      <th></th>\n",
              "      <th>ID</th>\n",
              "      <th>city</th>\n",
              "      <th>birth_year</th>\n",
              "    </tr>\n",
              "  </thead>\n",
              "  <tbody>\n",
              "    <tr>\n",
              "      <th>0</th>\n",
              "      <td>100</td>\n",
              "      <td>Tokyo</td>\n",
              "      <td>1991</td>\n",
              "    </tr>\n",
              "    <tr>\n",
              "      <th>1</th>\n",
              "      <td>101</td>\n",
              "      <td>Chiba</td>\n",
              "      <td>1992</td>\n",
              "    </tr>\n",
              "    <tr>\n",
              "      <th>2</th>\n",
              "      <td>102</td>\n",
              "      <td>Kyoto</td>\n",
              "      <td>1985</td>\n",
              "    </tr>\n",
              "    <tr>\n",
              "      <th>3</th>\n",
              "      <td>105</td>\n",
              "      <td>Gunma</td>\n",
              "      <td>1996</td>\n",
              "    </tr>\n",
              "    <tr>\n",
              "      <th>4</th>\n",
              "      <td>106</td>\n",
              "      <td>Tokyo</td>\n",
              "      <td>1981</td>\n",
              "    </tr>\n",
              "  </tbody>\n",
              "</table>\n",
              "</div>"
            ],
            "text/plain": [
              "    ID   city  birth_year\n",
              "0  100  Tokyo        1991\n",
              "1  101  Chiba        1992\n",
              "2  102  Kyoto        1985\n",
              "3  105  Gunma        1996\n",
              "4  106  Tokyo        1981"
            ]
          },
          "metadata": {
            "tags": []
          },
          "execution_count": 20
        }
      ]
    },
    {
      "cell_type": "code",
      "metadata": {
        "colab": {
          "base_uri": "https://localhost:8080/"
        },
        "id": "MVT9fhuQqsIN",
        "outputId": "37ff5169-e9e4-45c3-f028-4658f30bc1dc"
      },
      "source": [
        "df3['city'].str.cat([df3['name']], sep='-')"
      ],
      "execution_count": null,
      "outputs": [
        {
          "output_type": "execute_result",
          "data": {
            "text/plain": [
              "0      Tokyo-Yamada\n",
              "1        Chiba-Sato\n",
              "2      Kyoto-Suzuki\n",
              "3    Gunma-Kitamura\n",
              "4        Tokyo-Aoki\n",
              "Name: city, dtype: object"
            ]
          },
          "metadata": {
            "tags": []
          },
          "execution_count": 40
        }
      ]
    },
    {
      "cell_type": "markdown",
      "metadata": {
        "id": "4KbgkrwcEsU2"
      },
      "source": [
        "## カラムを結合して別のカラムをつくる例"
      ]
    },
    {
      "cell_type": "code",
      "metadata": {
        "id": "FTcWc1Wprvgi"
      },
      "source": [
        "  df3[\"cityname\"]=df3['city'].str.cat([df3['name']], sep='-')"
      ],
      "execution_count": 21,
      "outputs": []
    },
    {
      "cell_type": "code",
      "metadata": {
        "colab": {
          "base_uri": "https://localhost:8080/",
          "height": 204
        },
        "id": "NLxYDCADsq3B",
        "outputId": "b3882456-6503-407d-810b-9f58db14d89c"
      },
      "source": [
        "df3"
      ],
      "execution_count": null,
      "outputs": [
        {
          "output_type": "execute_result",
          "data": {
            "text/html": [
              "<div>\n",
              "<style scoped>\n",
              "    .dataframe tbody tr th:only-of-type {\n",
              "        vertical-align: middle;\n",
              "    }\n",
              "\n",
              "    .dataframe tbody tr th {\n",
              "        vertical-align: top;\n",
              "    }\n",
              "\n",
              "    .dataframe thead th {\n",
              "        text-align: right;\n",
              "    }\n",
              "</style>\n",
              "<table border=\"1\" class=\"dataframe\">\n",
              "  <thead>\n",
              "    <tr style=\"text-align: right;\">\n",
              "      <th></th>\n",
              "      <th>ID</th>\n",
              "      <th>city</th>\n",
              "      <th>birth_year</th>\n",
              "      <th>name</th>\n",
              "      <th>cityname</th>\n",
              "    </tr>\n",
              "  </thead>\n",
              "  <tbody>\n",
              "    <tr>\n",
              "      <th>0</th>\n",
              "      <td>100</td>\n",
              "      <td>Tokyo</td>\n",
              "      <td>1991</td>\n",
              "      <td>Yamada</td>\n",
              "      <td>Tokyo-Yamada</td>\n",
              "    </tr>\n",
              "    <tr>\n",
              "      <th>1</th>\n",
              "      <td>101</td>\n",
              "      <td>Chiba</td>\n",
              "      <td>1992</td>\n",
              "      <td>Sato</td>\n",
              "      <td>Chiba-Sato</td>\n",
              "    </tr>\n",
              "    <tr>\n",
              "      <th>2</th>\n",
              "      <td>102</td>\n",
              "      <td>Kyoto</td>\n",
              "      <td>1985</td>\n",
              "      <td>Suzuki</td>\n",
              "      <td>Kyoto-Suzuki</td>\n",
              "    </tr>\n",
              "    <tr>\n",
              "      <th>3</th>\n",
              "      <td>105</td>\n",
              "      <td>Gunma</td>\n",
              "      <td>1996</td>\n",
              "      <td>Kitamura</td>\n",
              "      <td>Gunma-Kitamura</td>\n",
              "    </tr>\n",
              "    <tr>\n",
              "      <th>4</th>\n",
              "      <td>106</td>\n",
              "      <td>Tokyo</td>\n",
              "      <td>1981</td>\n",
              "      <td>Aoki</td>\n",
              "      <td>Tokyo-Aoki</td>\n",
              "    </tr>\n",
              "  </tbody>\n",
              "</table>\n",
              "</div>"
            ],
            "text/plain": [
              "    ID   city  birth_year      name        cityname\n",
              "0  100  Tokyo        1991    Yamada    Tokyo-Yamada\n",
              "1  101  Chiba        1992      Sato      Chiba-Sato\n",
              "2  102  Kyoto        1985    Suzuki    Kyoto-Suzuki\n",
              "3  105  Gunma        1996  Kitamura  Gunma-Kitamura\n",
              "4  106  Tokyo        1981      Aoki      Tokyo-Aoki"
            ]
          },
          "metadata": {
            "tags": []
          },
          "execution_count": 42
        }
      ]
    },
    {
      "cell_type": "code",
      "metadata": {
        "id": "-FPjdLYnsry0"
      },
      "source": [
        ""
      ],
      "execution_count": null,
      "outputs": []
    }
  ]
}