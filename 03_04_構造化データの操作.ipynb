{
  "nbformat": 4,
  "nbformat_minor": 0,
  "metadata": {
    "colab": {
      "name": "03-04_構造化データの操作.ipynb",
      "provenance": [],
      "authorship_tag": "ABX9TyO+mQhFpoq61hQ+HtdD/mvm",
      "include_colab_link": true
    },
    "kernelspec": {
      "name": "python3",
      "display_name": "Python 3"
    },
    "language_info": {
      "name": "python"
    }
  },
  "cells": [
    {
      "cell_type": "markdown",
      "metadata": {
        "id": "view-in-github",
        "colab_type": "text"
      },
      "source": [
        "<a href=\"https://colab.research.google.com/github/hamagami/preprocess/blob/main/03_04_%E6%A7%8B%E9%80%A0%E5%8C%96%E3%83%87%E3%83%BC%E3%82%BF%E3%81%AE%E6%93%8D%E4%BD%9C.ipynb\" target=\"_parent\"><img src=\"https://colab.research.google.com/assets/colab-badge.svg\" alt=\"Open In Colab\"/></a>"
      ]
    },
    {
      "cell_type": "markdown",
      "metadata": {
        "id": "C5ALzZiFEAnP"
      },
      "source": [
        "# 構造化データの操作\n",
        "pandas の表の操作例を簡単なデータを使って試してみます\n",
        "excelでできることはpandasでほぼできますし，前処理としてはそれ以上のことができます"
      ]
    },
    {
      "cell_type": "code",
      "metadata": {
        "id": "g0xZq_qMOW2T"
      },
      "source": [
        "import pandas as pd\n",
        "#from pandas import Series, DataFrame\n",
        "from pandas import DataFrame"
      ],
      "execution_count": 1,
      "outputs": []
    },
    {
      "cell_type": "markdown",
      "metadata": {
        "id": "Pg9WRcLaEJhQ"
      },
      "source": [
        "## わかりやすいように簡単な表データを直接書き込みます（通常はファイルから読みこみます）\n",
        "df1 と　df2 という　pandas.DataFrame形式の表をつくります"
      ]
    },
    {
      "cell_type": "code",
      "metadata": {
        "id": "piBOqz7fOycj"
      },
      "source": [
        "# データ1の準備\n",
        "data1 = {'ID':['100','101','102','105','106']\n",
        "        ,'city':['Tokyo','Chiba','Kyoto','Gunma','Tokyo']\n",
        "        ,'birth_year':[1991,1992,1985,1996,1981]\n",
        "        ,'name':['Yamada','Sato','Suzuki','Kitamura','Aoki']}\n",
        "df1 = DataFrame(data1)\n",
        "\n",
        "# データ2の準備\n",
        "data2 = {'ID':['100','101','102','103','104']\n",
        "        ,'math':[34,77,45,81,98]\n",
        "        ,'English':[47,64,16,53,37]\n",
        "        ,'sex':['F','M','F','F','M']\n",
        "        ,'index_num':[0,1,2,3,4]}\n",
        "df2 = DataFrame(data2)\n"
      ],
      "execution_count": 2,
      "outputs": []
    },
    {
      "cell_type": "markdown",
      "metadata": {
        "id": "EAMoGNqOENR2"
      },
      "source": [
        "## データを表示します"
      ]
    },
    {
      "cell_type": "code",
      "metadata": {
        "id": "pHvFJ7CqO5Ro"
      },
      "source": [
        "df1"
      ],
      "execution_count": null,
      "outputs": []
    },
    {
      "cell_type": "code",
      "metadata": {
        "id": "NPnJUNK7PNSm"
      },
      "source": [
        "df2"
      ],
      "execution_count": null,
      "outputs": []
    },
    {
      "cell_type": "markdown",
      "metadata": {
        "id": "3k4gyjP3ER4D"
      },
      "source": [
        "## 内部結合の例  \n",
        "## ID をキーに　inner outer  left right  とindex　で結合"
      ]
    },
    {
      "cell_type": "code",
      "metadata": {
        "id": "2no9GiwZPQKJ"
      },
      "source": [
        "# Inner join\n",
        "inner_join = pd.merge(df1, df2, how=\"inner\" ,on=\"ID\")\n",
        "\n",
        "# Outer join\n",
        "outer_join=pd.merge(df1, df2, how=\"outer\", on=\"ID\")\n",
        "\n",
        "# Left join\n",
        "left_join  = pd.merge(df1, df2, how=\"left\", on=\"ID\")\n",
        "\n",
        "# Right join\n",
        "right_join = pd.merge(df1,df2,how=\"right\", on=\"ID\")\n",
        "\n",
        "# indexによる結合\n",
        "index_join=pd.merge(df1, df2, left_index=True, right_on=\"index_num\")"
      ],
      "execution_count": 5,
      "outputs": []
    },
    {
      "cell_type": "code",
      "metadata": {
        "id": "RMttjBsMQUpJ"
      },
      "source": [
        "inner_join"
      ],
      "execution_count": null,
      "outputs": []
    },
    {
      "cell_type": "code",
      "metadata": {
        "id": "hJyYn0bLQWjc"
      },
      "source": [
        "outer_join"
      ],
      "execution_count": null,
      "outputs": []
    },
    {
      "cell_type": "code",
      "metadata": {
        "id": "tmvVohpYQYhd"
      },
      "source": [
        "left_join"
      ],
      "execution_count": null,
      "outputs": []
    },
    {
      "cell_type": "code",
      "metadata": {
        "id": "GdLJoZKTMghx"
      },
      "source": [
        "right_join"
      ],
      "execution_count": null,
      "outputs": []
    },
    {
      "cell_type": "code",
      "metadata": {
        "id": "1vCnKKiNQZ9z"
      },
      "source": [
        "index_join"
      ],
      "execution_count": null,
      "outputs": []
    },
    {
      "cell_type": "markdown",
      "metadata": {
        "id": "9Czxj6wtEfTu"
      },
      "source": [
        "## concatinate用の別データdf3, df4 の作成"
      ]
    },
    {
      "cell_type": "code",
      "metadata": {
        "id": "9xJxg0hiQiXx"
      },
      "source": [
        "# データ1の準備\n",
        "data3 = {'ID':['100','101','102','105','106']\n",
        "        ,'city':['Tokyo','Chiba','Kyoto','Gunma','Tokyo']\n",
        "        ,'birth_year':[1991,1992,1985,1996,1981]\n",
        "        ,'name':['Yamada','Sato','Suzuki','Kitamura','Aoki']}\n",
        "df3 = DataFrame(data3)\n",
        "\n",
        "# データ3の準備\n",
        "data4 = {'ID':['110','111','112']\n",
        "        ,'city':['Akita','Okinawa','Fukuoka']\n",
        "        ,'birth_year':[1992,1987,1990]\n",
        "        ,'name':['Ishida','Takada','Shimada']}\n",
        "df4 = DataFrame(data4)\n"
      ],
      "execution_count": 11,
      "outputs": []
    },
    {
      "cell_type": "code",
      "metadata": {
        "id": "TkqzxehJQ4bG"
      },
      "source": [
        "df3"
      ],
      "execution_count": null,
      "outputs": []
    },
    {
      "cell_type": "code",
      "metadata": {
        "id": "oOnKZBhgQ8nW"
      },
      "source": [
        "df4"
      ],
      "execution_count": null,
      "outputs": []
    },
    {
      "cell_type": "code",
      "metadata": {
        "id": "Rqe_3IeYQ9aK"
      },
      "source": [
        "# concatinate　　行方向に連結します\n",
        "concat=pd.concat([df3, df4])"
      ],
      "execution_count": 14,
      "outputs": []
    },
    {
      "cell_type": "code",
      "metadata": {
        "id": "5IoeKsSWRMQ-"
      },
      "source": [
        "concat"
      ],
      "execution_count": null,
      "outputs": []
    },
    {
      "cell_type": "markdown",
      "metadata": {
        "id": "m1fbEpxR9S6I"
      },
      "source": [
        "merge でも結合はできますがインデクスが付け替えられます"
      ]
    },
    {
      "cell_type": "code",
      "metadata": {
        "id": "pjAjufAqRuis"
      },
      "source": [
        "pd.merge(df3, df4, how=\"outer\")"
      ],
      "execution_count": null,
      "outputs": []
    },
    {
      "cell_type": "markdown",
      "metadata": {
        "id": "6NoppgklEoQD"
      },
      "source": [
        "## カラム削除の例\n",
        "特定のカラムの削除は　dropを使います"
      ]
    },
    {
      "cell_type": "code",
      "metadata": {
        "id": "l_IlxCcTR0Ma"
      },
      "source": [
        "df3.drop(\"name\",axis=1)"
      ],
      "execution_count": null,
      "outputs": []
    },
    {
      "cell_type": "markdown",
      "metadata": {
        "id": "PBYQDdBq8pCx"
      },
      "source": [
        "## カラムの結合の例\n",
        "２つのカラムを結合して１つにカラムにできます"
      ]
    },
    {
      "cell_type": "code",
      "metadata": {
        "id": "FTcWc1Wprvgi"
      },
      "source": [
        "  df3[\"cityname\"]=df3['city'].str.cat([df3['name']], sep='-')"
      ],
      "execution_count": 18,
      "outputs": []
    },
    {
      "cell_type": "code",
      "metadata": {
        "id": "NLxYDCADsq3B"
      },
      "source": [
        "df3"
      ],
      "execution_count": null,
      "outputs": []
    },
    {
      "cell_type": "code",
      "metadata": {
        "id": "-FPjdLYnsry0"
      },
      "source": [
        ""
      ],
      "execution_count": 19,
      "outputs": []
    }
  ]
}