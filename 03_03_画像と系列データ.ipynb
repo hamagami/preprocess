{
  "nbformat": 4,
  "nbformat_minor": 0,
  "metadata": {
    "colab": {
      "name": "03-03_画像と系列データ.ipynb",
      "provenance": [],
      "authorship_tag": "ABX9TyM9+y4HMVfx/LX1zLe929CI",
      "include_colab_link": true
    },
    "kernelspec": {
      "name": "python3",
      "display_name": "Python 3"
    },
    "language_info": {
      "name": "python"
    }
  },
  "cells": [
    {
      "cell_type": "markdown",
      "metadata": {
        "id": "view-in-github",
        "colab_type": "text"
      },
      "source": [
        "<a href=\"https://colab.research.google.com/github/hamagami/preprocess/blob/main/03_03_%E7%94%BB%E5%83%8F%E3%81%A8%E7%B3%BB%E5%88%97%E3%83%87%E3%83%BC%E3%82%BF.ipynb\" target=\"_parent\"><img src=\"https://colab.research.google.com/assets/colab-badge.svg\" alt=\"Open In Colab\"/></a>"
      ]
    },
    {
      "cell_type": "markdown",
      "metadata": {
        "id": "_gV3M2jPj-Pq"
      },
      "source": [
        "# 画像と系列データの扱い\n",
        "基本的な画像データや系列データの読み込みと扱い方です"
      ]
    },
    {
      "cell_type": "code",
      "metadata": {
        "id": "BFiotwrZkAPw"
      },
      "source": [
        "import pandas as pd\n",
        "import urllib.request \n",
        "import numpy as np\n",
        "from PIL import Image #画像を扱うモジュールはいくつかありますが最も基本的なpython image library(PIL)を例にあげます\n",
        "import matplotlib.pyplot as plt\n",
        "import urllib.request \n",
        "%matplotlib inline"
      ],
      "execution_count": null,
      "outputs": []
    },
    {
      "cell_type": "markdown",
      "metadata": {
        "id": "rC25foKRkp-e"
      },
      "source": [
        "## 画像データの読み込み"
      ]
    },
    {
      "cell_type": "code",
      "metadata": {
        "id": "6anw_-DFkmNE"
      },
      "source": [
        "url = \"https://dl.dropbox.com/s/9zmhzdrvse8h7n6/yokohama01.jpg\" #画像データ\n",
        "urllib.request.urlretrieve(url, 'yokohama.jpg') # titanicという名前で google colabのドライブに保存します\n"
      ],
      "execution_count": null,
      "outputs": []
    },
    {
      "cell_type": "code",
      "metadata": {
        "id": "l6Kkst7R21ig"
      },
      "source": [
        "img= Image.open(\"yokohama.jpg\")  # PIL(Python Image Library)で読みこみます"
      ],
      "execution_count": null,
      "outputs": []
    },
    {
      "cell_type": "code",
      "metadata": {
        "id": "gr-DbJtNmCvz"
      },
      "source": [
        "#画像データをnumpy形式にしてマトリクスデータにします，サイズを確認します　(x, y, depth )になります\n",
        "img_array = np.array(img)\n",
        "print(img_array.shape)"
      ],
      "execution_count": null,
      "outputs": []
    },
    {
      "cell_type": "markdown",
      "metadata": {
        "id": "ZYYgx5chnZae"
      },
      "source": [
        "### 画像を出力してみます"
      ]
    },
    {
      "cell_type": "code",
      "metadata": {
        "id": "4-v2odGjmFi1"
      },
      "source": [
        "plt.imshow(img_array)\n",
        "plt.title(\"Yokohama\")\n",
        "plt.show()"
      ],
      "execution_count": null,
      "outputs": []
    },
    {
      "cell_type": "markdown",
      "metadata": {
        "id": "IZWm1nLUno18"
      },
      "source": [
        "## データの中身を直接をみてみます\n",
        "numpy オブジェクトをそのまま評価してもprint文にいれてもいいです"
      ]
    },
    {
      "cell_type": "code",
      "metadata": {
        "id": "fftfCrWn3Lpk"
      },
      "source": [
        "img_array"
      ],
      "execution_count": null,
      "outputs": []
    },
    {
      "cell_type": "code",
      "metadata": {
        "id": "upA9zOwrnfp_"
      },
      "source": [
        "print(img_array) # hight x width ×　depth のテンソルになっています"
      ],
      "execution_count": null,
      "outputs": []
    },
    {
      "cell_type": "markdown",
      "metadata": {
        "id": "LUyqkVtaqiu8"
      },
      "source": [
        "## １チャネルだけを取り出して行列にして表示させてみる"
      ]
    },
    {
      "cell_type": "code",
      "metadata": {
        "id": "7mg3jxJuoy94"
      },
      "source": [
        "R = img_array[:, :, 0] # R  0ならばRチャネル\n",
        "G = img_array[:, :, 1] # G  1ならばGチャネル\n",
        "B = img_array[:, :, 2] # B　2ならばBチャネル　\n",
        "# ただし，PILでない別の画像処理モジュールだと別の並びになっていることがあるので注意です。"
      ],
      "execution_count": null,
      "outputs": []
    },
    {
      "cell_type": "code",
      "metadata": {
        "id": "kU9qz_ffnstz"
      },
      "source": [
        "plt.imshow(R,cmap=\"gray\") # Rの濃淡をグレーで表現\n",
        "plt.title(\"R channel\")\n",
        "plt.show()\n",
        "plt.imshow(G,cmap=\"gray\") # Gの濃淡をグレーで表現\n",
        "plt.title(\"G channel\")\n",
        "plt.show()\n",
        "plt.imshow(B,cmap=\"gray\") # Bの濃淡をグレーで表現\n",
        "plt.title(\"B channel\")\n",
        "plt.show()"
      ],
      "execution_count": null,
      "outputs": []
    },
    {
      "cell_type": "markdown",
      "metadata": {
        "id": "cI8dBAPgqpLR"
      },
      "source": [
        "## RGB合わせて正しくグレースケールにする\n",
        "\n",
        "\n"
      ]
    },
    {
      "cell_type": "code",
      "metadata": {
        "id": "gwslTQYFoCEt"
      },
      "source": [
        "img_gray = 0.299 * img_array[:, :, 0] + 0.587 * img_array[:, :, 1] + 0.114 * img_array[:, :, 2] #視覚的に正しいグレイスケール化(1:1:1ではないです)"
      ],
      "execution_count": null,
      "outputs": []
    },
    {
      "cell_type": "code",
      "metadata": {
        "id": "tL-MmTkjqQON"
      },
      "source": [
        "plt.imshow(img_gray,cmap=\"gray\")\n",
        "plt.title(\"gray scale\")\n",
        "plt.show()"
      ],
      "execution_count": null,
      "outputs": []
    },
    {
      "cell_type": "markdown",
      "metadata": {
        "id": "7QpJp7Yu4S7S"
      },
      "source": [
        "グレースケールにしたデータの中身を直接みてみます。マトリクスになっています"
      ]
    },
    {
      "cell_type": "code",
      "metadata": {
        "id": "IeRvTz0kqVce"
      },
      "source": [
        "print(img_gray.shape)# 中身は　hight x width の行列\n",
        "print(img_gray)"
      ],
      "execution_count": null,
      "outputs": []
    },
    {
      "cell_type": "markdown",
      "metadata": {
        "id": "nqxkh2iIskQa"
      },
      "source": [
        "##  2次元データを1次元に変えて(flatten) その結果をヒストグラムでみる　（輝度分布)"
      ]
    },
    {
      "cell_type": "code",
      "metadata": {
        "id": "f1G5JqMdqfPv"
      },
      "source": [
        "pixdata= img_gray.flatten()\n",
        "print(pixdata.shape)\n",
        "pixdata #1次元になっているかどうか表示してみます"
      ],
      "execution_count": null,
      "outputs": []
    },
    {
      "cell_type": "code",
      "metadata": {
        "id": "zDSWeY3zsfjD"
      },
      "source": [
        "plt.hist(pixdata,bins=50) #binの数を50\n",
        "plt.title(\"Luminance dist\")\n",
        "plt.show()"
      ],
      "execution_count": null,
      "outputs": []
    },
    {
      "cell_type": "markdown",
      "metadata": {
        "id": "kEMddnHT46-I"
      },
      "source": [
        "\n",
        "\n",
        "---\n",
        "\n",
        "\n",
        "\n",
        "---\n",
        "\n"
      ]
    },
    {
      "cell_type": "markdown",
      "metadata": {
        "id": "DD66SG_ztmbC"
      },
      "source": [
        "## 系列データの読み込み\n",
        "コロナの新規陽性者数のデータを厚労省のページからもってきます"
      ]
    },
    {
      "cell_type": "code",
      "metadata": {
        "id": "n8IWEuZds4ix"
      },
      "source": [
        ""
      ],
      "execution_count": null,
      "outputs": []
    },
    {
      "cell_type": "code",
      "metadata": {
        "id": "Q1WjtFlTtxTK"
      },
      "source": [
        "url = \"https://covid19.mhlw.go.jp/public/opendata/newly_confirmed_cases_daily.csv\" #新規陽性者数の推移（日別）\n",
        "urllib.request.urlretrieve(url, 'daily.csv') # daily.csvという名前で google colabのドライブに保存します"
      ],
      "execution_count": null,
      "outputs": []
    },
    {
      "cell_type": "code",
      "metadata": {
        "id": "6cpUUnmqvtTO"
      },
      "source": [
        "df= pd.read_csv(\"daily.csv\")  # PIL(Python Image Library)で読みこみます\n",
        "df #データの様子をみてみます"
      ],
      "execution_count": null,
      "outputs": []
    },
    {
      "cell_type": "markdown",
      "metadata": {
        "id": "jAgqw04U5KIm"
      },
      "source": [
        "## データの型を少し変えてみる"
      ]
    },
    {
      "cell_type": "code",
      "metadata": {
        "id": "O6MrXFkXzl6c"
      },
      "source": [
        "print(df.dtypes) # 単に読みこんだだけだと　date が Object型になっています　このままでも問題ありませんが，あとで時間軸の操作も行いたいので日付型に変換します\n",
        "df[\"Date\"] = pd.to_datetime(df[\"Date\"])\n",
        "print(df.dtypes)"
      ],
      "execution_count": null,
      "outputs": []
    },
    {
      "cell_type": "markdown",
      "metadata": {
        "id": "EOmRVRAe5ZYy"
      },
      "source": [
        "もう１度表示して型が変わっていることを確認"
      ]
    },
    {
      "cell_type": "code",
      "metadata": {
        "id": "uEShXDYx1ct0"
      },
      "source": [
        "df"
      ],
      "execution_count": null,
      "outputs": []
    },
    {
      "cell_type": "markdown",
      "metadata": {
        "id": "HwQFY_gc5hHt"
      },
      "source": [
        "# 都道府県ごとにデータを取り出してみる"
      ]
    },
    {
      "cell_type": "code",
      "metadata": {
        "id": "bVgi0k9PwA-_"
      },
      "source": [
        "tokyo_df = df[df[\"Prefecture\"] == \"Tokyo\"] # Tokyo だけのデータ\n",
        "osaka_df = df[df[\"Prefecture\"] == \"Osaka\"] # Oaka だけのデータ\n",
        "kanagawa_df= df[df[\"Prefecture\"] == \"Kanagawa\"] # Kanagawa だけのデータ"
      ],
      "execution_count": null,
      "outputs": []
    },
    {
      "cell_type": "markdown",
      "metadata": {
        "id": "O4lkUbU55nlG"
      },
      "source": [
        "東京のデータ"
      ]
    },
    {
      "cell_type": "code",
      "metadata": {
        "id": "hHPfy-PrwUZi"
      },
      "source": [
        "tokyo_df"
      ],
      "execution_count": null,
      "outputs": []
    },
    {
      "cell_type": "markdown",
      "metadata": {
        "id": "-YBldll7wzoC"
      },
      "source": [
        "## グラフにしてみる"
      ]
    },
    {
      "cell_type": "code",
      "metadata": {
        "id": "2vVCVx6KwoEo"
      },
      "source": [
        "plt.plot(tokyo_df[\"Newly confirmed cases\"].values, label=\"Tokyo\")\n",
        "plt.plot(osaka_df[\"Newly confirmed cases\"].values, label=\"Osaka\")\n",
        "plt.plot(kanagawa_df[\"Newly confirmed cases\"].values, label=\"Kanagawa\")\n",
        "plt.legend()\n",
        "plt.show()"
      ],
      "execution_count": null,
      "outputs": []
    },
    {
      "cell_type": "markdown",
      "metadata": {
        "id": "nBoO5L1tyIuQ"
      },
      "source": [
        "## フレーム分析\n",
        "時系列データのうち，一定の時間幅（フレーム）でその時間内の特徴を捉える方法をフレーム分析といいます。一定の幅のデータを時間をずらしながら分析します\n",
        "一番単純なフレーム分析は移動平均です。rollingを使うと便利です"
      ]
    },
    {
      "cell_type": "code",
      "metadata": {
        "id": "TF2jelzSw6wA"
      },
      "source": [
        "#ここでは東京のデータをつかって1週間(7日)の平均値が求まるように平均をとります。\n",
        "tokyo_mean = pd.DataFrame({\"Date\":tokyo_df[\"Date\"],\"Average 1w cases\":tokyo_df['Newly confirmed cases'].rolling(window=7).mean()})\n",
        "tokyo_mean\n"
      ],
      "execution_count": null,
      "outputs": []
    },
    {
      "cell_type": "code",
      "metadata": {
        "id": "pVfx6pBrAEE9"
      },
      "source": [
        "plt.plot(tokyo_df[\"Newly confirmed cases\"].values, label=\"Tokyo\")\n",
        "plt.plot(tokyo_mean[\"Average 1w cases\"].values, label=\"moving ave\")\n",
        "plt.legend()"
      ],
      "execution_count": null,
      "outputs": []
    },
    {
      "cell_type": "code",
      "metadata": {
        "id": "jESqyz0cAHBs"
      },
      "source": [
        ""
      ],
      "execution_count": null,
      "outputs": []
    }
  ]
}