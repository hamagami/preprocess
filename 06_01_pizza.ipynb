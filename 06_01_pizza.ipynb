{
  "nbformat": 4,
  "nbformat_minor": 0,
  "metadata": {
    "colab": {
      "name": "06-01-pizza.ipynb",
      "provenance": [],
      "authorship_tag": "ABX9TyNiwoqwfmn9ucv9N6bdwZXg",
      "include_colab_link": true
    },
    "kernelspec": {
      "name": "python3",
      "display_name": "Python 3"
    },
    "language_info": {
      "name": "python"
    }
  },
  "cells": [
    {
      "cell_type": "markdown",
      "metadata": {
        "id": "view-in-github",
        "colab_type": "text"
      },
      "source": [
        "<a href=\"https://colab.research.google.com/github/hamagami/preprocess/blob/main/06_01_pizza.ipynb\" target=\"_parent\"><img src=\"https://colab.research.google.com/assets/colab-badge.svg\" alt=\"Open In Colab\"/></a>"
      ]
    },
    {
      "cell_type": "markdown",
      "metadata": {
        "id": "kfKcA7SxN43r"
      },
      "source": [
        "# ほぼカテゴリカルデータの場合の回帰分析"
      ]
    },
    {
      "cell_type": "code",
      "metadata": {
        "id": "ernDYNRdpKhJ"
      },
      "source": [
        "import pandas as pd\n",
        "import numpy as np\n",
        "import matplotlib.pyplot as plt\n",
        "import seaborn as sns\n",
        "plt.style.use('fivethirtyeight')\n",
        "\n",
        "## 学習につかうモジュール\n",
        "from tensorflow import keras\n",
        "from sklearn.preprocessing import MinMaxScaler\n",
        "from sklearn.model_selection import train_test_split,cross_val_score,GridSearchCV\n",
        "from sklearn.metrics import mean_squared_error, r2_score, mean_absolute_error\n",
        "\n",
        "#いろいろな回帰分析のモデル\n",
        "from sklearn.linear_model import LinearRegression,Lasso,Ridge\n",
        "from sklearn.tree import DecisionTreeRegressor\n",
        "from sklearn.neighbors import KNeighborsRegressor\n",
        "from sklearn.svm import SVR\n",
        "from sklearn.ensemble import RandomForestRegressor\n",
        "from sklearn.neural_network import MLPRegressor\n",
        "#%matplotlib inline"
      ],
      "execution_count": 5,
      "outputs": []
    },
    {
      "cell_type": "markdown",
      "metadata": {
        "id": "pu3TXcVtOL7t"
      },
      "source": [
        "kaggleのデータ pizzaを取得"
      ]
    },
    {
      "cell_type": "code",
      "metadata": {
        "id": "s3NltHVqpEsX"
      },
      "source": [
        "df= pd.read_csv(\"https://dl.dropbox.com/s/ttng1f37eesou74/pizza_v1.csv\")"
      ],
      "execution_count": 6,
      "outputs": []
    },
    {
      "cell_type": "markdown",
      "metadata": {
        "id": "iArzKYjuOR67"
      },
      "source": [
        "データの中身を確認"
      ]
    },
    {
      "cell_type": "code",
      "metadata": {
        "id": "gNtoEhbJplbm"
      },
      "source": [
        "df"
      ],
      "execution_count": null,
      "outputs": []
    },
    {
      "cell_type": "code",
      "metadata": {
        "id": "7MP_29L_pnTE"
      },
      "source": [
        "df.info()#欠損値のチェック"
      ],
      "execution_count": null,
      "outputs": []
    },
    {
      "cell_type": "code",
      "metadata": {
        "id": "WRUM2yVzprpy"
      },
      "source": [
        "df.describe()# 数値データ（この例では　diameterしかない）のチェック"
      ],
      "execution_count": null,
      "outputs": []
    },
    {
      "cell_type": "markdown",
      "metadata": {
        "id": "LKefN5jvuZQE"
      },
      "source": [
        "ルピアの表記をとって数値型にして、わかりやすいように円にする　１ルピア＝0.0075とします"
      ]
    },
    {
      "cell_type": "code",
      "metadata": {
        "id": "mSo4nCQgqBZg"
      },
      "source": [
        "df['price_yen'] = df['price_rupiah'].str.replace('\\D+','',regex=True)\n",
        "df['price_yen'] = pd.to_numeric(df['price_yen'])*0.0075\n",
        "df=df.drop('price_rupiah',axis=1)\n",
        "df['price_yen'].dtype"
      ],
      "execution_count": null,
      "outputs": []
    },
    {
      "cell_type": "code",
      "metadata": {
        "id": "NPLtt2XgvjwT"
      },
      "source": [
        "df"
      ],
      "execution_count": null,
      "outputs": []
    },
    {
      "cell_type": "markdown",
      "metadata": {
        "id": "qywx3ITguuzp"
      },
      "source": [
        "価格の部分をヒストグラム"
      ]
    },
    {
      "cell_type": "code",
      "metadata": {
        "id": "ZzKTTmQ1qRQX"
      },
      "source": [
        "plt.hist(df['price_yen'],bins=15)\n",
        "plt.show()"
      ],
      "execution_count": null,
      "outputs": []
    },
    {
      "cell_type": "markdown",
      "metadata": {
        "id": "cGRK_NxsQXjF"
      },
      "source": [
        "直径の分布もみておく"
      ]
    },
    {
      "cell_type": "code",
      "metadata": {
        "id": "EGLIrOFtQbwG"
      },
      "source": [
        "plt.hist(df['diameter'],bins=15)\n",
        "plt.show()"
      ],
      "execution_count": null,
      "outputs": []
    },
    {
      "cell_type": "markdown",
      "metadata": {
        "id": "h9sifwqmy972"
      },
      "source": [
        "カテゴリカルデータだけを取り出してエンコードする"
      ]
    },
    {
      "cell_type": "code",
      "metadata": {
        "id": "MDdgcKIhqVIZ"
      },
      "source": [
        "cols_to_encode = df.drop(['diameter','price_yen'],axis=1).columns #数値データを外す\n",
        "cols_to_encode"
      ],
      "execution_count": null,
      "outputs": []
    },
    {
      "cell_type": "markdown",
      "metadata": {
        "id": "RGya1m_Ty8ks"
      },
      "source": [
        "単純なone-hotエンコーディング\n",
        "drop_first は　すべて０の場合も１つのラベルに割り当てる設定 k個の属性に対して k-1次元の属性で表現する"
      ]
    },
    {
      "cell_type": "code",
      "metadata": {
        "id": "xQCPvJiLqq0s"
      },
      "source": [
        "dummies = pd.get_dummies(df[cols_to_encode],drop_first=True)\n",
        "dummies.shape"
      ],
      "execution_count": null,
      "outputs": []
    },
    {
      "cell_type": "code",
      "metadata": {
        "id": "15h16Spoqufk"
      },
      "source": [
        "dummies.head() #すべてカテゴリカルなデータになった(41次元にもなる）)"
      ],
      "execution_count": null,
      "outputs": []
    },
    {
      "cell_type": "markdown",
      "metadata": {
        "id": "NSit5aTFz8zf"
      },
      "source": [
        "数値データだけを取り出す"
      ]
    },
    {
      "cell_type": "code",
      "metadata": {
        "id": "fGsO99-lqxMP"
      },
      "source": [
        "df.drop(cols_to_encode,axis=1,inplace=True) #カテゴリカルなデータをはずす\n",
        "df.head()"
      ],
      "execution_count": null,
      "outputs": []
    },
    {
      "cell_type": "markdown",
      "metadata": {
        "id": "1h2z9isy0EMi"
      },
      "source": [
        "diameter を 正規化"
      ]
    },
    {
      "cell_type": "code",
      "metadata": {
        "id": "rZ8Jl4Olq1HY"
      },
      "source": [
        "cols_to_scale = ['diameter']\n",
        "scale = MinMaxScaler()\n",
        "scalled = scale.fit_transform(df[cols_to_scale])"
      ],
      "execution_count": 18,
      "outputs": []
    },
    {
      "cell_type": "code",
      "metadata": {
        "id": "dtu5W45h0Rbt"
      },
      "source": [
        "plt.hist(scalled,bins=8)"
      ],
      "execution_count": null,
      "outputs": []
    },
    {
      "cell_type": "code",
      "metadata": {
        "id": "xy_NgCtOq5CI"
      },
      "source": [
        "df['diameter'] = scalled[:,0]"
      ],
      "execution_count": 20,
      "outputs": []
    },
    {
      "cell_type": "code",
      "metadata": {
        "id": "6lUcQk7Dq8Ca"
      },
      "source": [
        "df[cols_to_scale].describe()"
      ],
      "execution_count": null,
      "outputs": []
    },
    {
      "cell_type": "markdown",
      "metadata": {
        "id": "fEE3NGpe0zDy"
      },
      "source": [
        "正規化した数量データとエンコードしてカテゴリカルデータを結合"
      ]
    },
    {
      "cell_type": "code",
      "metadata": {
        "id": "ukJF4lZxq-iX"
      },
      "source": [
        "new_df = pd.concat([dummies,df],axis=1)\n",
        "new_df.shape"
      ],
      "execution_count": null,
      "outputs": []
    },
    {
      "cell_type": "markdown",
      "metadata": {
        "id": "aOJy5Jc_1AdF"
      },
      "source": [
        "目的変数yは価格、それ以外を説明変数xとして分離"
      ]
    },
    {
      "cell_type": "code",
      "metadata": {
        "id": "DVj5TOWfrC2x"
      },
      "source": [
        "x,y = new_df.drop('price_yen',axis=1),df['price_yen']\n",
        "x.shape,y.shape"
      ],
      "execution_count": null,
      "outputs": []
    },
    {
      "cell_type": "markdown",
      "metadata": {
        "id": "kWBE3KK71Kwc"
      },
      "source": [
        "学習データのサンプリング"
      ]
    },
    {
      "cell_type": "code",
      "metadata": {
        "id": "Pa2oZKSZrGl0"
      },
      "source": [
        "x_train, x_test, y_train, y_test = train_test_split(x,y,test_size=0.3)\n",
        "x_train.shape, x_test.shape, y_train.shape, y_test.shape"
      ],
      "execution_count": null,
      "outputs": []
    },
    {
      "cell_type": "code",
      "metadata": {
        "id": "EGi9wHVG80O3"
      },
      "source": [
        "x_train"
      ],
      "execution_count": null,
      "outputs": []
    },
    {
      "cell_type": "markdown",
      "metadata": {
        "id": "u5js1Clq1QQW"
      },
      "source": [
        "# 学習モデル\n",
        "様々な学習モデルをつかって学習させてみる"
      ]
    },
    {
      "cell_type": "markdown",
      "metadata": {
        "id": "z3dkhdFT3RWk"
      },
      "source": [
        "## 線形回帰"
      ]
    },
    {
      "cell_type": "code",
      "metadata": {
        "id": "N-89OFId2d-E"
      },
      "source": [
        "cv_score = cross_val_score(LinearRegression(),x,y,cv=5)\n",
        "print(\"CV scores:\",cv_score)\n",
        "mean_score = cv_score.mean()\n",
        "print(\"Mean Score:\",mean_score)"
      ],
      "execution_count": null,
      "outputs": []
    },
    {
      "cell_type": "markdown",
      "metadata": {
        "id": "qF2kcwy-3NfI"
      },
      "source": [
        "# 決定木"
      ]
    },
    {
      "cell_type": "code",
      "metadata": {
        "id": "tzf2Illc3Utr"
      },
      "source": [
        "cv_score = cross_val_score(DecisionTreeRegressor(),x,y,cv=5)\n",
        "print(\"CV scores:\",cv_score)\n",
        "mean_score = cv_score.mean()\n",
        "print(\"Mean Score:\",mean_score)\n"
      ],
      "execution_count": null,
      "outputs": []
    },
    {
      "cell_type": "markdown",
      "metadata": {
        "id": "S4tozhEa3azY"
      },
      "source": [
        "## ランダムフォレスト"
      ]
    },
    {
      "cell_type": "code",
      "metadata": {
        "id": "nHRLBAPf3fFn"
      },
      "source": [
        "cv_score = cross_val_score(RandomForestRegressor(),x,y,cv=5)\n",
        "print(\"CV scores:\",cv_score)\n",
        "mean_score = cv_score.mean()\n",
        "print(\"Mean Score:\",mean_score)\n"
      ],
      "execution_count": null,
      "outputs": []
    },
    {
      "cell_type": "markdown",
      "metadata": {
        "id": "4erEnFsg3k3L"
      },
      "source": [
        "## SVR (SVMによる回帰）"
      ]
    },
    {
      "cell_type": "code",
      "metadata": {
        "id": "HnxUQe6z3p1P"
      },
      "source": [
        "cv_score = cross_val_score(SVR(kernel = \"rbf\",gamma =0.1,C=1000,epsilon = 0.5),x,y,cv=5)\n",
        "print(\"CV scores:\",cv_score)\n",
        "mean_score = cv_score.mean()\n",
        "print(\"Mean Score:\",mean_score)\n",
        "\n"
      ],
      "execution_count": null,
      "outputs": []
    },
    {
      "cell_type": "markdown",
      "metadata": {
        "id": "FtH0X5lT3uQU"
      },
      "source": [
        "## ニューラルネットワーク"
      ]
    },
    {
      "cell_type": "code",
      "metadata": {
        "id": "oGU0hLMa3zSX"
      },
      "source": [
        "cv_score = cross_val_score(MLPRegressor(activation='relu',hidden_layer_sizes=(100,100,100,),alpha=0.3, random_state=42),x,y,cv=5)\n",
        "print(\"CV scores:\",cv_score)\n",
        "mean_score = cv_score.mean()\n",
        "print(\"Mean Score:\",mean_score)\n"
      ],
      "execution_count": null,
      "outputs": []
    },
    {
      "cell_type": "markdown",
      "metadata": {
        "id": "FV6-8XjWRLlI"
      },
      "source": [
        "上記の結果で，ランダムフォレスト，決定木のスコア高く，線形回帰，ニューラルネット，SVMの成績が極めて悪い。これは高次元のカテゴリカルデータが殆どであるため，勾配がつくれていないことによる。このような場合はいったんカテゴリでクラスタリングできないかどうか，またカテゴリカルであっても順序化できる属性がないかを考える。\n",
        "ただしこのケースではexstraの部分くらいしか順序化できる余地がないため，決定木ベースの方法がやはり優位になると思われる。\n",
        "このように物理現象としての勾配が想定できない場合はルールベースで考えるのがよい"
      ]
    },
    {
      "cell_type": "code",
      "metadata": {
        "id": "nBchsyje8F-0"
      },
      "source": [
        ""
      ],
      "execution_count": null,
      "outputs": []
    }
  ]
}