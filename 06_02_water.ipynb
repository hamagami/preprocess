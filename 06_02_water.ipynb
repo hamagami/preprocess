{
  "nbformat": 4,
  "nbformat_minor": 0,
  "metadata": {
    "kernelspec": {
      "language": "python",
      "display_name": "Python 3",
      "name": "python3"
    },
    "language_info": {
      "name": "python",
      "version": "3.7.10",
      "mimetype": "text/x-python",
      "codemirror_mode": {
        "name": "ipython",
        "version": 3
      },
      "pygments_lexer": "ipython3",
      "nbconvert_exporter": "python",
      "file_extension": ".py"
    },
    "colab": {
      "name": "06-02_water.ipynb",
      "provenance": [],
      "include_colab_link": true
    },
    "accelerator": "GPU"
  },
  "cells": [
    {
      "cell_type": "markdown",
      "metadata": {
        "id": "view-in-github",
        "colab_type": "text"
      },
      "source": [
        "<a href=\"https://colab.research.google.com/github/hamagami/preprocess/blob/main/06_02_water.ipynb\" target=\"_parent\"><img src=\"https://colab.research.google.com/assets/colab-badge.svg\" alt=\"Open In Colab\"/></a>"
      ]
    },
    {
      "cell_type": "markdown",
      "metadata": {
        "id": "v9B8v096SCOj"
      },
      "source": [
        "# Kaggleの水質に関するデータの例　ほぼ数値データ"
      ]
    },
    {
      "cell_type": "code",
      "metadata": {
        "id": "8rVywkxopNY2"
      },
      "source": [
        ""
      ],
      "execution_count": null,
      "outputs": []
    },
    {
      "cell_type": "code",
      "metadata": {
        "id": "Jvffi3kSpN6C"
      },
      "source": [
        "!pip install -U  pandas_profiling"
      ],
      "execution_count": null,
      "outputs": []
    },
    {
      "cell_type": "code",
      "metadata": {
        "execution": {
          "iopub.status.busy": "2021-07-14T13:51:52.459433Z",
          "iopub.execute_input": "2021-07-14T13:51:52.459870Z",
          "iopub.status.idle": "2021-07-14T13:51:52.527137Z",
          "shell.execute_reply.started": "2021-07-14T13:51:52.459769Z",
          "shell.execute_reply": "2021-07-14T13:51:52.526257Z"
        },
        "trusted": true,
        "id": "56uuh50kAFmQ"
      },
      "source": [
        "import pandas as pd\n",
        "import numpy as np\n",
        "import matplotlib.pyplot as plt\n",
        "import pandas_profiling as pdp"
      ],
      "execution_count": 2,
      "outputs": []
    },
    {
      "cell_type": "markdown",
      "metadata": {
        "id": "r4_etSQggyG2"
      },
      "source": [
        "ph(ph値)　　Hardness(硬度) Solid(溶解固形物)　Chlormines(クロラミン) Sulfate(硫酸塩)　Conductivity(導電率) \tOrganic_carbon(有機炭素）\tTrihalomethanes(トリハロメタン)\tTurbidity(濁度) \tPotability(飲用可能性 1 OK  0 NG）"
      ]
    },
    {
      "cell_type": "code",
      "metadata": {
        "id": "ThU6IHIzSPD2"
      },
      "source": [
        "df = pd.read_csv(\"https://dl.dropbox.com/s/g8htb1fmd3uo24a/water_potability.csv\")\n",
        "df.head()"
      ],
      "execution_count": null,
      "outputs": []
    },
    {
      "cell_type": "markdown",
      "metadata": {
        "id": "TkqPmB97SbAe"
      },
      "source": [
        "## 欠損値，統計量のチェック"
      ]
    },
    {
      "cell_type": "code",
      "metadata": {
        "id": "AwzbX1s-SakR"
      },
      "source": [
        "df.info()"
      ],
      "execution_count": null,
      "outputs": []
    },
    {
      "cell_type": "code",
      "metadata": {
        "id": "2bPKhyeUSlBI"
      },
      "source": [
        "df.describe()"
      ],
      "execution_count": null,
      "outputs": []
    },
    {
      "cell_type": "markdown",
      "metadata": {
        "id": "6HAradCxSqIh"
      },
      "source": [
        "ヒストグラムのチェック"
      ]
    },
    {
      "cell_type": "code",
      "metadata": {
        "id": "4r66dgSHSpr5"
      },
      "source": [
        "for col in df.columns:\n",
        "  plt.hist(df[col].values)\n",
        "  plt.title(col)\n",
        "  plt.show()"
      ],
      "execution_count": null,
      "outputs": []
    },
    {
      "cell_type": "markdown",
      "metadata": {
        "id": "S5B6KwdJTTXu"
      },
      "source": [
        "## 欠損値を正確に把握"
      ]
    },
    {
      "cell_type": "code",
      "metadata": {
        "execution": {
          "iopub.status.busy": "2021-07-14T13:51:52.536043Z",
          "iopub.execute_input": "2021-07-14T13:51:52.536306Z",
          "iopub.status.idle": "2021-07-14T13:51:52.548489Z",
          "shell.execute_reply.started": "2021-07-14T13:51:52.536273Z",
          "shell.execute_reply": "2021-07-14T13:51:52.547443Z"
        },
        "trusted": true,
        "id": "rg9iciQoAFmU"
      },
      "source": [
        "df.isnull().sum()"
      ],
      "execution_count": null,
      "outputs": []
    },
    {
      "cell_type": "markdown",
      "metadata": {
        "id": "4RgpD9yeTgUA"
      },
      "source": [
        "データは結構数あるので，NaNはドロップする"
      ]
    },
    {
      "cell_type": "code",
      "metadata": {
        "execution": {
          "iopub.status.busy": "2021-07-14T13:51:52.549866Z",
          "iopub.execute_input": "2021-07-14T13:51:52.550163Z",
          "iopub.status.idle": "2021-07-14T13:51:52.576936Z",
          "shell.execute_reply.started": "2021-07-14T13:51:52.550128Z",
          "shell.execute_reply": "2021-07-14T13:51:52.575932Z"
        },
        "trusted": true,
        "id": "5w7vucwsAFmV"
      },
      "source": [
        "df= df.dropna()\n",
        "df.info()"
      ],
      "execution_count": null,
      "outputs": []
    },
    {
      "cell_type": "markdown",
      "metadata": {
        "id": "EOOvw8KDTmLh"
      },
      "source": [
        "Potability のバランス　を確認\n",
        "\n"
      ]
    },
    {
      "cell_type": "code",
      "metadata": {
        "execution": {
          "iopub.status.busy": "2021-07-14T13:51:52.579986Z",
          "iopub.execute_input": "2021-07-14T13:51:52.580421Z",
          "iopub.status.idle": "2021-07-14T13:51:52.592241Z",
          "shell.execute_reply.started": "2021-07-14T13:51:52.580374Z",
          "shell.execute_reply": "2021-07-14T13:51:52.591387Z"
        },
        "trusted": true,
        "id": "yoxjlDR7AFmW"
      },
      "source": [
        "df.Potability.value_counts() #１のほうが少ない"
      ],
      "execution_count": null,
      "outputs": []
    },
    {
      "cell_type": "markdown",
      "metadata": {
        "id": "dbOU6uvDUOkr"
      },
      "source": [
        "データのリサンプリングによって調整"
      ]
    },
    {
      "cell_type": "code",
      "metadata": {
        "execution": {
          "iopub.status.busy": "2021-07-14T13:51:53.504887Z",
          "iopub.execute_input": "2021-07-14T13:51:53.505303Z",
          "iopub.status.idle": "2021-07-14T13:51:53.616096Z",
          "shell.execute_reply.started": "2021-07-14T13:51:53.505258Z",
          "shell.execute_reply": "2021-07-14T13:51:53.615082Z"
        },
        "trusted": true,
        "id": "J77Bp0pcAFmZ"
      },
      "source": [
        "zero  = df[df['Potability']==0]   #Potability 0 (飲めない)のセット\n",
        "one = df[df['Potability']==1]  #Potability 1(飲める）のセット\n",
        "from sklearn.utils import resample\n",
        "\n",
        "df_minority_upsampled = resample(one, replace = True, n_samples = 1200) \n",
        "#concatenate\n",
        "df = pd.concat([zero, df_minority_upsampled])\n",
        "\n",
        "from sklearn.utils import shuffle\n",
        "df = shuffle(df) # shuffling so that there is particular sequence"
      ],
      "execution_count": 10,
      "outputs": []
    },
    {
      "cell_type": "code",
      "metadata": {
        "id": "H2pOgMfcUjSb"
      },
      "source": [
        "df.Potability.value_counts() #０と１の数が同じになる"
      ],
      "execution_count": null,
      "outputs": []
    },
    {
      "cell_type": "code",
      "metadata": {
        "id": "uh97wjiQpaQr"
      },
      "source": [
        "pdp.ProfileReport(df)"
      ],
      "execution_count": null,
      "outputs": []
    },
    {
      "cell_type": "markdown",
      "metadata": {
        "id": "JUwGhOOarfEq"
      },
      "source": [
        "Portabilityとの相関を数値で確認"
      ]
    },
    {
      "cell_type": "code",
      "metadata": {
        "execution": {
          "iopub.status.busy": "2021-07-14T13:51:55.069213Z",
          "iopub.execute_input": "2021-07-14T13:51:55.069573Z",
          "iopub.status.idle": "2021-07-14T13:51:55.079830Z",
          "shell.execute_reply.started": "2021-07-14T13:51:55.069539Z",
          "shell.execute_reply": "2021-07-14T13:51:55.078757Z"
        },
        "trusted": true,
        "id": "HMKc2kbPAFmd"
      },
      "source": [
        "df.corr().abs()['Potability'].sort_values(ascending = False)"
      ],
      "execution_count": null,
      "outputs": []
    },
    {
      "cell_type": "code",
      "metadata": {
        "execution": {
          "iopub.status.busy": "2021-07-14T13:51:55.081294Z",
          "iopub.execute_input": "2021-07-14T13:51:55.081766Z",
          "iopub.status.idle": "2021-07-14T13:51:55.087509Z",
          "shell.execute_reply.started": "2021-07-14T13:51:55.081730Z",
          "shell.execute_reply": "2021-07-14T13:51:55.086351Z"
        },
        "trusted": true,
        "id": "cUuFgTLEAFme"
      },
      "source": [
        "X = df.drop(['Potability'], axis = 1)\n",
        "y = df['Potability']"
      ],
      "execution_count": 14,
      "outputs": []
    },
    {
      "cell_type": "markdown",
      "metadata": {
        "id": "PsjWoeXdr1xi"
      },
      "source": [
        "## 説明変数の標準化"
      ]
    },
    {
      "cell_type": "code",
      "metadata": {
        "execution": {
          "iopub.status.busy": "2021-07-14T13:51:55.088871Z",
          "iopub.execute_input": "2021-07-14T13:51:55.089198Z",
          "iopub.status.idle": "2021-07-14T13:51:55.133264Z",
          "shell.execute_reply.started": "2021-07-14T13:51:55.089168Z",
          "shell.execute_reply": "2021-07-14T13:51:55.132527Z"
        },
        "trusted": true,
        "id": "ytFHRN2PAFme"
      },
      "source": [
        "from sklearn.preprocessing import StandardScaler\n",
        "sc = StandardScaler()\n",
        "features= X.columns\n",
        "X[features] = sc.fit_transform(X[features])"
      ],
      "execution_count": 15,
      "outputs": []
    },
    {
      "cell_type": "markdown",
      "metadata": {
        "id": "kRDeqdMVsAfO"
      },
      "source": [
        "## 判別器のモジュール"
      ]
    },
    {
      "cell_type": "code",
      "metadata": {
        "execution": {
          "iopub.status.busy": "2021-07-14T13:51:55.134369Z",
          "iopub.execute_input": "2021-07-14T13:51:55.134912Z",
          "iopub.status.idle": "2021-07-14T13:51:55.478940Z",
          "shell.execute_reply.started": "2021-07-14T13:51:55.134872Z",
          "shell.execute_reply": "2021-07-14T13:51:55.478168Z"
        },
        "trusted": true,
        "id": "oZUtmORKAFme"
      },
      "source": [
        "from sklearn.tree import DecisionTreeClassifier\n",
        "from sklearn.ensemble import RandomForestClassifier\n",
        "from sklearn.linear_model import LogisticRegression\n",
        "from xgboost import XGBClassifier\n",
        "from sklearn.ensemble import AdaBoostClassifier\n",
        "from sklearn.neural_network import MLPClassifier\n",
        "from sklearn.svm import SVC\n",
        "\n",
        "from sklearn.model_selection import train_test_split\n",
        "from sklearn.metrics import confusion_matrix, accuracy_score, precision_score, recall_score, f1_score"
      ],
      "execution_count": 16,
      "outputs": []
    },
    {
      "cell_type": "markdown",
      "metadata": {
        "id": "aypPrrzNsFjs"
      },
      "source": [
        "訓練データとテストデータに分割"
      ]
    },
    {
      "cell_type": "code",
      "metadata": {
        "execution": {
          "iopub.status.busy": "2021-07-14T13:51:55.480076Z",
          "iopub.execute_input": "2021-07-14T13:51:55.480615Z",
          "iopub.status.idle": "2021-07-14T13:51:55.488330Z",
          "shell.execute_reply.started": "2021-07-14T13:51:55.480575Z",
          "shell.execute_reply": "2021-07-14T13:51:55.487149Z"
        },
        "trusted": true,
        "id": "9DZnIK3HAFme"
      },
      "source": [
        "X_train, X_test, y_train, y_test = train_test_split(X,y, test_size = 0.1)"
      ],
      "execution_count": 17,
      "outputs": []
    },
    {
      "cell_type": "markdown",
      "metadata": {
        "id": "SIaWqaYGyNnn"
      },
      "source": [
        "# 以下，いくつかの判別機械学習アルゴリズムをつかって学習　\n",
        "ただしハイパーパラメータの調整は行っていないので厳密な性能評価ではない"
      ]
    },
    {
      "cell_type": "markdown",
      "metadata": {
        "id": "E4Ao4m1awl2Q"
      },
      "source": [
        "## ロジスティック回帰"
      ]
    },
    {
      "cell_type": "code",
      "metadata": {
        "id": "7_GzEcB3thrH"
      },
      "source": [
        "lr=LogisticRegression()\n",
        "lr.fit(X_train,y_train)\n",
        "y_pred=lr.predict(X_test)\n",
        "print('confusion matrix = \\n', confusion_matrix(y_true=y_test, y_pred=y_pred))\n",
        "print('accuracy = ', accuracy_score(y_true=y_test, y_pred=y_pred))\n",
        "print('precision = ', precision_score(y_true=y_test, y_pred=y_pred))\n",
        "print('recall = ', recall_score(y_true=y_test, y_pred=y_pred))\n",
        "print('f1 score = ', f1_score(y_true=y_test, y_pred=y_pred))"
      ],
      "execution_count": null,
      "outputs": []
    },
    {
      "cell_type": "markdown",
      "metadata": {
        "id": "kyshMwSuwpgx"
      },
      "source": [
        "## ニューラルネットワーク"
      ]
    },
    {
      "cell_type": "code",
      "metadata": {
        "id": "Q-m3tNTau6Tc"
      },
      "source": [
        "clf = MLPClassifier(solver=\"adam\",random_state=0, max_iter=10000)\n",
        "clf.fit(X_train,y_train)\n",
        "y_pred = clf.predict(X_test)\n",
        "print('confusion matrix = \\n', confusion_matrix(y_true=y_test, y_pred=y_pred))\n",
        "print('accuracy = ', accuracy_score(y_true=y_test, y_pred=y_pred))\n",
        "print('precision = ', precision_score(y_true=y_test, y_pred=y_pred))\n",
        "print('recall = ', recall_score(y_true=y_test, y_pred=y_pred))\n",
        "print('f1 score = ', f1_score(y_true=y_test, y_pred=y_pred))"
      ],
      "execution_count": null,
      "outputs": []
    },
    {
      "cell_type": "markdown",
      "metadata": {
        "id": "Mnxj1XudwsWL"
      },
      "source": [
        "## SVC (SVMによるクラス判別）"
      ]
    },
    {
      "cell_type": "code",
      "metadata": {
        "id": "isdbjmSfvzuy"
      },
      "source": [
        "clf = SVC(gamma=\"scale\")\n",
        "clf.fit(X_train,y_train)\n",
        "y_pred = clf.predict(X_test)\n",
        "print('confusion matrix = \\n', confusion_matrix(y_true=y_test, y_pred=y_pred))\n",
        "print('accuracy = ', accuracy_score(y_true=y_test, y_pred=y_pred))\n",
        "print('precision = ', precision_score(y_true=y_test, y_pred=y_pred))\n",
        "print('recall = ', recall_score(y_true=y_test, y_pred=y_pred))\n",
        "print('f1 score = ', f1_score(y_true=y_test, y_pred=y_pred))"
      ],
      "execution_count": null,
      "outputs": []
    },
    {
      "cell_type": "markdown",
      "metadata": {
        "id": "XL1Tt9VzxMlO"
      },
      "source": [
        "## ランダムフォレスト"
      ]
    },
    {
      "cell_type": "code",
      "metadata": {
        "id": "0EGujHTMxOtN"
      },
      "source": [
        "rf = RandomForestClassifier(n_estimators=100, min_samples_leaf=2, random_state=42)\n",
        "rf.fit(X_train,y_train)\n",
        "y_pred = rf.predict(X_test)\n",
        "print('confusion matrix = \\n', confusion_matrix(y_true=y_test, y_pred=y_pred))\n",
        "print('accuracy = ', accuracy_score(y_true=y_test, y_pred=y_pred))\n",
        "print('precision = ', precision_score(y_true=y_test, y_pred=y_pred))\n",
        "print('recall = ', recall_score(y_true=y_test, y_pred=y_pred))\n",
        "print('f1 score = ', f1_score(y_true=y_test, y_pred=y_pred))"
      ],
      "execution_count": null,
      "outputs": []
    },
    {
      "cell_type": "markdown",
      "metadata": {
        "id": "grcKXo2ExZ0A"
      },
      "source": [
        "## AdaBoost"
      ]
    },
    {
      "cell_type": "code",
      "metadata": {
        "id": "MFOjwXThxbqp"
      },
      "source": [
        "ada = AdaBoostClassifier(n_estimators= 600, learning_rate= 1 )\n",
        "ada.fit(X_train,y_train)\n",
        "y_pred = ada.predict(X_test)\n",
        "print('confusion matrix = \\n', confusion_matrix(y_true=y_test, y_pred=y_pred))\n",
        "print('accuracy = ', accuracy_score(y_true=y_test, y_pred=y_pred))\n",
        "print('precision = ', precision_score(y_true=y_test, y_pred=y_pred))\n",
        "print('recall = ', recall_score(y_true=y_test, y_pred=y_pred))\n",
        "print('f1 score = ', f1_score(y_true=y_test, y_pred=y_pred))\n"
      ],
      "execution_count": null,
      "outputs": []
    },
    {
      "cell_type": "markdown",
      "metadata": {
        "id": "1zq6LWWxxnS9"
      },
      "source": [
        "## XGBoost\n"
      ]
    },
    {
      "cell_type": "code",
      "metadata": {
        "id": "ILoL81qNxpxk"
      },
      "source": [
        "xgb = XGBClassifier(n_estimators= 250, learning_rate= 0.8)\n",
        "xgb.fit(X_train,y_train)\n",
        "y_pred = xgb.predict(X_test)\n",
        "print('confusion matrix = \\n', confusion_matrix(y_true=y_test, y_pred=y_pred))\n",
        "print('accuracy = ', accuracy_score(y_true=y_test, y_pred=y_pred))\n",
        "print('precision = ', precision_score(y_true=y_test, y_pred=y_pred))\n",
        "print('recall = ', recall_score(y_true=y_test, y_pred=y_pred))\n",
        "print('f1 score = ', f1_score(y_true=y_test, y_pred=y_pred))\n"
      ],
      "execution_count": null,
      "outputs": []
    },
    {
      "cell_type": "code",
      "metadata": {
        "id": "LdDgCIMX0mjI"
      },
      "source": [
        ""
      ],
      "execution_count": 23,
      "outputs": []
    }
  ]
}