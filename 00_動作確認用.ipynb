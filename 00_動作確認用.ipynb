{
  "nbformat": 4,
  "nbformat_minor": 0,
  "metadata": {
    "colab": {
      "name": "表データサンプルreserve.ipynb",
      "provenance": [],
      "authorship_tag": "ABX9TyMxlgQ81tTvFYp+iEfWTEFm",
      "include_colab_link": true
    },
    "kernelspec": {
      "name": "python3",
      "display_name": "Python 3"
    },
    "language_info": {
      "name": "python"
    }
  },
  "cells": [
    {
      "cell_type": "markdown",
      "metadata": {
        "id": "view-in-github",
        "colab_type": "text"
      },
      "source": [
        "<a href=\"https://colab.research.google.com/github/hamagami/preprocess/blob/main/00_%E5%8B%95%E4%BD%9C%E7%A2%BA%E8%AA%8D%E7%94%A8.ipynb\" target=\"_parent\"><img src=\"https://colab.research.google.com/assets/colab-badge.svg\" alt=\"Open In Colab\"/></a>"
      ]
    },
    {
      "cell_type": "markdown",
      "metadata": {
        "id": "xd_5JkFb-N1I"
      },
      "source": [
        "# 動作確認用のコードです　\n",
        "実行するには　[ランタイム]-[すべてのセルを実行] を選択するか，各セルにて  shift-enter でセルごとに実行させることができます"
      ]
    },
    {
      "cell_type": "code",
      "metadata": {
        "id": "JB_22l06HB2k"
      },
      "source": [
        "import pandas as pd\n",
        "import urllib.request \n",
        "import numpy as np\n",
        "from PIL import Image\n",
        "import matplotlib.pyplot as plt\n",
        "import urllib.request "
      ],
      "execution_count": null,
      "outputs": []
    },
    {
      "cell_type": "markdown",
      "metadata": {
        "id": "CPXtMSvO-UPg"
      },
      "source": [
        "## web上のデータを読みこみ，自分のgoogle clabo のドライブ上に保存します"
      ]
    },
    {
      "cell_type": "markdown",
      "metadata": {
        "id": "hLKYzXtP-3Lw"
      },
      "source": [
        "## pandasのDataFrameとして読みこみます"
      ]
    },
    {
      "cell_type": "code",
      "metadata": {
        "id": "rTC81eBUJ-wy"
      },
      "source": [
        "df= pd.read_csv(\"reserve.csv\")"
      ],
      "execution_count": null,
      "outputs": []
    },
    {
      "cell_type": "markdown",
      "metadata": {
        "id": "ruzrJ5hS-9Xp"
      },
      "source": [
        "## データフレームの中身をみてみます"
      ]
    },
    {
      "cell_type": "code",
      "metadata": {
        "id": "XNEx6P0GKIN1"
      },
      "source": [
        "df"
      ],
      "execution_count": null,
      "outputs": []
    },
    {
      "cell_type": "markdown",
      "metadata": {
        "id": "ocfNPoqe_kq7"
      },
      "source": [
        "ちゃんとデータが読みこまれ，表がみえていればＯＫです。\n",
        "total_priceの分布をヒストグラムでみてみましょう"
      ]
    },
    {
      "cell_type": "code",
      "metadata": {
        "id": "2hb1SJUmAte9"
      },
      "source": [
        "plt.hist(df[\"total_price\"],bins=30)\n",
        "plt.show()"
      ],
      "execution_count": null,
      "outputs": []
    },
    {
      "cell_type": "markdown",
      "metadata": {
        "id": "Plm3F1DCBNED"
      },
      "source": [
        "ついでに画像の読み込み，表示もやっておきます"
      ]
    },
    {
      "cell_type": "code",
      "metadata": {
        "id": "jHkGs9Cp_m8z"
      },
      "source": [
        "url = \"https://up.gc-img.net/post_img_web/2015/12/27d3d6c170d9e7c37a9b79a534851b19_26585.png\"\n",
        "urllib.request.urlretrieve(url, 'cat.png') "
      ],
      "execution_count": null,
      "outputs": []
    },
    {
      "cell_type": "code",
      "metadata": {
        "id": "fhKsO7ItAKLA"
      },
      "source": [
        "img_ipl = Image.open(\"cat.png\")\n",
        "plt.imshow(img_ipl)"
      ],
      "execution_count": null,
      "outputs": []
    },
    {
      "cell_type": "markdown",
      "metadata": {
        "id": "3lqTLTCKAmiu"
      },
      "source": [
        "画像が読みこまれていればＯＫです"
      ]
    }
  ]
}