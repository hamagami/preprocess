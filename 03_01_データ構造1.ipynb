{
  "nbformat": 4,
  "nbformat_minor": 0,
  "metadata": {
    "colab": {
      "name": "03-01_データ構造1.ipynb",
      "provenance": [],
      "authorship_tag": "ABX9TyPa5QmUe5qI7xGgqEXvKA2y",
      "include_colab_link": true
    },
    "kernelspec": {
      "name": "python3",
      "display_name": "Python 3"
    },
    "language_info": {
      "name": "python"
    }
  },
  "cells": [
    {
      "cell_type": "markdown",
      "metadata": {
        "id": "view-in-github",
        "colab_type": "text"
      },
      "source": [
        "<a href=\"https://colab.research.google.com/github/hamagami/preprocess/blob/main/03_01_%E3%83%87%E3%83%BC%E3%82%BF%E6%A7%8B%E9%80%A01.ipynb\" target=\"_parent\"><img src=\"https://colab.research.google.com/assets/colab-badge.svg\" alt=\"Open In Colab\"/></a>"
      ]
    },
    {
      "cell_type": "markdown",
      "metadata": {
        "id": "VJVZu20BYU7c"
      },
      "source": [
        "# pythonによるデータ構造の表現例\n",
        "いろいろな表現方法はありますがここでは　ベクトル・行列・テンソルは　numpyを\n",
        "リストと木構造は　anytree を\n",
        "グラフとネットワークは　networkx を使います"
      ]
    },
    {
      "cell_type": "code",
      "metadata": {
        "id": "O5jIDqFNagVL"
      },
      "source": [
        "!pip install anytree # google colabの最初の状態では anytreeは入っていないのでインストールしておきます\n",
        "!pip install networkx # networkxもいれておきます"
      ],
      "execution_count": null,
      "outputs": []
    },
    {
      "cell_type": "code",
      "metadata": {
        "id": "O6nHZZhlYcGP"
      },
      "source": [
        "# 必要なモジュールをいれておきます。ここはおまじないだと思ってください\n",
        "import numpy as np\n",
        "from  anytree import *\n",
        "import networkx as nx\n",
        "import matplotlib.pyplot as plt\n",
        "%matplotlib inline"
      ],
      "execution_count": null,
      "outputs": []
    },
    {
      "cell_type": "markdown",
      "metadata": {
        "id": "wUjDl4GNa0P-"
      },
      "source": [
        "## ベクトル，行列，テンソル"
      ]
    },
    {
      "cell_type": "code",
      "metadata": {
        "id": "ZF_T2kQLazUK"
      },
      "source": [
        "vec = np.array([0,1,2,3,4,5,6,7,8,9])\n",
        "print(vec)"
      ],
      "execution_count": null,
      "outputs": []
    },
    {
      "cell_type": "code",
      "metadata": {
        "id": "2jOlVyWJaboi"
      },
      "source": [
        "mat =np.array([vec,vec,vec])\n",
        "print(mat)"
      ],
      "execution_count": null,
      "outputs": []
    },
    {
      "cell_type": "code",
      "metadata": {
        "id": "0246poLgbH4L"
      },
      "source": [
        "tensor=np.array([mat,mat,mat])\n",
        "print(tensor)"
      ],
      "execution_count": null,
      "outputs": []
    },
    {
      "cell_type": "markdown",
      "metadata": {
        "id": "172pdsAVbgkc"
      },
      "source": [
        "## 木構造　（リストは木で代用できます）"
      ]
    },
    {
      "cell_type": "code",
      "metadata": {
        "id": "Vf3m_a4pbI6w"
      },
      "source": [
        "udo  = Node( \"Udo\" , parent=None )\n",
        "marc = Node( \"Marc\", parent=udo )\n",
        "lian = Node( \"Lian\", parent=marc )\n",
        "dan  = Node( \"Dan\",  parent=udo )\n",
        "jet  = Node( \"Jet\",  parent=dan )\n",
        "jan  = Node( \"Jan\",  parent=dan )\n",
        "joe  = Node( \"Joe\",  parent=dan )"
      ],
      "execution_count": null,
      "outputs": []
    },
    {
      "cell_type": "code",
      "metadata": {
        "id": "E2cpcGDvfGO3"
      },
      "source": [
        "for pre, fill, node in RenderTree(udo):\n",
        "    print(\"%s%s\" % (pre, node.name))"
      ],
      "execution_count": null,
      "outputs": []
    },
    {
      "cell_type": "markdown",
      "metadata": {
        "id": "u6wYpElIcpWT"
      },
      "source": [
        "## グラフとネットワーク構造"
      ]
    },
    {
      "cell_type": "code",
      "metadata": {
        "id": "eDLSg5_Vch2T"
      },
      "source": [
        "sg= nx.Graph() #空の無向グラム\n",
        "dg = nx.DiGraph() #空の有向グラフ"
      ],
      "execution_count": null,
      "outputs": []
    },
    {
      "cell_type": "code",
      "metadata": {
        "id": "Drz3gTXFckcp"
      },
      "source": [
        "sg.add_node(1)                \n",
        "sg.add_nodes_from([3, 4, 5])\n",
        "sg.add_edge(1, 2)                                    \n",
        "sg.add_edges_from([(1, 3), (2, 5), (3, 4), (4, 5),(5,3)])"
      ],
      "execution_count": null,
      "outputs": []
    },
    {
      "cell_type": "code",
      "metadata": {
        "id": "i3aX28aade1F"
      },
      "source": [
        "nx.draw_networkx(sg)\n",
        "plt.show()"
      ],
      "execution_count": null,
      "outputs": []
    }
  ]
}