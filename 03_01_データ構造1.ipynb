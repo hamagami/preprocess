{
  "nbformat": 4,
  "nbformat_minor": 0,
  "metadata": {
    "colab": {
      "name": "03-01_データ構造1.ipynb",
      "provenance": [],
      "authorship_tag": "ABX9TyMoXaQEVNr8FBGaH4D6VES3",
      "include_colab_link": true
    },
    "kernelspec": {
      "name": "python3",
      "display_name": "Python 3"
    },
    "language_info": {
      "name": "python"
    }
  },
  "cells": [
    {
      "cell_type": "markdown",
      "metadata": {
        "id": "view-in-github",
        "colab_type": "text"
      },
      "source": [
        "<a href=\"https://colab.research.google.com/github/hamagami/preprocess/blob/main/03_01_%E3%83%87%E3%83%BC%E3%82%BF%E6%A7%8B%E9%80%A01.ipynb\" target=\"_parent\"><img src=\"https://colab.research.google.com/assets/colab-badge.svg\" alt=\"Open In Colab\"/></a>"
      ]
    },
    {
      "cell_type": "markdown",
      "metadata": {
        "id": "VJVZu20BYU7c"
      },
      "source": [
        "# pythonによるデータ構造の表現例\n",
        "いろいろな表現方法はありますがここでは　ベクトル・行列・テンソルは　numpyを\n",
        "リストと木構造は　anytree を\n",
        "グラフとネットワークは　networkx を使います"
      ]
    },
    {
      "cell_type": "code",
      "metadata": {
        "colab": {
          "base_uri": "https://localhost:8080/"
        },
        "id": "O5jIDqFNagVL",
        "outputId": "5cb15f75-cb7f-4328-c16f-64a49a48b9cd"
      },
      "source": [
        "!pip install anytree # google colabの最初の状態では anytreeは入っていないのでインストールしておきます\n",
        "!pip install networkx # networkxもいれておきます"
      ],
      "execution_count": null,
      "outputs": [
        {
          "output_type": "stream",
          "text": [
            "Requirement already satisfied: anytree in /usr/local/lib/python3.7/dist-packages (2.8.0)\n",
            "Requirement already satisfied: six>=1.9.0 in /usr/local/lib/python3.7/dist-packages (from anytree) (1.15.0)\n",
            "Requirement already satisfied: networkx in /usr/local/lib/python3.7/dist-packages (2.5.1)\n",
            "Requirement already satisfied: decorator<5,>=4.3 in /usr/local/lib/python3.7/dist-packages (from networkx) (4.4.2)\n"
          ],
          "name": "stdout"
        }
      ]
    },
    {
      "cell_type": "code",
      "metadata": {
        "id": "O6nHZZhlYcGP"
      },
      "source": [
        "# ここはおまじないだと思ってください\n",
        "import numpy as np  \n",
        "from  anytree import *\n",
        "import networkx as nx\n",
        "import matplotlib.pyplot as plt"
      ],
      "execution_count": null,
      "outputs": []
    },
    {
      "cell_type": "markdown",
      "metadata": {
        "id": "wUjDl4GNa0P-"
      },
      "source": [
        "## ベクトル，行列，テンソル"
      ]
    },
    {
      "cell_type": "code",
      "metadata": {
        "colab": {
          "base_uri": "https://localhost:8080/"
        },
        "id": "ZF_T2kQLazUK",
        "outputId": "ac9926bc-2621-4e8c-8803-acd51b0003bf"
      },
      "source": [
        "vec = np.array([0,1,2,3,4,5,6,7,8,9])\n",
        "print(vec)"
      ],
      "execution_count": null,
      "outputs": [
        {
          "output_type": "stream",
          "text": [
            "[0 1 2 3 4 5 6 7 8 9]\n"
          ],
          "name": "stdout"
        }
      ]
    },
    {
      "cell_type": "code",
      "metadata": {
        "colab": {
          "base_uri": "https://localhost:8080/"
        },
        "id": "2jOlVyWJaboi",
        "outputId": "15132290-3381-40a4-b457-8c45f755a104"
      },
      "source": [
        "mat =np.array([vec,vec,vec])\n",
        "print(mat)"
      ],
      "execution_count": null,
      "outputs": [
        {
          "output_type": "stream",
          "text": [
            "[[0 1 2 3 4 5 6 7 8 9]\n",
            " [0 1 2 3 4 5 6 7 8 9]\n",
            " [0 1 2 3 4 5 6 7 8 9]]\n"
          ],
          "name": "stdout"
        }
      ]
    },
    {
      "cell_type": "code",
      "metadata": {
        "colab": {
          "base_uri": "https://localhost:8080/"
        },
        "id": "0246poLgbH4L",
        "outputId": "f86074a7-25b2-4bdd-a957-238e61f6a3e6"
      },
      "source": [
        "tensor=np.array([mat,mat,mat])\n",
        "print(tensor)"
      ],
      "execution_count": null,
      "outputs": [
        {
          "output_type": "stream",
          "text": [
            "[[[0 1 2 3 4 5 6 7 8 9]\n",
            "  [0 1 2 3 4 5 6 7 8 9]\n",
            "  [0 1 2 3 4 5 6 7 8 9]]\n",
            "\n",
            " [[0 1 2 3 4 5 6 7 8 9]\n",
            "  [0 1 2 3 4 5 6 7 8 9]\n",
            "  [0 1 2 3 4 5 6 7 8 9]]\n",
            "\n",
            " [[0 1 2 3 4 5 6 7 8 9]\n",
            "  [0 1 2 3 4 5 6 7 8 9]\n",
            "  [0 1 2 3 4 5 6 7 8 9]]]\n"
          ],
          "name": "stdout"
        }
      ]
    },
    {
      "cell_type": "markdown",
      "metadata": {
        "id": "172pdsAVbgkc"
      },
      "source": [
        "## 木構造　（リストは木で代用できます）"
      ]
    },
    {
      "cell_type": "code",
      "metadata": {
        "id": "Vf3m_a4pbI6w"
      },
      "source": [
        "udo  = Node( \"Udo\" , parent=None )\n",
        "marc = Node( \"Marc\", parent=udo )\n",
        "lian = Node( \"Lian\", parent=marc )\n",
        "dan  = Node( \"Dan\",  parent=udo )\n",
        "jet  = Node( \"Jet\",  parent=dan )\n",
        "jan  = Node( \"Jan\",  parent=dan )\n",
        "joe  = Node( \"Joe\",  parent=dan )"
      ],
      "execution_count": null,
      "outputs": []
    },
    {
      "cell_type": "code",
      "metadata": {
        "colab": {
          "base_uri": "https://localhost:8080/"
        },
        "id": "E2cpcGDvfGO3",
        "outputId": "b5d910fb-8c6e-4308-f9d9-6df139e21989"
      },
      "source": [
        "for pre, fill, node in RenderTree(udo):\n",
        "    print(\"%s%s\" % (pre, node.name))"
      ],
      "execution_count": null,
      "outputs": [
        {
          "output_type": "stream",
          "text": [
            "Udo\n",
            "├── Marc\n",
            "│   └── Lian\n",
            "└── Dan\n",
            "    ├── Jet\n",
            "    ├── Jan\n",
            "    └── Joe\n"
          ],
          "name": "stdout"
        }
      ]
    },
    {
      "cell_type": "markdown",
      "metadata": {
        "id": "u6wYpElIcpWT"
      },
      "source": [
        "## グラフとネットワーク構造"
      ]
    },
    {
      "cell_type": "code",
      "metadata": {
        "id": "eDLSg5_Vch2T"
      },
      "source": [
        "sg= nx.Graph() #空の無向グラム\n",
        "dg = nx.DiGraph() #空の有向グラフ"
      ],
      "execution_count": null,
      "outputs": []
    },
    {
      "cell_type": "code",
      "metadata": {
        "colab": {
          "base_uri": "https://localhost:8080/"
        },
        "id": "Drz3gTXFckcp",
        "outputId": "9528c70d-4f65-4e2d-bdd0-a3d225570d2d"
      },
      "source": [
        "sg.add_node(1)                \n",
        "sg.add_nodes_from([3, 4, 5])\n",
        "sg.add_edge(1, 2)                                    \n",
        "sg.add_edges_from([(1, 3), (2, 5), (3, 4), (4, 5),(5,3)])"
      ],
      "execution_count": null,
      "outputs": [
        {
          "output_type": "stream",
          "text": [
            "[1, 3, 4, 5, 2]\n"
          ],
          "name": "stdout"
        }
      ]
    },
    {
      "cell_type": "code",
      "metadata": {
        "colab": {
          "base_uri": "https://localhost:8080/",
          "height": 248
        },
        "id": "i3aX28aade1F",
        "outputId": "9d15d2df-85cd-4eef-b249-bcebffc82e14"
      },
      "source": [
        "nx.draw_networkx(sg)\n",
        "plt.show()"
      ],
      "execution_count": null,
      "outputs": [
        {
          "output_type": "display_data",
          "data": {
            "image/png": "[encoded data removed]",
            "text/plain": [
              "<Figure size 432x288 with 1 Axes>"
            ]
          },
          "metadata": {
            "tags": []
          }
        }
      ]
    },
    {
      "cell_type": "code",
      "metadata": {
        "id": "sBhlmjFOeh1M"
      },
      "source": [
        ""
      ],
      "execution_count": null,
      "outputs": []
    }
  ]
}