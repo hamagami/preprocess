{
  "nbformat": 4,
  "nbformat_minor": 0,
  "metadata": {
    "colab": {
      "name": "04-08_PCAによる次元削減.ipynb",
      "provenance": [],
      "authorship_tag": "ABX9TyN9CPmtbkbv6nLyTAZ/XeUf",
      "include_colab_link": true
    },
    "kernelspec": {
      "name": "python3",
      "display_name": "Python 3"
    },
    "language_info": {
      "name": "python"
    }
  },
  "cells": [
    {
      "cell_type": "markdown",
      "metadata": {
        "id": "view-in-github",
        "colab_type": "text"
      },
      "source": [
        "<a href=\"https://colab.research.google.com/github/hamagami/preprocess/blob/main/04_08_PCA%E3%81%AB%E3%82%88%E3%82%8B%E6%AC%A1%E5%85%83%E5%89%8A%E6%B8%9B.ipynb\" target=\"_parent\"><img src=\"https://colab.research.google.com/assets/colab-badge.svg\" alt=\"Open In Colab\"/></a>"
      ]
    },
    {
      "cell_type": "markdown",
      "metadata": {
        "id": "8plUTeaKvgGD"
      },
      "source": [
        "# PCAによる次元削減"
      ]
    },
    {
      "cell_type": "code",
      "metadata": {
        "id": "-j75sbTvYBQ9"
      },
      "source": [
        "import numpy as np\n",
        "import pandas as pd\n",
        "import matplotlib.pyplot as plt\n",
        "import sklearn\n",
        "from sklearn.decomposition import PCA #主成分分析器\n",
        "%matplotlib inline"
      ],
      "execution_count": null,
      "outputs": []
    },
    {
      "cell_type": "code",
      "metadata": {
        "id": "Xgyrd3v3ajZ0"
      },
      "source": [
        "df = pd.read_csv(\"https://raw.githubusercontent.com/maskot1977/ipython_notebook/master/toydata/wine.txt\", sep=\"\\t\", index_col=0)"
      ],
      "execution_count": null,
      "outputs": []
    },
    {
      "cell_type": "code",
      "metadata": {
        "id": "zkRYicBFa_NY"
      },
      "source": [
        "df.head()"
      ],
      "execution_count": null,
      "outputs": []
    },
    {
      "cell_type": "code",
      "metadata": {
        "id": "tCpxVxEtwMha"
      },
      "source": [
        "df[\"class\"].value_counts() # 1,2,3 という３つのclassがある"
      ],
      "execution_count": null,
      "outputs": []
    },
    {
      "cell_type": "markdown",
      "metadata": {
        "id": "b5cLH-opmIT8"
      },
      "source": [
        "class 以外の変数で散布図行列をつくる。いくつかの２変数でclassの分布はわかれてみえるところもあるが、きれいに分けられるものはない"
      ]
    },
    {
      "cell_type": "code",
      "metadata": {
        "id": "Re4nZIXPbERr"
      },
      "source": [
        "from pandas import plotting \n",
        "plotting.scatter_matrix(df.iloc[:, 1:], figsize=(8, 8), c=list(df.iloc[:, 0]), alpha=0.5)\n",
        "plt.show()"
      ],
      "execution_count": null,
      "outputs": []
    },
    {
      "cell_type": "markdown",
      "metadata": {
        "id": "mx0-0CTYo9Dl"
      },
      "source": [
        "## オリジナルのデータと標準化をしたデータをつくる\n"
      ]
    },
    {
      "cell_type": "code",
      "metadata": {
        "id": "uLvsTPKYpFVI"
      },
      "source": [
        "df_org = df.iloc[:,1:] #class を除いた説明変数だけのデータにする\n",
        "df_org.head()"
      ],
      "execution_count": null,
      "outputs": []
    },
    {
      "cell_type": "markdown",
      "metadata": {
        "id": "vXXGe0atpvBU"
      },
      "source": [
        "標準化を行っていないデータのままPCAをとり，その第一，第二主成分とclassの分布の関係をみてみる"
      ]
    },
    {
      "cell_type": "code",
      "metadata": {
        "id": "TArQEns9paGg"
      },
      "source": [
        "pca_org=PCA()\n",
        "pca_org.fit(dforg)\n",
        "feature_org = pca_org.transform(df_org)\n",
        "plt.figure(figsize=(6, 6))\n",
        "plt.scatter(feature_org[:, 0], feature_org[:, 1], alpha=0.8, c=list(df.iloc[:, 0]))\n",
        "plt.grid()\n",
        "plt.xlabel(\"PC1\")\n",
        "plt.ylabel(\"PC2\")\n",
        "plt.show()"
      ],
      "execution_count": null,
      "outputs": []
    },
    {
      "cell_type": "markdown",
      "metadata": {
        "id": "ecoHi7xPqG6K"
      },
      "source": [
        "PCAの結果で散布図行列"
      ]
    },
    {
      "cell_type": "code",
      "metadata": {
        "id": "-PTcf7-kqEzv"
      },
      "source": [
        "from pandas import plotting \n",
        "plotting.scatter_matrix(pd.DataFrame(feature_org, \n",
        "                        columns=[\"PC{}\".format(x + 1) for x in range(len(df_org.columns))]), \n",
        "                        figsize=(8, 8), c=list(df.iloc[:, 0]), alpha=0.5) \n",
        "plt.show()"
      ],
      "execution_count": null,
      "outputs": []
    },
    {
      "cell_type": "markdown",
      "metadata": {
        "id": "3CSoYbjMxWi9"
      },
      "source": [
        "PCAの結果，主成分の情報をみてみる"
      ]
    },
    {
      "cell_type": "code",
      "metadata": {
        "id": "hgfS6Jfjsx07"
      },
      "source": [
        "pca_org.explained_variance_ratio_\n",
        "pd.DataFrame(feature_org, columns=[\"PC{}\".format(x + 1) for x in range(len(df_org.columns))]).head()"
      ],
      "execution_count": null,
      "outputs": []
    },
    {
      "cell_type": "markdown",
      "metadata": {
        "id": "3tZ7gR9tqWbP"
      },
      "source": [
        "累積寄与度　絶対値の大きい少数の変数の寄与が多いので必要な次数は少なくみえる"
      ]
    },
    {
      "cell_type": "code",
      "metadata": {
        "id": "itqCEVFhqZsH"
      },
      "source": [
        "import matplotlib.ticker as ticker\n",
        "plt.gca().get_xaxis().set_major_locator(ticker.MaxNLocator(integer=True))\n",
        "plt.plot([0] + list( np.cumsum(pca_org.explained_variance_ratio_)), \"-o\")\n",
        "plt.xlabel(\"Number of principal components\")\n",
        "plt.ylabel(\"Cumulative contribution rate\")\n",
        "plt.grid()\n",
        "plt.show()"
      ],
      "execution_count": null,
      "outputs": []
    },
    {
      "cell_type": "code",
      "metadata": {
        "id": "YLeufpRwqqHH"
      },
      "source": [
        "# 第一主成分と第二主成分における観測変数の寄与度をプロットする\n",
        "# Magnesium と　proline だけが大きく寄与しているようにみえる\n",
        "plt.figure(figsize=(6, 6))\n",
        "for x, y, name in zip(pca_org.components_[0], pca_org.components_[1], df.columns[1:]):\n",
        "    plt.text(x, y, name)\n",
        "plt.scatter(pca_org.components_[0], pca_org.components_[1], alpha=0.8)\n",
        "plt.grid()\n",
        "plt.xlabel(\"PC1\")\n",
        "plt.ylabel(\"PC2\")\n",
        "plt.show()"
      ],
      "execution_count": null,
      "outputs": []
    },
    {
      "cell_type": "markdown",
      "metadata": {
        "id": "V93y8vNvqtpR"
      },
      "source": [
        "# 標準化をした場合のPCA"
      ]
    },
    {
      "cell_type": "code",
      "metadata": {
        "id": "mCN_5BR6rCRC"
      },
      "source": [
        "df_gen = df.iloc[:, 1:].apply(lambda x: (x-x.mean())/x.std(), axis=0)\n",
        "df_gen.head()"
      ],
      "execution_count": null,
      "outputs": []
    },
    {
      "cell_type": "code",
      "metadata": {
        "id": "bBa_Rx1ccMsb"
      },
      "source": [
        "#主成分分析の実行\n",
        "pca_gen = PCA()\n",
        "pca_gen.fit(df_gen)\n",
        "feature_gen = pca_gen.transform(df_gen)\n"
      ],
      "execution_count": null,
      "outputs": []
    },
    {
      "cell_type": "code",
      "metadata": {
        "id": "mFaEoyrMceYU"
      },
      "source": [
        "plt.figure(figsize=(6, 6))\n",
        "plt.scatter(feature_gen[:, 0], feature_gen[:, 1], alpha=0.8, c=list(df.iloc[:, 0]))\n",
        "plt.grid()\n",
        "plt.xlabel(\"PC1\")\n",
        "plt.ylabel(\"PC2\")\n",
        "plt.show()"
      ],
      "execution_count": null,
      "outputs": []
    },
    {
      "cell_type": "code",
      "metadata": {
        "id": "k4Hfdd80cnr1"
      },
      "source": [
        "from pandas import plotting \n",
        "plotting.scatter_matrix(pd.DataFrame(feature_gen, \n",
        "                        columns=[\"PC{}\".format(x + 1) for x in range(len(df_gen.columns))]), \n",
        "                        figsize=(8, 8), c=list(df.iloc[:, 0]), alpha=0.5) \n",
        "plt.show()"
      ],
      "execution_count": null,
      "outputs": []
    },
    {
      "cell_type": "code",
      "metadata": {
        "id": "KIW2do_VdgOt"
      },
      "source": [
        "# 累積寄与率を図示する\n",
        "import matplotlib.ticker as ticker\n",
        "plt.gca().get_xaxis().set_major_locator(ticker.MaxNLocator(integer=True))\n",
        "plt.plot([0] + list( np.cumsum(pca_gen.explained_variance_ratio_)), \"-o\")\n",
        "plt.xlabel(\"Number of principal components\")\n",
        "plt.ylabel(\"Cumulative contribution rate\")\n",
        "plt.grid()\n",
        "plt.show()"
      ],
      "execution_count": null,
      "outputs": []
    },
    {
      "cell_type": "code",
      "metadata": {
        "id": "leYv3DPxi624"
      },
      "source": [
        "# 第一主成分と第二主成分における観測変数の寄与度をプロットする\n",
        "plt.figure(figsize=(6, 6))\n",
        "for x, y, name in zip(pca_gen.components_[0], pca_gen.components_[1], df.columns[1:]):\n",
        "    plt.text(x, y, name)\n",
        "plt.scatter(pca_gen.components_[0], pca_gen.components_[1], alpha=0.8)\n",
        "plt.grid()\n",
        "plt.xlabel(\"PC1\")\n",
        "plt.ylabel(\"PC2\")\n",
        "plt.show()"
      ],
      "execution_count": null,
      "outputs": []
    },
    {
      "cell_type": "code",
      "metadata": {
        "id": "Yf83r1bmkNFW"
      },
      "source": [
        "df.loc[:,['class','Magnesium','Proline']]"
      ],
      "execution_count": null,
      "outputs": []
    },
    {
      "cell_type": "code",
      "metadata": {
        "id": "5XxQLscHvQRM"
      },
      "source": [
        ""
      ],
      "execution_count": null,
      "outputs": []
    }
  ]
}