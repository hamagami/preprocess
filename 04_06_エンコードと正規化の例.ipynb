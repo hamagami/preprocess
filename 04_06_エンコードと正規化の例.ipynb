{
  "nbformat": 4,
  "nbformat_minor": 0,
  "metadata": {
    "colab": {
      "name": "04-06_エンコードと正規化の例.ipynb",
      "provenance": [],
      "authorship_tag": "ABX9TyNidiZlzlusn0bmZeTPDE5H",
      "include_colab_link": true
    },
    "kernelspec": {
      "name": "python3",
      "display_name": "Python 3"
    },
    "language_info": {
      "name": "python"
    }
  },
  "cells": [
    {
      "cell_type": "markdown",
      "metadata": {
        "id": "view-in-github",
        "colab_type": "text"
      },
      "source": [
        "<a href=\"https://colab.research.google.com/github/hamagami/preprocess/blob/main/04_06_%E3%82%A8%E3%83%B3%E3%82%B3%E3%83%BC%E3%83%89%E3%81%A8%E6%AD%A3%E8%A6%8F%E5%8C%96%E3%81%AE%E4%BE%8B.ipynb\" target=\"_parent\"><img src=\"https://colab.research.google.com/assets/colab-badge.svg\" alt=\"Open In Colab\"/></a>"
      ]
    },
    {
      "cell_type": "markdown",
      "metadata": {
        "id": "Q_FFptqqxfFl"
      },
      "source": [
        "# エンコードと正規化"
      ]
    },
    {
      "cell_type": "markdown",
      "metadata": {
        "id": "TyQFHpcQx43p"
      },
      "source": [
        "必要な基本モジュールと設定の読み込み"
      ]
    },
    {
      "cell_type": "code",
      "metadata": {
        "id": "MBfh-fegvEDL"
      },
      "source": [
        "import pandas as pd\n",
        "pd.set_option('display.max_columns', 50)\n",
        "import numpy as np\n",
        "import seaborn as sns\n",
        "import matplotlib.pyplot as plt\n",
        "sns.set_style(\"whitegrid\")\n",
        "%matplotlib inline"
      ],
      "execution_count": null,
      "outputs": []
    },
    {
      "cell_type": "markdown",
      "metadata": {
        "id": "-d5DzcB9yD19"
      },
      "source": [
        "[ UCI Machine Learning Repository](https://archive.ics.uci.edu/ml/index.php)から[Automobile Data Set](https://archive.ics.uci.edu/ml/datasets/automobile)を取得する。このデータにはカラム名がついていないため，自分でカラム名を設定。ためしに最初の10レコードだけ出力させる"
      ]
    },
    {
      "cell_type": "code",
      "metadata": {
        "id": "75uuMgmtvO71"
      },
      "source": [
        "headers = [\"symboling\", \"normalized_losses\", \"make\", \"fuel_type\", \"aspiration\",\n",
        "           \"num_doors\", \"body_style\", \"drive_wheels\", \"engine_location\",\n",
        "           \"wheel_base\", \"length\", \"width\", \"height\", \"curb_weight\",\n",
        "           \"engine_type\", \"num_cylinders\", \"engine_size\", \"fuel_system\",\n",
        "           \"bore\", \"stroke\", \"compression_ratio\", \"horsepower\", \"peak_rpm\",\n",
        "           \"city_mpg\", \"highway_mpg\", \"price\"]\n",
        "\n",
        "df = pd.read_csv(\"https://archive.ics.uci.edu/ml/machine-learning-databases/autos/imports-85.data\",header=None, names=headers, na_values=\"?\" )\n",
        "df.head(10)"
      ],
      "execution_count": null,
      "outputs": []
    },
    {
      "cell_type": "code",
      "metadata": {
        "id": "P_qi1PjbvRRx"
      },
      "source": [
        "df.dtypes #各カラムのデータの型を確認 "
      ],
      "execution_count": null,
      "outputs": []
    },
    {
      "cell_type": "code",
      "metadata": {
        "id": "wsr1qGq7vTz1"
      },
      "source": [
        "df.isnull().any() #各カラムに NaN が存在しているかどうかを確認。NaNが入っているデータならTrueとなる"
      ],
      "execution_count": null,
      "outputs": []
    },
    {
      "cell_type": "code",
      "metadata": {
        "id": "C0TBoLEMzezV"
      },
      "source": [
        "df.isnull().sum()[df.isnull().sum() != 0] #NaNが入っているカラムごとにNaNの個数を確認"
      ],
      "execution_count": null,
      "outputs": []
    },
    {
      "cell_type": "code",
      "metadata": {
        "id": "F5fD9AScwslm"
      },
      "source": [
        "df[df.isnull().any(axis=1)].head() #NaNがでてくる行だけセレクトして最初の方だけ出力"
      ],
      "execution_count": null,
      "outputs": []
    },
    {
      "cell_type": "markdown",
      "metadata": {
        "id": "VuOZHUSh1Bjf"
      },
      "source": [
        "# データの統計的性質を把握する"
      ]
    },
    {
      "cell_type": "code",
      "metadata": {
        "id": "1WRDwihAwuRQ"
      },
      "source": [
        "df.describe() #それぞれのカラムに対する統計量を確認 型が数値の場合のみでNaNは除外された統計量となる"
      ],
      "execution_count": null,
      "outputs": []
    },
    {
      "cell_type": "markdown",
      "metadata": {
        "id": "mGapuOUUmD8k"
      },
      "source": [
        "各変数間の相関関係を図示してみる(先の例では Profiling で行ったが，ここでは直接グラフに出してみる）"
      ]
    },
    {
      "cell_type": "code",
      "metadata": {
        "id": "vs_ZJgSVwzc8"
      },
      "source": [
        "corr = df.corr()\n",
        "# Generate a mask for the upper triangle\n",
        "mask = np.zeros_like(corr, dtype=np.bool)\n",
        "mask[np.triu_indices_from(mask)] = True\n",
        "\n",
        "# Set up the matplotlib figure\n",
        "f, ax = plt.subplots(figsize=(11, 9))\n",
        "\n",
        "# Draw the heatmap with the mask and correct aspect ratio\n",
        "sns.heatmap(corr, mask=mask, vmax=.8, center=0,\n",
        "            square=True, linewidths=.5, cbar_kws={\"shrink\": .5})"
      ],
      "execution_count": null,
      "outputs": []
    },
    {
      "cell_type": "markdown",
      "metadata": {
        "id": "_AtOCfON1YE5"
      },
      "source": [
        "## ラベルエンコーダ\n",
        "カテゴリカルデータのラベルをエンコードして数値に直す"
      ]
    },
    {
      "cell_type": "code",
      "metadata": {
        "id": "BgLm3VV_w2Cd"
      },
      "source": [
        "from sklearn.preprocessing import LabelEncoder # ラベルエンコーダを試す"
      ],
      "execution_count": null,
      "outputs": []
    },
    {
      "cell_type": "code",
      "metadata": {
        "id": "MnwNUh0zw5g1"
      },
      "source": [
        "df[\"make\"].unique() #カラム \"make\"のユニークな要素を確認"
      ],
      "execution_count": null,
      "outputs": []
    },
    {
      "cell_type": "code",
      "metadata": {
        "id": "2nqQJPgAw7Kt"
      },
      "source": [
        "le = LabelEncoder()\n",
        "df[\"make_encode\"] = le.fit_transform(df[\"make\"]) #新たに make_encode というカラムをつくり，そこに makeの要素をエンコードした結果をいれる\n",
        "df[[\"make\", \"make_encode\"]].head(11) # make と make_encodeのペアを表示　メーカー（ラベル）ごとに異なる整数値（コード）が割り当てられる"
      ],
      "execution_count": null,
      "outputs": []
    },
    {
      "cell_type": "markdown",
      "metadata": {
        "id": "uhrCIRnx2MKj"
      },
      "source": [
        "## ラベルバイナライザ"
      ]
    },
    {
      "cell_type": "code",
      "metadata": {
        "id": "YBkT0NtSw9be"
      },
      "source": [
        "from sklearn.preprocessing import LabelBinarizer"
      ],
      "execution_count": null,
      "outputs": []
    },
    {
      "cell_type": "code",
      "metadata": {
        "id": "Z4H6LK0Fw_2u"
      },
      "source": [
        "df[\"body_style\"].unique() #車のスタイルに関するユニークな要素を抽出"
      ],
      "execution_count": null,
      "outputs": []
    },
    {
      "cell_type": "code",
      "metadata": {
        "id": "I52BFjkwxBbv"
      },
      "source": [
        "lb = LabelBinarizer()\n",
        "lb_results = lb.fit_transform(df[\"body_style\"]) #各要素をカラムとするマトリスクをつくる\n",
        "pd.DataFrame(lb_results, columns=lb.classes_).head()"
      ],
      "execution_count": null,
      "outputs": []
    },
    {
      "cell_type": "markdown",
      "metadata": {
        "id": "CoJH9qfcwyXH"
      },
      "source": [
        "## ワンホットエンコーダー"
      ]
    },
    {
      "cell_type": "code",
      "metadata": {
        "id": "jyFTSRvoxEXD"
      },
      "source": [
        "from sklearn.preprocessing import OneHotEncoder"
      ],
      "execution_count": null,
      "outputs": []
    },
    {
      "cell_type": "code",
      "metadata": {
        "id": "0LiKQeKuxHCV"
      },
      "source": [
        "df[[\"make\", \"make_encode\"]].head(11) #ラベルエンコーダの結果を再掲"
      ],
      "execution_count": null,
      "outputs": []
    },
    {
      "cell_type": "code",
      "metadata": {
        "id": "SgzhQFvxxInx"
      },
      "source": [
        "oh = OneHotEncoder()\n",
        "oh.fit_transform(df[\"make_encode\"].head(11).values.reshape(-1,1)).A #エンコード（整数）を各ビットで表現する　最初の11レコードに含まれるメーカーは3つなので3ビットにエンコードされる"
      ],
      "execution_count": null,
      "outputs": []
    },
    {
      "cell_type": "markdown",
      "metadata": {
        "id": "p-uxI227mkXs"
      },
      "source": [
        "\n",
        "\n",
        "---\n",
        "\n",
        "\n",
        "\n",
        "---\n",
        "\n"
      ]
    },
    {
      "cell_type": "markdown",
      "metadata": {
        "id": "8Wc9J0_SwnqD"
      },
      "source": [
        "## MinMax正規化の例"
      ]
    },
    {
      "cell_type": "code",
      "metadata": {
        "id": "SptpkhGtxK0A"
      },
      "source": [
        "from sklearn.preprocessing import MinMaxScaler"
      ],
      "execution_count": null,
      "outputs": []
    },
    {
      "cell_type": "code",
      "metadata": {
        "id": "HQ55a5krxNw2"
      },
      "source": [
        "mms = MinMaxScaler()"
      ],
      "execution_count": null,
      "outputs": []
    },
    {
      "cell_type": "code",
      "metadata": {
        "id": "0IT-65jUxPU5"
      },
      "source": [
        "# ダミーデータをつくる\n",
        "from sklearn.datasets import make_blobs\n",
        "# 2次元，分散１のクラスタ１つ　100個の点をつくる\n",
        "X, Y = make_blobs(random_state=8,\n",
        "                  n_samples=100, \n",
        "                  n_features=2, \n",
        "                  cluster_std=1.,\n",
        "                  centers=1)\n",
        "# 描画\n",
        "plt.figure(figsize=(7, 7))\n",
        "plt.scatter(X[:, 0], X[:, 1], marker='o', c=\"r\", s=25,label=\"original\")\n",
        "# それぞれの軸で　最大１　最小０にスケーリング\n",
        "XX = mms.fit_transform(X)\n",
        "plt.scatter(XX[:, 0], XX[:, 1], marker='o', c=\"b\", s=25, label=\"Normarization\")\n",
        "\n",
        "plt.legend()"
      ],
      "execution_count": null,
      "outputs": []
    },
    {
      "cell_type": "markdown",
      "metadata": {
        "id": "IQX77Lvj4A-L"
      },
      "source": [
        "## 標準化"
      ]
    },
    {
      "cell_type": "code",
      "metadata": {
        "id": "GwZF2A_8xSol"
      },
      "source": [
        "from sklearn.preprocessing import StandardScaler"
      ],
      "execution_count": null,
      "outputs": []
    },
    {
      "cell_type": "code",
      "metadata": {
        "id": "AdVSS0ytxU8d"
      },
      "source": [
        "ss = StandardScaler()"
      ],
      "execution_count": null,
      "outputs": []
    },
    {
      "cell_type": "code",
      "metadata": {
        "id": "gTwcbwGVxWaT"
      },
      "source": [
        "#　ダミーデータをつくる\n",
        "from sklearn.datasets import make_blobs\n",
        "# 2次元，分散2のクラスタ１つ　100個の点をつくる\n",
        "X, Y = make_blobs(random_state=8,\n",
        "                  n_samples=100, \n",
        "                  n_features=2, \n",
        "                  cluster_std=2.,\n",
        "                  centers=1)\n",
        "\n",
        "plt.figure(figsize=(7, 7))\n",
        "plt.scatter(X[:, 0], X[:, 1], marker='o', c=\"r\", s=25,label=\"original\")\n",
        "# 標準化（それぞれの軸に対して，平均０，分散１）\n",
        "XX = ss.fit_transform(X)\n",
        "plt.scatter(XX[:, 0], XX[:, 1], marker='o', c=\"g\", s=25, label=\"standardization\")\n",
        "\n",
        "plt.legend()"
      ],
      "execution_count": null,
      "outputs": []
    },
    {
      "cell_type": "code",
      "metadata": {
        "id": "oGysKajLxbXm"
      },
      "source": [
        ""
      ],
      "execution_count": null,
      "outputs": []
    }
  ]
}