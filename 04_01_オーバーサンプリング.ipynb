{
  "nbformat": 4,
  "nbformat_minor": 0,
  "metadata": {
    "colab": {
      "name": "04-01_オーバーサンプリング.ipynb",
      "provenance": [],
      "collapsed_sections": [],
      "authorship_tag": "ABX9TyOc7bPFuzqsXQnox+7xp1P6",
      "include_colab_link": true
    },
    "kernelspec": {
      "name": "python3",
      "display_name": "Python 3"
    },
    "language_info": {
      "name": "python"
    }
  },
  "cells": [
    {
      "cell_type": "markdown",
      "metadata": {
        "id": "view-in-github",
        "colab_type": "text"
      },
      "source": [
        "<a href=\"https://colab.research.google.com/github/hamagami/preprocess/blob/main/04_01_%E3%82%AA%E3%83%BC%E3%83%90%E3%83%BC%E3%82%B5%E3%83%B3%E3%83%97%E3%83%AA%E3%83%B3%E3%82%B0.ipynb\" target=\"_parent\"><img src=\"https://colab.research.google.com/assets/colab-badge.svg\" alt=\"Open In Colab\"/></a>"
      ]
    },
    {
      "cell_type": "code",
      "metadata": {
        "id": "w6pktefiEXKZ"
      },
      "source": [
        "import numpy as np\n",
        "import matplotlib.pyplot as plt"
      ],
      "execution_count": null,
      "outputs": []
    },
    {
      "cell_type": "code",
      "metadata": {
        "id": "kGYwKmUeBvOa"
      },
      "source": [
        "from sklearn.datasets import make_classification\n",
        "\n",
        "X, y = make_classification(\n",
        "    n_samples=100,          # 生成データ(サンプル)数：10件\n",
        "    n_features=2,\n",
        "    n_informative=2,\n",
        "    n_redundant=0, \n",
        "    n_repeated=0, \n",
        "    n_classes=2,\n",
        "    n_clusters_per_class=1, \n",
        "    weights=[0.04, 0.96],  # 2対8の割合\n",
        "    class_sep=0.8, \n",
        "    random_state=1)"
      ],
      "execution_count": null,
      "outputs": []
    },
    {
      "cell_type": "code",
      "metadata": {
        "id": "fnvTyGQYCMgn"
      },
      "source": [
        "# imbalanced-learn「imblearn.over_sampling.SMOTE」Examplesを参考に作成\n",
        "# https://imbalanced-learn.readthedocs.io/en/stable/generated/imblearn.over_sampling.SMOTE.html#imblearn.over_sampling.SMOTE\n",
        "\n",
        "# imbalanced-learn API パッケージ\n",
        "from imblearn.over_sampling import SMOTE\n"
      ],
      "execution_count": null,
      "outputs": []
    },
    {
      "cell_type": "code",
      "metadata": {
        "colab": {
          "base_uri": "https://localhost:8080/"
        },
        "id": "MHR3VWxRCcgV",
        "outputId": "f279be4c-c2e5-4fc5-c5ae-d2c571768798"
      },
      "source": [
        "sm = SMOTE(sampling_strategy='auto', k_neighbors=3, n_jobs=1, random_state=42, ratio=None)\n",
        "\n",
        "# リサンプリング(サンプル生成)\n",
        "X_resampled, y_resampled = sm.fit_resample(X, y)"
      ],
      "execution_count": null,
      "outputs": [
        {
          "output_type": "stream",
          "text": [
            "/usr/local/lib/python3.7/dist-packages/sklearn/utils/deprecation.py:87: FutureWarning: Function safe_indexing is deprecated; safe_indexing is deprecated in version 0.22 and will be removed in version 0.24.\n",
            "  warnings.warn(msg, category=FutureWarning)\n"
          ],
          "name": "stderr"
        }
      ]
    },
    {
      "cell_type": "code",
      "metadata": {
        "id": "P3OS1bQaFMD3"
      },
      "source": [
        "X_0= X[np.where(y==0)].T\n",
        "X_1= X[np.where(y==1)].T\n",
        "\n",
        "X_re_0 = X_resampled[np.where(y_resampled==0)].T\n",
        "X_re_1 = X_resampled[np.where(y_resampled==1)].T"
      ],
      "execution_count": null,
      "outputs": []
    },
    {
      "cell_type": "code",
      "metadata": {
        "colab": {
          "base_uri": "https://localhost:8080/",
          "height": 265
        },
        "id": "vRVzROcFCxGj",
        "outputId": "69691748-ae13-4793-a92e-07baa8ea8ce3"
      },
      "source": [
        "plt.scatter(X_0[0],X_0[1])\n",
        "plt.scatter(X_1[0],X_1[1])\n",
        "plt.show()"
      ],
      "execution_count": null,
      "outputs": [
        {
          "output_type": "display_data",
          "data": {
            "image/png": "[encoded data removed]",
            "text/plain": [
              "<Figure size 432x288 with 1 Axes>"
            ]
          },
          "metadata": {
            "tags": [],
            "needs_background": "light"
          }
        }
      ]
    },
    {
      "cell_type": "code",
      "metadata": {
        "colab": {
          "base_uri": "https://localhost:8080/",
          "height": 265
        },
        "id": "mjOvJAnAEju5",
        "outputId": "1cb0465f-638f-4edf-a7da-aa036ec6b56a"
      },
      "source": [
        "plt.scatter(X_re_0[0],X_re_0[1])\n",
        "plt.scatter(X_re_1[0],X_re_1[1])\n",
        "plt.show()"
      ],
      "execution_count": null,
      "outputs": [
        {
          "output_type": "display_data",
          "data": {
            "image/png": "[encoded data removed]",
            "text/plain": [
              "<Figure size 432x288 with 1 Axes>"
            ]
          },
          "metadata": {
            "tags": [],
            "needs_background": "light"
          }
        }
      ]
    },
    {
      "cell_type": "code",
      "metadata": {
        "colab": {
          "base_uri": "https://localhost:8080/"
        },
        "id": "k2TXL75BIl4_",
        "outputId": "aead11f6-7b82-4a7e-b4de-c3377f22ce3b"
      },
      "source": [
        "X_re_1.shape"
      ],
      "execution_count": null,
      "outputs": [
        {
          "output_type": "execute_result",
          "data": {
            "text/plain": [
              "(2, 96)"
            ]
          },
          "metadata": {
            "tags": []
          },
          "execution_count": 41
        }
      ]
    },
    {
      "cell_type": "code",
      "metadata": {
        "colab": {
          "base_uri": "https://localhost:8080/"
        },
        "id": "jgbG6Fzxn3Z4",
        "outputId": "c8d6626a-7880-49a8-9d38-9fdb0b57e6ee"
      },
      "source": [
        "  X_re_0.shape"
      ],
      "execution_count": null,
      "outputs": [
        {
          "output_type": "execute_result",
          "data": {
            "text/plain": [
              "(2, 96)"
            ]
          },
          "metadata": {
            "tags": []
          },
          "execution_count": 38
        }
      ]
    },
    {
      "cell_type": "code",
      "metadata": {
        "id": "8aAFqxtgn5gn"
      },
      "source": [
        ""
      ],
      "execution_count": null,
      "outputs": []
    }
  ]
}