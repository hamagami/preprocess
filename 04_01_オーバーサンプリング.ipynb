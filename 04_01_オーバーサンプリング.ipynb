{
  "nbformat": 4,
  "nbformat_minor": 0,
  "metadata": {
    "colab": {
      "name": "04-01_オーバーサンプリング.ipynb",
      "provenance": [],
      "collapsed_sections": [],
      "authorship_tag": "ABX9TyPKqbniBJE3r0pyGvYYiatN",
      "include_colab_link": true
    },
    "kernelspec": {
      "name": "python3",
      "display_name": "Python 3"
    },
    "language_info": {
      "name": "python"
    }
  },
  "cells": [
    {
      "cell_type": "markdown",
      "metadata": {
        "id": "view-in-github",
        "colab_type": "text"
      },
      "source": [
        "<a href=\"https://colab.research.google.com/github/hamagami/preprocess/blob/main/04_01_%E3%82%AA%E3%83%BC%E3%83%90%E3%83%BC%E3%82%B5%E3%83%B3%E3%83%97%E3%83%AA%E3%83%B3%E3%82%B0.ipynb\" target=\"_parent\"><img src=\"https://colab.research.google.com/assets/colab-badge.svg\" alt=\"Open In Colab\"/></a>"
      ]
    },
    {
      "cell_type": "markdown",
      "metadata": {
        "id": "A0tJPeth94A3"
      },
      "source": [
        "# オーバーサンプリング　足らない部分を補完するSMOTEアルゴリズム"
      ]
    },
    {
      "cell_type": "code",
      "metadata": {
        "id": "w6pktefiEXKZ"
      },
      "source": [
        "import numpy as np\n",
        "import matplotlib.pyplot as plt\n",
        "from sklearn.datasets import make_classification # サンプルデータをつくるためにsklearnの make_classificationを使います\n",
        "\n",
        "from imblearn.over_sampling import SMOTE # SMOTEのパッケージです\n"
      ],
      "execution_count": 21,
      "outputs": []
    },
    {
      "cell_type": "markdown",
      "metadata": {
        "id": "Vc1LGopx-ZDy"
      },
      "source": [
        "## サンプルデータをつくります\n",
        "ここでは 100点の2次元データを，2クラス　5:95の割合で偏って発生させています"
      ]
    },
    {
      "cell_type": "code",
      "metadata": {
        "id": "kGYwKmUeBvOa"
      },
      "source": [
        "X, y = make_classification(\n",
        "    n_samples=100,          # 生成データ(サンプル)数：100件\n",
        "    n_features=2,\n",
        "    n_informative=2,\n",
        "    n_redundant=0, \n",
        "    n_repeated=0, \n",
        "    n_classes=2,\n",
        "    n_clusters_per_class=1, \n",
        "    weights=[0.05, 0.95],  # 5対95の割合\n",
        "    class_sep=0.8, \n",
        "    random_state=1)"
      ],
      "execution_count": 14,
      "outputs": []
    },
    {
      "cell_type": "code",
      "metadata": {
        "id": "jrRD6OQ5_UIo"
      },
      "source": [
        "#それぞれのクラスを分けて変数にいれてます。その際，表示の都合上ベクトルの転置をとっています\n",
        "X_0= X[np.where(y==0)].T\n",
        "X_1= X[np.where(y==1)].T"
      ],
      "execution_count": 15,
      "outputs": []
    },
    {
      "cell_type": "markdown",
      "metadata": {
        "id": "H1W0SK5y-4KF"
      },
      "source": [
        "どのようなデータができたか表示させてみます"
      ]
    },
    {
      "cell_type": "code",
      "metadata": {
        "id": "sJVOVqsD-yG6"
      },
      "source": [
        "plt.scatter(X_0[0],X_0[1])\n",
        "plt.scatter(X_1[0],X_1[1])\n",
        "plt.show()"
      ],
      "execution_count": null,
      "outputs": []
    },
    {
      "cell_type": "markdown",
      "metadata": {
        "id": "UMBzvl3H_4Ve"
      },
      "source": [
        "## SMOTEを使ってデータをリサンプリングします"
      ]
    },
    {
      "cell_type": "code",
      "metadata": {
        "id": "MHR3VWxRCcgV"
      },
      "source": [
        "sm = SMOTE(sampling_strategy='auto', k_neighbors=3, n_jobs=1, random_state=42, ratio=None)\n",
        "\n",
        "# リサンプリング(サンプル生成)\n",
        "X_resampled, y_resampled = sm.fit_resample(X, y)"
      ],
      "execution_count": null,
      "outputs": []
    },
    {
      "cell_type": "markdown",
      "metadata": {
        "id": "WaIM_OozABWk"
      },
      "source": [
        "リサンプリングしたデータを２クラスにわけて先ほどと同様に表示のために転置をとります"
      ]
    },
    {
      "cell_type": "code",
      "metadata": {
        "id": "P3OS1bQaFMD3"
      },
      "source": [
        "X_re_0 = X_resampled[np.where(y_resampled==0)].T\n",
        "X_re_1 = X_resampled[np.where(y_resampled==1)].T"
      ],
      "execution_count": 18,
      "outputs": []
    },
    {
      "cell_type": "code",
      "metadata": {
        "id": "mjOvJAnAEju5"
      },
      "source": [
        "plt.scatter(X_re_0[0],X_re_0[1])\n",
        "plt.scatter(X_re_1[0],X_re_1[1])\n",
        "plt.show()"
      ],
      "execution_count": null,
      "outputs": []
    },
    {
      "cell_type": "markdown",
      "metadata": {
        "id": "Cu0tmZatATc0"
      },
      "source": [
        "SMOTEには他にもデータの性質に合わせたいくつかの方法があります。[ここ](https://qiita.com/eigs/items/9ed36b5fc2913110e940)と[ここ](https://qiita.com/eigs/items/8ae0970afe188a1124d1)の記事が参考になります。\n"
      ]
    },
    {
      "cell_type": "code",
      "metadata": {
        "id": "UBV4GcBUAz3n"
      },
      "source": [
        ""
      ],
      "execution_count": null,
      "outputs": []
    }
  ]
}