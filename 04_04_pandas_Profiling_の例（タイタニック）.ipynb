{
  "nbformat": 4,
  "nbformat_minor": 0,
  "metadata": {
    "colab": {
      "name": "04-04_pandas Profiling の例（タイタニック）.ipynb",
      "provenance": [],
      "authorship_tag": "ABX9TyMqAvT4Gf44fJ+jaM2oWBMX",
      "include_colab_link": true
    },
    "kernelspec": {
      "name": "python3",
      "display_name": "Python 3"
    },
    "language_info": {
      "name": "python"
    }
  },
  "cells": [
    {
      "cell_type": "markdown",
      "metadata": {
        "id": "view-in-github",
        "colab_type": "text"
      },
      "source": [
        "<a href=\"https://colab.research.google.com/github/hamagami/preprocess/blob/main/04_04_pandas_Profiling_%E3%81%AE%E4%BE%8B%EF%BC%88%E3%82%BF%E3%82%A4%E3%82%BF%E3%83%8B%E3%83%83%E3%82%AF%EF%BC%89.ipynb\" target=\"_parent\"><img src=\"https://colab.research.google.com/assets/colab-badge.svg\" alt=\"Open In Colab\"/></a>"
      ]
    },
    {
      "cell_type": "markdown",
      "metadata": {
        "id": "D0WJE3m-em65"
      },
      "source": [
        "# pandas によるデータプロファイリング"
      ]
    },
    {
      "cell_type": "markdown",
      "metadata": {
        "id": "dZbaNu8Ye1bd"
      },
      "source": [
        "pandas_profiling をインストールします"
      ]
    },
    {
      "cell_type": "code",
      "metadata": {
        "id": "SS-h6IN49aRl"
      },
      "source": [
        "!pip install ydata-profiling"
      ],
      "execution_count": null,
      "outputs": []
    },
    {
      "cell_type": "markdown",
      "metadata": {
        "id": "XmGBIzgTe_wT"
      },
      "source": [
        "## 必要なモジュールのインポート"
      ]
    },
    {
      "cell_type": "code",
      "metadata": {
        "id": "L9MtG8Bx6Qug"
      },
      "source": [
        "import pandas as pd\n",
        "from ydata_profiling import ProfileReport\n",
        "import numpy as np"
      ],
      "execution_count": 4,
      "outputs": []
    },
    {
      "cell_type": "code",
      "metadata": {
        "id": "4Ui6osmk6o_0"
      },
      "source": [
        "df = pd.read_csv('https://raw.githubusercontent.com/pcsanwald/kaggle-titanic/master/train.csv')\n",
        "df"
      ],
      "execution_count": null,
      "outputs": []
    },
    {
      "cell_type": "markdown",
      "metadata": {
        "id": "Jws7yBnK_qo8"
      },
      "source": [
        "簡単なプロファイルはpandasのメソッドでみることができる\n",
        "各変数の型や欠損値の情報、数値データは統計量が確認できる"
      ]
    },
    {
      "cell_type": "code",
      "metadata": {
        "id": "ictkp61C7hM-"
      },
      "source": [
        "df.info()\n",
        "df.describe()"
      ],
      "execution_count": null,
      "outputs": []
    },
    {
      "cell_type": "markdown",
      "metadata": {
        "id": "COGhw01Kglch"
      },
      "source": [
        "## pandas_profiling の　ProfileReport で詳しい情報をみてみる\n",
        "少し時間がかかります"
      ]
    },
    {
      "cell_type": "code",
      "metadata": {
        "id": "JscYOKHrgi0X"
      },
      "source": [
        "ProfileReport(df)"
      ],
      "execution_count": null,
      "outputs": []
    },
    {
      "cell_type": "markdown",
      "metadata": {
        "id": "ERmYQrZPduYp"
      },
      "source": [
        "\n",
        "\n",
        "---\n",
        "\n",
        "\n",
        "\n",
        "---\n",
        "\n"
      ]
    },
    {
      "cell_type": "markdown",
      "metadata": {
        "id": "KYxqNpMRdwR7"
      },
      "source": [
        "ここから先は，次のセクションの内容\n",
        "\n",
        "\n",
        "*   欠損値処理\n",
        "*   不要な属性の除去\n",
        "*   エンコーディング\n",
        "\n",
        "\n"
      ]
    },
    {
      "cell_type": "markdown",
      "metadata": {
        "id": "TZJQeIiLdQpG"
      },
      "source": [
        "## 欠損値の処理を行う"
      ]
    },
    {
      "cell_type": "code",
      "metadata": {
        "id": "yjeSX9UT6b9V"
      },
      "source": [
        "df['age']=df['age'].fillna(df['age'].mean()) # ageは平均値で埋める"
      ],
      "execution_count": null,
      "outputs": []
    },
    {
      "cell_type": "code",
      "metadata": {
        "id": "Ip565IC16ze2"
      },
      "source": [
        "df['embarked']=df['embarked'].fillna(df['embarked'].mode()[0])# embarkedは最頻値で埋める"
      ],
      "execution_count": null,
      "outputs": []
    },
    {
      "cell_type": "code",
      "metadata": {
        "id": "qNox1jtI7LB6"
      },
      "source": [
        "df.info() #再度簡易プロファイル　　欠損が埋まっていることを確認"
      ],
      "execution_count": null,
      "outputs": []
    },
    {
      "cell_type": "markdown",
      "metadata": {
        "id": "P9XNe42O8zSi"
      },
      "source": [
        "使わない変数を落とす　ここでは name ticket cabin そして目的変数の survived をはずす"
      ]
    },
    {
      "cell_type": "code",
      "metadata": {
        "id": "vcdSVOZ49WNU"
      },
      "source": [
        "X=df.drop(columns=['name','ticket','cabin','survived'])\n",
        "Y=df['survived']"
      ],
      "execution_count": null,
      "outputs": []
    },
    {
      "cell_type": "code",
      "metadata": {
        "id": "3YxhBv9y95zN"
      },
      "source": [
        "X.head()"
      ],
      "execution_count": null,
      "outputs": []
    },
    {
      "cell_type": "markdown",
      "metadata": {
        "id": "pTLYpaEv-Wg7"
      },
      "source": [
        "プロファイル結果から、カテゴリカルデータはsex, embarkedの２つ、数値データはageとfareの２つ、離散的整数ラベルになっているのは pclass, sibsp, parch の３つ"
      ]
    },
    {
      "cell_type": "markdown",
      "metadata": {
        "id": "Ij3K_2hI-d-a"
      },
      "source": [
        "カテゴリカルデータをエンコードする　ここでは LabelEncoderをつかう"
      ]
    },
    {
      "cell_type": "code",
      "metadata": {
        "id": "EIiDTzHBBOs1"
      },
      "source": [
        "from sklearn.preprocessing import LabelEncoder\n",
        "for col in ['sex','embarked']:\n",
        "  labelenc=LabelEncoder()\n",
        "  X[col]=labelenc.fit_transform(list(df[col].values))"
      ],
      "execution_count": null,
      "outputs": []
    },
    {
      "cell_type": "code",
      "metadata": {
        "id": "atNco59tBU4k"
      },
      "source": [
        "X"
      ],
      "execution_count": null,
      "outputs": []
    },
    {
      "cell_type": "markdown",
      "metadata": {
        "id": "GMyjNoD5fLSY"
      },
      "source": [
        "これで一応学習できる状態にはなりました"
      ]
    },
    {
      "cell_type": "code",
      "metadata": {
        "id": "WuWql8DwSMlD"
      },
      "source": [],
      "execution_count": null,
      "outputs": []
    }
  ]
}