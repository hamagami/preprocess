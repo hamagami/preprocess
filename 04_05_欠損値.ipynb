{
  "nbformat": 4,
  "nbformat_minor": 0,
  "metadata": {
    "colab": {
      "name": "04-05_欠損値.ipynb",
      "provenance": [],
      "authorship_tag": "ABX9TyNN+mkv//H6kp8P9uCDdWP5",
      "include_colab_link": true
    },
    "kernelspec": {
      "name": "python3",
      "display_name": "Python 3"
    },
    "language_info": {
      "name": "python"
    }
  },
  "cells": [
    {
      "cell_type": "markdown",
      "metadata": {
        "id": "view-in-github",
        "colab_type": "text"
      },
      "source": [
        "<a href=\"https://colab.research.google.com/github/hamagami/preprocess/blob/main/04_05_%E6%AC%A0%E6%90%8D%E5%80%A4.ipynb\" target=\"_parent\"><img src=\"https://colab.research.google.com/assets/colab-badge.svg\" alt=\"Open In Colab\"/></a>"
      ]
    },
    {
      "cell_type": "markdown",
      "metadata": {
        "id": "xoBbMfm-9JVL"
      },
      "source": [
        "# 欠損値\n",
        "https://data-analysis-stats.jp/%E3%83%87%E3%83%BC%E3%82%BF%E5%89%8D%E5%87%A6%E7%90%86/mcar%E3%80%81mar%E3%80%81mnar%E3%81%AE%E6%AC%A0%E6%90%8D%E5%80%A4%EF%BC%8B%E6%AC%A0%E6%90%8D%E5%80%A4%E5%87%A6%E7%90%86/ の実装を一部改変"
      ]
    },
    {
      "cell_type": "code",
      "metadata": {
        "id": "zMM0PTda9Nzf"
      },
      "source": [
        "import pandas as pd\n",
        "import numpy as np\n",
        "\n",
        "from sklearn.impute import SimpleImputer #単一代入\n",
        "from sklearn.experimental import enable_iterative_imputer\n",
        "from sklearn.impute import IterativeImputer"
      ],
      "execution_count": 12,
      "outputs": []
    },
    {
      "cell_type": "markdown",
      "metadata": {
        "id": "REZkvod_gigr"
      },
      "source": [
        "簡易データ作成"
      ]
    },
    {
      "cell_type": "code",
      "metadata": {
        "id": "HX3lc-Vmfqwg"
      },
      "source": [
        "df = pd.DataFrame([[1, 85, 'M', 'B'],\n",
        "            [2, 95, 'F', 'A'],\n",
        "            [3, 75, None,'C'],\n",
        "            [4, np.NaN, 'M', 'C'],\n",
        "            [5, np.NaN, 'M', 'B'],\n",
        "            [6, 75, 'F', 'C']])\n",
        "df.columns = ['id', 'marks', 'gender', 'grade']\n",
        "df"
      ],
      "execution_count": null,
      "outputs": []
    },
    {
      "cell_type": "markdown",
      "metadata": {
        "id": "HxTzAzTojN_A"
      },
      "source": [
        "リストワイズ法"
      ]
    },
    {
      "cell_type": "code",
      "metadata": {
        "id": "hmvFOdj8jNmN"
      },
      "source": [
        "df1 = df.copy()\n",
        "df1=df1.dropna()\n",
        "df1"
      ],
      "execution_count": null,
      "outputs": []
    },
    {
      "cell_type": "markdown",
      "metadata": {
        "id": "MxeuB96Ng_Jg"
      },
      "source": [
        "平均値による単一代入法でmarksを補完"
      ]
    },
    {
      "cell_type": "code",
      "metadata": {
        "id": "l12zkDO3goZo"
      },
      "source": [
        "df2 = df.copy()\n",
        "imputer = SimpleImputer(missing_values=np.NaN, strategy='mean') # Nan　を平均(mean)で置き換える\n",
        "df2.marks = imputer.fit_transform(df2['marks'].values.reshape(-1,1))[:,0] # marksの値に対して単一代入を試みる\n",
        "df2"
      ],
      "execution_count": null,
      "outputs": []
    },
    {
      "cell_type": "markdown",
      "metadata": {
        "id": "Ay9CC6mghn6o"
      },
      "source": [
        "最頻値による単一代入法でgenderを補完"
      ]
    },
    {
      "cell_type": "code",
      "metadata": {
        "id": "qdepHJHthgZ2"
      },
      "source": [
        "df3 = df.copy()\n",
        "imputer = SimpleImputer(missing_values=None, strategy='most_frequent')#Noneを最頻値(most_frequent)で置き換える\n",
        "df3.gender = imputer.fit_transform(df3['gender'].values.reshape(-1,1))[:,0]#genderの値に対して単一代入を試みる\n",
        "df3"
      ],
      "execution_count": null,
      "outputs": []
    },
    {
      "cell_type": "markdown",
      "metadata": {
        "id": "ljsNCQGgiPDq"
      },
      "source": [
        "多変量による単一代入法で marksを補完"
      ]
    },
    {
      "cell_type": "code",
      "metadata": {
        "id": "e-eHqRLAhvyz"
      },
      "source": [
        "df4 = df.copy()\n",
        "imputer = IterativeImputer(max_iter=10, random_state=10)\n",
        "df4.marks = imputer.fit_transform(df4['marks'].values.reshape(-1,1))[:,0]\n",
        "df4"
      ],
      "execution_count": null,
      "outputs": []
    },
    {
      "cell_type": "markdown",
      "metadata": {
        "id": "-Wpl-anCk6wA"
      },
      "source": [
        "欠損値補完の考え方は奥が深く，ここですべてを扱うことはできませんが，[こちらにさらに詳しいコードがあります](https://colab.research.google.com/drive/125zUXDgYaIriBmzCvXC1YJ3J9nNHWDzH)ので参考にしてください"
      ]
    },
    {
      "cell_type": "code",
      "metadata": {
        "id": "gqPOGeIDlAKf"
      },
      "source": [
        ""
      ],
      "execution_count": null,
      "outputs": []
    }
  ]
}