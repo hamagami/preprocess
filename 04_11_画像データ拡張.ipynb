{
  "nbformat": 4,
  "nbformat_minor": 0,
  "metadata": {
    "colab": {
      "name": "04-11_画像データ拡張.ipynb",
      "provenance": [],
      "authorship_tag": "ABX9TyN7AcvvXV0JNWEyc8K6cJFN",
      "include_colab_link": true
    },
    "kernelspec": {
      "name": "python3",
      "display_name": "Python 3"
    },
    "language_info": {
      "name": "python"
    }
  },
  "cells": [
    {
      "cell_type": "markdown",
      "metadata": {
        "id": "view-in-github",
        "colab_type": "text"
      },
      "source": [
        "<a href=\"https://colab.research.google.com/github/hamagami/preprocess/blob/main/04_11_%E7%94%BB%E5%83%8F%E3%83%87%E3%83%BC%E3%82%BF%E6%8B%A1%E5%BC%B5.ipynb\" target=\"_parent\"><img src=\"https://colab.research.google.com/assets/colab-badge.svg\" alt=\"Open In Colab\"/></a>"
      ]
    },
    {
      "cell_type": "markdown",
      "metadata": {
        "id": "irtlrvTq-1Il"
      },
      "source": [
        "# 画像データ拡張"
      ]
    },
    {
      "cell_type": "code",
      "metadata": {
        "id": "zDaC4hdQ-3Rw"
      },
      "source": [
        "import pandas as pd\n",
        "import urllib.request \n",
        "import numpy as np\n",
        "from PIL import Image #画像を扱うモジュールはいくつかありますが最も基本的なpython image library(PIL)を例にあげます\n",
        "import matplotlib.pyplot as plt\n",
        "from keras.preprocessing import image"
      ],
      "execution_count": 2,
      "outputs": []
    },
    {
      "cell_type": "code",
      "metadata": {
        "id": "WkHve2qiDL7A",
        "colab": {
          "base_uri": "https://localhost:8080/"
        },
        "outputId": "b741d13e-b4dc-443e-b88c-fc9c7e0cb205"
      },
      "source": [
        "url = \"https://pics.prcm.jp/2a5171d4100ea/82208445/jpeg/82208445.jpeg\" #画像データ(フリー素材確認済)\n",
        "urllib.request.urlretrieve(url, 'miraitowa.jpg') # miraitowaという名前で google colabのドライブに保存します\n"
      ],
      "execution_count": 3,
      "outputs": [
        {
          "output_type": "execute_result",
          "data": {
            "text/plain": [
              "('miraitowa.jpg', <http.client.HTTPMessage at 0x7f9c26158410>)"
            ]
          },
          "metadata": {
            "tags": []
          },
          "execution_count": 3
        }
      ]
    },
    {
      "cell_type": "code",
      "metadata": {
        "id": "RxHk5rx4C3rF"
      },
      "source": [
        "\n",
        "imgorg= Image.open(\"miraitowa.jpg\")  # PIL(Python Image Library)で読みこみます"
      ],
      "execution_count": 4,
      "outputs": []
    },
    {
      "cell_type": "code",
      "metadata": {
        "id": "Nbr1AupTC8dt"
      },
      "source": [
        "img =np.array(imgorg)\n",
        "plt.imshow(img)"
      ],
      "execution_count": null,
      "outputs": []
    },
    {
      "cell_type": "markdown",
      "metadata": {
        "id": "ROj6ZgO-bODG"
      },
      "source": [
        "データ拡張表示関数"
      ]
    },
    {
      "cell_type": "code",
      "metadata": {
        "id": "VRkFo8eMGagL"
      },
      "source": [
        "def makedata(img, datagen):\n",
        "\n",
        "  x = img[np.newaxis] \n",
        "  gen = datagen.flow(x, batch_size=1) \n",
        "\n",
        "  plt.figure(figsize=(10, 8))\n",
        "  for i in range(3):\n",
        "      batches = next(gen)  \n",
        "      gen_img = batches[0].astype(np.uint8)\n",
        "\n",
        "      plt.subplot(1, 3, i + 1)\n",
        "      plt.imshow(gen_img)\n",
        "      plt.axis('off')\n",
        "  plt.show()"
      ],
      "execution_count": 6,
      "outputs": []
    },
    {
      "cell_type": "markdown",
      "metadata": {
        "id": "ocqK4OCeMBaT"
      },
      "source": [
        "## 回転"
      ]
    },
    {
      "cell_type": "code",
      "metadata": {
        "id": "AUPzvDrXI3bP"
      },
      "source": [
        "datagen = image.ImageDataGenerator(rotation_range=20)\n",
        "makedata(img, datagen)"
      ],
      "execution_count": null,
      "outputs": []
    },
    {
      "cell_type": "markdown",
      "metadata": {
        "id": "3v-P1NjJMEIf"
      },
      "source": [
        "## 上下反転"
      ]
    },
    {
      "cell_type": "code",
      "metadata": {
        "id": "AewhavwjJTkV"
      },
      "source": [
        "datagen =  image.ImageDataGenerator(vertical_flip=True) \n",
        "makedata(img, datagen)"
      ],
      "execution_count": null,
      "outputs": []
    },
    {
      "cell_type": "markdown",
      "metadata": {
        "id": "hfzICl5kMHkV"
      },
      "source": [
        "## 左右反転"
      ]
    },
    {
      "cell_type": "code",
      "metadata": {
        "id": "MP0Yf40aIDGR"
      },
      "source": [
        "datagen =  image.ImageDataGenerator(horizontal_flip=True)\n",
        "makedata(img, datagen)"
      ],
      "execution_count": null,
      "outputs": []
    },
    {
      "cell_type": "markdown",
      "metadata": {
        "id": "sj4L-qbKMLmC"
      },
      "source": [
        "## 上下平行移動"
      ]
    },
    {
      "cell_type": "code",
      "metadata": {
        "id": "sUbcAu71JdyR"
      },
      "source": [
        "datagen =  image.ImageDataGenerator(height_shift_range=0.3)\n",
        "makedata(img, datagen)"
      ],
      "execution_count": null,
      "outputs": []
    },
    {
      "cell_type": "markdown",
      "metadata": {
        "id": "LwJjc8W8MONC"
      },
      "source": [
        "## 左右平行移動"
      ]
    },
    {
      "cell_type": "code",
      "metadata": {
        "id": "r6e6vw50JjhF"
      },
      "source": [
        "datagen =  image.ImageDataGenerator(width_shift_range=0.3)\n",
        "makedata(img, datagen)"
      ],
      "execution_count": null,
      "outputs": []
    },
    {
      "cell_type": "markdown",
      "metadata": {
        "id": "27EjqX7ZMSRU"
      },
      "source": [
        "## せん断（スキュー　平行四辺形の変形）"
      ]
    },
    {
      "cell_type": "code",
      "metadata": {
        "id": "CHGYMmzzJo3F"
      },
      "source": [
        "datagen = image.ImageDataGenerator(shear_range=10)\n",
        "makedata(img, datagen)"
      ],
      "execution_count": null,
      "outputs": []
    },
    {
      "cell_type": "markdown",
      "metadata": {
        "id": "V1YpCas9MxiK"
      },
      "source": [
        "## 縦横拡大・縮小"
      ]
    },
    {
      "cell_type": "code",
      "metadata": {
        "id": "XMCueUdwJuhX"
      },
      "source": [
        "datagen = image.ImageDataGenerator(zoom_range=[0.5, 1.2])\n",
        "makedata(img, datagen)"
      ],
      "execution_count": null,
      "outputs": []
    },
    {
      "cell_type": "markdown",
      "metadata": {
        "id": "v_0-xSD3M2in"
      },
      "source": [
        "## チャネルシフト（明るさを均等に加算，減算）"
      ]
    },
    {
      "cell_type": "code",
      "metadata": {
        "id": "aMEYxfuOJ21G"
      },
      "source": [
        "datagen = image.ImageDataGenerator(channel_shift_range=10.)\n",
        "makedata(img, datagen)"
      ],
      "execution_count": null,
      "outputs": []
    },
    {
      "cell_type": "markdown",
      "metadata": {
        "id": "ZeJeHuL4NBR_"
      },
      "source": [
        "## 明度変化　（チャネルへの掛け算）"
      ]
    },
    {
      "cell_type": "code",
      "metadata": {
        "id": "70XUj5fNKER2"
      },
      "source": [
        "datagen = image.ImageDataGenerator(brightness_range=[0.3, 1.0])\n",
        "makedata(img, datagen)"
      ],
      "execution_count": null,
      "outputs": []
    },
    {
      "cell_type": "markdown",
      "metadata": {
        "id": "zdcvZIMdNPTZ"
      },
      "source": [
        "## 標準化（0～1になるので真っ暗に見える）"
      ]
    },
    {
      "cell_type": "code",
      "metadata": {
        "id": "a-h8pAjHKKEP"
      },
      "source": [
        "datagen = image.ImageDataGenerator(rescale=1. / 255)\n",
        "makedata(img, datagen)"
      ],
      "execution_count": null,
      "outputs": []
    },
    {
      "cell_type": "markdown",
      "metadata": {
        "id": "YjOb49RZNbQe"
      },
      "source": [
        "## 画素値平均を0にする"
      ]
    },
    {
      "cell_type": "code",
      "metadata": {
        "id": "48BRXf_IKe0S"
      },
      "source": [
        "datagen = image.ImageDataGenerator(samplewise_center=True)\n",
        "makedata(img, datagen)"
      ],
      "execution_count": null,
      "outputs": []
    },
    {
      "cell_type": "markdown",
      "metadata": {
        "id": "l54qaOY4NrvM"
      },
      "source": [
        "## 画素値分散を１にする"
      ]
    },
    {
      "cell_type": "code",
      "metadata": {
        "id": "c8bvrE74KlRa"
      },
      "source": [
        "datagen = image.ImageDataGenerator(\n",
        "    samplewise_center=True, samplewise_std_normalization=True)\n",
        "makedata(img, datagen)"
      ],
      "execution_count": null,
      "outputs": []
    },
    {
      "cell_type": "code",
      "metadata": {
        "id": "tH1RQ3I3Kqvj"
      },
      "source": [
        ""
      ],
      "execution_count": 18,
      "outputs": []
    }
  ]
}