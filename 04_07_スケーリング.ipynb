{
  "nbformat": 4,
  "nbformat_minor": 0,
  "metadata": {
    "colab": {
      "name": "04-07_スケーリング.ipynb",
      "provenance": [],
      "authorship_tag": "ABX9TyN3QlnhOobyVUoZGYuuLXjI",
      "include_colab_link": true
    },
    "kernelspec": {
      "name": "python3",
      "display_name": "Python 3"
    },
    "language_info": {
      "name": "python"
    }
  },
  "cells": [
    {
      "cell_type": "markdown",
      "metadata": {
        "id": "view-in-github",
        "colab_type": "text"
      },
      "source": [
        "<a href=\"https://colab.research.google.com/github/hamagami/preprocess/blob/main/04_07_%E3%82%B9%E3%82%B1%E3%83%BC%E3%83%AA%E3%83%B3%E3%82%B0.ipynb\" target=\"_parent\"><img src=\"https://colab.research.google.com/assets/colab-badge.svg\" alt=\"Open In Colab\"/></a>"
      ]
    },
    {
      "cell_type": "markdown",
      "metadata": {
        "id": "9wjf7uuVnCay"
      },
      "source": [
        "# スケーリング"
      ]
    },
    {
      "cell_type": "code",
      "metadata": {
        "id": "-AbRscN2-p3q"
      },
      "source": [
        "import numpy as np\n",
        "import pandas as pd\n",
        "from matplotlib import pyplot as plt\n",
        "\n",
        "\n",
        "\n",
        "from sklearn.datasets import fetch_california_housing"
      ],
      "execution_count": 2,
      "outputs": []
    },
    {
      "cell_type": "markdown",
      "metadata": {
        "id": "eGEMePY9nvHq"
      },
      "source": [
        "# sklearn には色々なスケーリング関数がある。　\n",
        "ここではこれらのうち一部しか使わない。詳しくは　https://qiita.com/nazoking@github/items/d6ac1948ee138d73fef1\n"
      ]
    },
    {
      "cell_type": "code",
      "metadata": {
        "id": "mDloDlhVnyl-"
      },
      "source": [
        "from sklearn.preprocessing import MinMaxScaler\n",
        "from sklearn.preprocessing import minmax_scale\n",
        "from sklearn.preprocessing import MaxAbsScaler\n",
        "from sklearn.preprocessing import StandardScaler\n",
        "from sklearn.preprocessing import RobustScaler\n",
        "from sklearn.preprocessing import Normalizer\n",
        "from sklearn.preprocessing import QuantileTransformer\n",
        "from sklearn.preprocessing import PowerTransformer"
      ],
      "execution_count": 3,
      "outputs": []
    },
    {
      "cell_type": "markdown",
      "metadata": {
        "id": "_p8ObcFwn8Vq"
      },
      "source": [
        "ハウジングデータセットを読みこむ。ちょっと時間かかります"
      ]
    },
    {
      "cell_type": "code",
      "metadata": {
        "colab": {
          "base_uri": "https://localhost:8080/"
        },
        "id": "SoXT81Ih-vZF",
        "outputId": "85ee737b-13ce-47b4-c450-5db5b16ada31"
      },
      "source": [
        "data  =fetch_california_housing()"
      ],
      "execution_count": 4,
      "outputs": [
        {
          "output_type": "stream",
          "text": [
            "Downloading Cal. housing from https://ndownloader.figshare.com/files/5976036 to /root/scikit_learn_data\n"
          ],
          "name": "stderr"
        }
      ]
    },
    {
      "cell_type": "markdown",
      "metadata": {
        "id": "v7xySrCuoEQ1"
      },
      "source": [
        "データをpandas.Dataframeにいれる\n"
      ]
    },
    {
      "cell_type": "code",
      "metadata": {
        "id": "1imWo6bFoOb7",
        "outputId": "e27a2503-b63c-4772-cc83-ba4f8e2e478e",
        "colab": {
          "base_uri": "https://localhost:8080/",
          "height": 422
        }
      },
      "source": [
        "df = pd.DataFrame(np.c_[data.data, data.target], columns=data.feature_names + [\"target\"])\n",
        "df\n"
      ],
      "execution_count": 5,
      "outputs": [
        {
          "output_type": "execute_result",
          "data": {
            "text/html": [
              "<div>\n",
              "<style scoped>\n",
              "    .dataframe tbody tr th:only-of-type {\n",
              "        vertical-align: middle;\n",
              "    }\n",
              "\n",
              "    .dataframe tbody tr th {\n",
              "        vertical-align: top;\n",
              "    }\n",
              "\n",
              "    .dataframe thead th {\n",
              "        text-align: right;\n",
              "    }\n",
              "</style>\n",
              "<table border=\"1\" class=\"dataframe\">\n",
              "  <thead>\n",
              "    <tr style=\"text-align: right;\">\n",
              "      <th></th>\n",
              "      <th>MedInc</th>\n",
              "      <th>HouseAge</th>\n",
              "      <th>AveRooms</th>\n",
              "      <th>AveBedrms</th>\n",
              "      <th>Population</th>\n",
              "      <th>AveOccup</th>\n",
              "      <th>Latitude</th>\n",
              "      <th>Longitude</th>\n",
              "      <th>target</th>\n",
              "    </tr>\n",
              "  </thead>\n",
              "  <tbody>\n",
              "    <tr>\n",
              "      <th>0</th>\n",
              "      <td>8.3252</td>\n",
              "      <td>41.0</td>\n",
              "      <td>6.984127</td>\n",
              "      <td>1.023810</td>\n",
              "      <td>322.0</td>\n",
              "      <td>2.555556</td>\n",
              "      <td>37.88</td>\n",
              "      <td>-122.23</td>\n",
              "      <td>4.526</td>\n",
              "    </tr>\n",
              "    <tr>\n",
              "      <th>1</th>\n",
              "      <td>8.3014</td>\n",
              "      <td>21.0</td>\n",
              "      <td>6.238137</td>\n",
              "      <td>0.971880</td>\n",
              "      <td>2401.0</td>\n",
              "      <td>2.109842</td>\n",
              "      <td>37.86</td>\n",
              "      <td>-122.22</td>\n",
              "      <td>3.585</td>\n",
              "    </tr>\n",
              "    <tr>\n",
              "      <th>2</th>\n",
              "      <td>7.2574</td>\n",
              "      <td>52.0</td>\n",
              "      <td>8.288136</td>\n",
              "      <td>1.073446</td>\n",
              "      <td>496.0</td>\n",
              "      <td>2.802260</td>\n",
              "      <td>37.85</td>\n",
              "      <td>-122.24</td>\n",
              "      <td>3.521</td>\n",
              "    </tr>\n",
              "    <tr>\n",
              "      <th>3</th>\n",
              "      <td>5.6431</td>\n",
              "      <td>52.0</td>\n",
              "      <td>5.817352</td>\n",
              "      <td>1.073059</td>\n",
              "      <td>558.0</td>\n",
              "      <td>2.547945</td>\n",
              "      <td>37.85</td>\n",
              "      <td>-122.25</td>\n",
              "      <td>3.413</td>\n",
              "    </tr>\n",
              "    <tr>\n",
              "      <th>4</th>\n",
              "      <td>3.8462</td>\n",
              "      <td>52.0</td>\n",
              "      <td>6.281853</td>\n",
              "      <td>1.081081</td>\n",
              "      <td>565.0</td>\n",
              "      <td>2.181467</td>\n",
              "      <td>37.85</td>\n",
              "      <td>-122.25</td>\n",
              "      <td>3.422</td>\n",
              "    </tr>\n",
              "    <tr>\n",
              "      <th>...</th>\n",
              "      <td>...</td>\n",
              "      <td>...</td>\n",
              "      <td>...</td>\n",
              "      <td>...</td>\n",
              "      <td>...</td>\n",
              "      <td>...</td>\n",
              "      <td>...</td>\n",
              "      <td>...</td>\n",
              "      <td>...</td>\n",
              "    </tr>\n",
              "    <tr>\n",
              "      <th>20635</th>\n",
              "      <td>1.5603</td>\n",
              "      <td>25.0</td>\n",
              "      <td>5.045455</td>\n",
              "      <td>1.133333</td>\n",
              "      <td>845.0</td>\n",
              "      <td>2.560606</td>\n",
              "      <td>39.48</td>\n",
              "      <td>-121.09</td>\n",
              "      <td>0.781</td>\n",
              "    </tr>\n",
              "    <tr>\n",
              "      <th>20636</th>\n",
              "      <td>2.5568</td>\n",
              "      <td>18.0</td>\n",
              "      <td>6.114035</td>\n",
              "      <td>1.315789</td>\n",
              "      <td>356.0</td>\n",
              "      <td>3.122807</td>\n",
              "      <td>39.49</td>\n",
              "      <td>-121.21</td>\n",
              "      <td>0.771</td>\n",
              "    </tr>\n",
              "    <tr>\n",
              "      <th>20637</th>\n",
              "      <td>1.7000</td>\n",
              "      <td>17.0</td>\n",
              "      <td>5.205543</td>\n",
              "      <td>1.120092</td>\n",
              "      <td>1007.0</td>\n",
              "      <td>2.325635</td>\n",
              "      <td>39.43</td>\n",
              "      <td>-121.22</td>\n",
              "      <td>0.923</td>\n",
              "    </tr>\n",
              "    <tr>\n",
              "      <th>20638</th>\n",
              "      <td>1.8672</td>\n",
              "      <td>18.0</td>\n",
              "      <td>5.329513</td>\n",
              "      <td>1.171920</td>\n",
              "      <td>741.0</td>\n",
              "      <td>2.123209</td>\n",
              "      <td>39.43</td>\n",
              "      <td>-121.32</td>\n",
              "      <td>0.847</td>\n",
              "    </tr>\n",
              "    <tr>\n",
              "      <th>20639</th>\n",
              "      <td>2.3886</td>\n",
              "      <td>16.0</td>\n",
              "      <td>5.254717</td>\n",
              "      <td>1.162264</td>\n",
              "      <td>1387.0</td>\n",
              "      <td>2.616981</td>\n",
              "      <td>39.37</td>\n",
              "      <td>-121.24</td>\n",
              "      <td>0.894</td>\n",
              "    </tr>\n",
              "  </tbody>\n",
              "</table>\n",
              "<p>20640 rows × 9 columns</p>\n",
              "</div>"
            ],
            "text/plain": [
              "       MedInc  HouseAge  AveRooms  ...  Latitude  Longitude  target\n",
              "0      8.3252      41.0  6.984127  ...     37.88    -122.23   4.526\n",
              "1      8.3014      21.0  6.238137  ...     37.86    -122.22   3.585\n",
              "2      7.2574      52.0  8.288136  ...     37.85    -122.24   3.521\n",
              "3      5.6431      52.0  5.817352  ...     37.85    -122.25   3.413\n",
              "4      3.8462      52.0  6.281853  ...     37.85    -122.25   3.422\n",
              "...       ...       ...       ...  ...       ...        ...     ...\n",
              "20635  1.5603      25.0  5.045455  ...     39.48    -121.09   0.781\n",
              "20636  2.5568      18.0  6.114035  ...     39.49    -121.21   0.771\n",
              "20637  1.7000      17.0  5.205543  ...     39.43    -121.22   0.923\n",
              "20638  1.8672      18.0  5.329513  ...     39.43    -121.32   0.847\n",
              "20639  2.3886      16.0  5.254717  ...     39.37    -121.24   0.894\n",
              "\n",
              "[20640 rows x 9 columns]"
            ]
          },
          "metadata": {
            "tags": []
          },
          "execution_count": 5
        }
      ]
    },
    {
      "cell_type": "markdown",
      "metadata": {
        "id": "em7XETvSpJPG"
      },
      "source": [
        "Populationについて単純にヒストグラムをつくる"
      ]
    },
    {
      "cell_type": "code",
      "metadata": {
        "colab": {
          "base_uri": "https://localhost:8080/",
          "height": 265
        },
        "id": "-H69402H-9Rr",
        "outputId": "bd0503b9-a1f8-4623-fd9b-e759dee61767"
      },
      "source": [
        "#LT= df[\"Latitude\"]\n",
        "Pop = df[\"Population\"]\n",
        "plt.hist(Pop,bins=50)\n",
        "plt.show()"
      ],
      "execution_count": 10,
      "outputs": [
        {
          "output_type": "display_data",
          "data": {
            "image/png": "[encoded data removed]",
            "text/plain": [
              "<Figure size 432x288 with 1 Axes>"
            ]
          },
          "metadata": {
            "tags": [],
            "needs_background": "light"
          }
        }
      ]
    },
    {
      "cell_type": "markdown",
      "metadata": {
        "id": "3XVZ0IVEpNpK"
      },
      "source": [
        "一見歪んだ正規分布に見えるが maxが分布から大きく外れた値をとっているこのような場合にminmaxで正規化しても分布の歪は修正されない"
      ]
    },
    {
      "cell_type": "code",
      "metadata": {
        "id": "e3uew9ODoxYl",
        "outputId": "3366096b-9363-411b-bc4f-3d517e2571f5",
        "colab": {
          "base_uri": "https://localhost:8080/",
          "height": 283
        }
      },
      "source": [
        "print(Pop.max())\n",
        "P_MinMaxScaler = MinMaxScaler().fit_transform(Pop.values.reshape(-1,1))\n",
        "plt.hist(P_MinMaxScaler,bins=50)\n",
        "plt.show()\n"
      ],
      "execution_count": 12,
      "outputs": [
        {
          "output_type": "stream",
          "text": [
            "35682.0\n"
          ],
          "name": "stdout"
        },
        {
          "output_type": "display_data",
          "data": {
            "image/png": "[encoded data removed]",
            "text/plain": [
              "<Figure size 432x288 with 1 Axes>"
            ]
          },
          "metadata": {
            "tags": [],
            "needs_background": "light"
          }
        }
      ]
    },
    {
      "cell_type": "markdown",
      "metadata": {
        "id": "-gPLptVWpfPZ"
      },
      "source": [
        "標準化は外れ値の影響を強くは受けないが値としては残るのであまり分布にフィットしているとはいいがたい\n"
      ]
    },
    {
      "cell_type": "code",
      "metadata": {
        "id": "g9ea9hCmo9W9",
        "outputId": "bdabeeb0-8cfd-4d50-898a-05aa796c6df5",
        "colab": {
          "base_uri": "https://localhost:8080/",
          "height": 265
        }
      },
      "source": [
        "X_StandardScaler = StandardScaler().fit_transform(Pop.values.reshape(-1,1))\n",
        "x = np.random.normal(0,1,len(X_StandardScaler))\n",
        "plt.hist(X_StandardScaler,bins=50)\n",
        "plt.hist(x,alpha=0.3,bins=50)\n",
        "plt.show()"
      ],
      "execution_count": 9,
      "outputs": [
        {
          "output_type": "display_data",
          "data": {
            "image/png": "[encoded data removed]",
            "text/plain": [
              "<Figure size 432x288 with 1 Axes>"
            ]
          },
          "metadata": {
            "tags": [],
            "needs_background": "light"
          }
        }
      ]
    },
    {
      "cell_type": "markdown",
      "metadata": {
        "id": "lne17d9mskrf"
      },
      "source": [
        "\n",
        "\n",
        "---\n",
        "\n",
        "\n",
        "\n",
        "---\n",
        "\n"
      ]
    },
    {
      "cell_type": "markdown",
      "metadata": {
        "id": "q1LR6cwdqAbG"
      },
      "source": [
        "MedInc（収入の平均値）の分布について，なにもせずにヒストグラムを作った場合と，平均を0にした場合（分布の形状は変わらず）"
      ]
    },
    {
      "cell_type": "code",
      "metadata": {
        "colab": {
          "base_uri": "https://localhost:8080/",
          "height": 265
        },
        "id": "WtCr6X5m_2ws",
        "outputId": "f5a6927f-ed34-440c-daf3-6d01731a0a68"
      },
      "source": [
        "df_mi = df[\"MedInc\"]\n",
        "Xorg=df_mi.values.reshape(-1,1)\n",
        "plt.hist(Xorg,bins=50)#収入の平均値\n",
        "plt.show()"
      ],
      "execution_count": 21,
      "outputs": [
        {
          "output_type": "display_data",
          "data": {
            "image/png": "[encoded data removed]",
            "text/plain": [
              "<Figure size 432x288 with 1 Axes>"
            ]
          },
          "metadata": {
            "tags": [],
            "needs_background": "light"
          }
        }
      ]
    },
    {
      "cell_type": "markdown",
      "metadata": {
        "id": "5BRxAjPDq2ek"
      },
      "source": [
        "標準化(minmaxscaler)"
      ]
    },
    {
      "cell_type": "code",
      "metadata": {
        "colab": {
          "base_uri": "https://localhost:8080/",
          "height": 265
        },
        "id": "ldS8gLOlFc-K",
        "outputId": "6f833832-3287-49f2-c269-4ebd8e1aaea0"
      },
      "source": [
        "X= (df_mi-df_mi.describe()[\"mean\"]).values.reshape(-1,1)\n",
        "X_MinMaxScaler = MinMaxScaler().fit_transform(X)\n",
        "plt.hist(X_MinMaxScaler,bins=50)\n",
        "plt.show()"
      ],
      "execution_count": 22,
      "outputs": [
        {
          "output_type": "display_data",
          "data": {
            "image/png": "[encoded data removed]",
            "text/plain": [
              "<Figure size 432x288 with 1 Axes>"
            ]
          },
          "metadata": {
            "tags": [],
            "needs_background": "light"
          }
        }
      ]
    },
    {
      "cell_type": "markdown",
      "metadata": {
        "id": "N0u4-X7Msq98"
      },
      "source": [
        "絶対値正規化（maxabsscaler)"
      ]
    },
    {
      "cell_type": "code",
      "metadata": {
        "colab": {
          "base_uri": "https://localhost:8080/",
          "height": 265
        },
        "id": "7iheIox0FlAH",
        "outputId": "2c6d2d7b-e5c6-4091-dd3e-ed888025a5fc"
      },
      "source": [
        "X_MaxAbsScaler = MaxAbsScaler().fit_transform(X)\n",
        "plt.hist(X_MaxAbsScaler,bins=50)\n",
        "plt.show()"
      ],
      "execution_count": 23,
      "outputs": [
        {
          "output_type": "display_data",
          "data": {
            "image/png": "[encoded data removed]",
            "text/plain": [
              "<Figure size 432x288 with 1 Axes>"
            ]
          },
          "metadata": {
            "tags": [],
            "needs_background": "light"
          }
        }
      ]
    },
    {
      "cell_type": "markdown",
      "metadata": {
        "id": "2qlMgsHOsx9N"
      },
      "source": [
        "標準化"
      ]
    },
    {
      "cell_type": "code",
      "metadata": {
        "colab": {
          "base_uri": "https://localhost:8080/",
          "height": 265
        },
        "id": "OA-KjdLQNJuB",
        "outputId": "0b7b2a4c-1823-4e0c-9c2d-3b568473b2e8"
      },
      "source": [
        "X_StandardScaler = StandardScaler().fit_transform(Xorg)\n",
        "x = np.random.normal(0,1,len(X_StandardScaler))\n",
        "plt.hist(X_StandardScaler,bins=50)\n",
        "plt.hist(x,alpha=0.3,bins=50)\n",
        "plt.show()"
      ],
      "execution_count": 24,
      "outputs": [
        {
          "output_type": "display_data",
          "data": {
            "image/png": "[encoded data removed]",
            "text/plain": [
              "<Figure size 432x288 with 1 Axes>"
            ]
          },
          "metadata": {
            "tags": [],
            "needs_background": "light"
          }
        }
      ]
    },
    {
      "cell_type": "markdown",
      "metadata": {
        "id": "tkyMAaGVs1TZ"
      },
      "source": [
        "RobustScaler"
      ]
    },
    {
      "cell_type": "code",
      "metadata": {
        "colab": {
          "base_uri": "https://localhost:8080/",
          "height": 585
        },
        "id": "KfiLLQGS6535",
        "outputId": "f65e89ef-02db-49c0-a7db-d21d43278263"
      },
      "source": [
        "X_RobustScaler = RobustScaler(quantile_range=(25, 75)).fit_transform(X)\n",
        "plt.hist(X_RobustScaler,bins=50)"
      ],
      "execution_count": 25,
      "outputs": [
        {
          "output_type": "execute_result",
          "data": {
            "text/plain": [
              "(array([  50.,  163.,  347.,  675., 1012., 1341., 1363., 1592., 1524.,\n",
              "        1616., 1513., 1259., 1401.,  990.,  935.,  812.,  715.,  582.,\n",
              "         398.,  483.,  310.,  280.,  168.,  147.,  156.,  136.,  109.,\n",
              "          86.,   60.,   36.,   28.,   23.,   33.,   58.,   36.,   35.,\n",
              "          27.,   10.,   14.,    7.,   12.,   10.,    7.,    8.,   10.,\n",
              "           4.,    2.,    3.,    2.,   52.]),\n",
              " array([-1.39225176, -1.25921325, -1.12617474, -0.99313622, -0.86009771,\n",
              "        -0.7270592 , -0.59402069, -0.46098218, -0.32794367, -0.19490515,\n",
              "        -0.06186664,  0.07117187,  0.20421038,  0.33724889,  0.47028741,\n",
              "         0.60332592,  0.73636443,  0.86940294,  1.00244145,  1.13547996,\n",
              "         1.26851848,  1.40155699,  1.5345955 ,  1.66763401,  1.80067252,\n",
              "         1.93371104,  2.06674955,  2.19978806,  2.33282657,  2.46586508,\n",
              "         2.59890359,  2.73194211,  2.86498062,  2.99801913,  3.13105764,\n",
              "         3.26409615,  3.39713467,  3.53017318,  3.66321169,  3.7962502 ,\n",
              "         3.92928871,  4.06232722,  4.19536574,  4.32840425,  4.46144276,\n",
              "         4.59448127,  4.72751978,  4.8605583 ,  4.99359681,  5.12663532,\n",
              "         5.25967383]),\n",
              " <a list of 50 Patch objects>)"
            ]
          },
          "metadata": {
            "tags": []
          },
          "execution_count": 25
        },
        {
          "output_type": "display_data",
          "data": {
            "image/png": "[encoded data removed]",
            "text/plain": [
              "<Figure size 432x288 with 1 Axes>"
            ]
          },
          "metadata": {
            "tags": [],
            "needs_background": "light"
          }
        }
      ]
    },
    {
      "cell_type": "markdown",
      "metadata": {
        "id": "6B_K70PLtHxN"
      },
      "source": [
        "BoxCox"
      ]
    },
    {
      "cell_type": "code",
      "metadata": {
        "colab": {
          "base_uri": "https://localhost:8080/",
          "height": 265
        },
        "id": "JjHa905FQU4B",
        "outputId": "9ae7b18d-c5cf-436c-8bb9-85e0ec14f897"
      },
      "source": [
        "X_PowerTransformer_boxcox = PowerTransformer(method='box-cox').fit_transform(Xorg)\n",
        "x = np.random.normal(0,1,len(X_PowerTransformer_boxcox))\n",
        "plt.hist(X_PowerTransformer_boxcox,bins=50)\n",
        "plt.hist(x,alpha=0.3,bins=50)\n",
        "plt.show()"
      ],
      "execution_count": 26,
      "outputs": [
        {
          "output_type": "display_data",
          "data": {
            "image/png": "[encoded data removed]",
            "text/plain": [
              "<Figure size 432x288 with 1 Axes>"
            ]
          },
          "metadata": {
            "tags": [],
            "needs_background": "light"
          }
        }
      ]
    },
    {
      "cell_type": "markdown",
      "metadata": {
        "id": "tHZaqvRbtMuy"
      },
      "source": [
        "Yeo-Johnson"
      ]
    },
    {
      "cell_type": "code",
      "metadata": {
        "colab": {
          "base_uri": "https://localhost:8080/",
          "height": 265
        },
        "id": "MHAB5XNnU88S",
        "outputId": "b1d08c6d-6043-471d-bbf3-d6924c1c5f81"
      },
      "source": [
        "X_PowerTransformer_yeojohnson = PowerTransformer(method='yeo-johnson').fit_transform(X)\n",
        "x = np.random.normal(0,1,len(X_PowerTransformer_yeojohnson))\n",
        "plt.hist(X_PowerTransformer_yeojohnson,bins=50)\n",
        "plt.hist(x,alpha=0.3,bins=50)\n",
        "plt.show()"
      ],
      "execution_count": 27,
      "outputs": [
        {
          "output_type": "display_data",
          "data": {
            "image/png": "[encoded data removed]",
            "text/plain": [
              "<Figure size 432x288 with 1 Axes>"
            ]
          },
          "metadata": {
            "tags": [],
            "needs_background": "light"
          }
        }
      ]
    },
    {
      "cell_type": "markdown",
      "metadata": {
        "id": "2hXjJOohtR9d"
      },
      "source": [
        "対数化"
      ]
    },
    {
      "cell_type": "code",
      "metadata": {
        "colab": {
          "base_uri": "https://localhost:8080/",
          "height": 265
        },
        "id": "KykxNCUzV-9q",
        "outputId": "77406ced-cf79-4bb1-ba71-f6a58848acd7"
      },
      "source": [
        "X_log=np.log(Xorg)\n",
        "plt.hist(X_log,bins=50)\n",
        "plt.show()"
      ],
      "execution_count": 28,
      "outputs": [
        {
          "output_type": "display_data",
          "data": {
            "image/png": "[encoded data removed]",
            "text/plain": [
              "<Figure size 432x288 with 1 Axes>"
            ]
          },
          "metadata": {
            "tags": [],
            "needs_background": "light"
          }
        }
      ]
    },
    {
      "cell_type": "markdown",
      "metadata": {
        "id": "H1J9B7OktVeC"
      },
      "source": [
        "平方根"
      ]
    },
    {
      "cell_type": "code",
      "metadata": {
        "colab": {
          "base_uri": "https://localhost:8080/",
          "height": 265
        },
        "id": "hrmsJrqaZ2y6",
        "outputId": "c3fc2a0d-b36a-4025-c4f7-1121c8a1d281"
      },
      "source": [
        "X_sqrt=np.sqrt(Xorg)\n",
        "plt.hist(X_sqrt,bins=50)\n",
        "plt.show()"
      ],
      "execution_count": 29,
      "outputs": [
        {
          "output_type": "display_data",
          "data": {
            "image/png": "[encoded data removed]",
            "text/plain": [
              "<Figure size 432x288 with 1 Axes>"
            ]
          },
          "metadata": {
            "tags": [],
            "needs_background": "light"
          }
        }
      ]
    },
    {
      "cell_type": "markdown",
      "metadata": {
        "id": "Mvv4HSYptapo"
      },
      "source": [
        "平方根に対して標準化を行う"
      ]
    },
    {
      "cell_type": "code",
      "metadata": {
        "colab": {
          "base_uri": "https://localhost:8080/",
          "height": 265
        },
        "id": "vWKU43DMaeDn",
        "outputId": "0f84b147-b06e-484c-e2a5-d10d8b87b548"
      },
      "source": [
        "X_StandardScaler = StandardScaler().fit_transform(X_sqrt)\n",
        "x = np.random.normal(0,1,len(X_StandardScaler))\n",
        "plt.hist(X_StandardScaler,bins=50)\n",
        "plt.hist(x,alpha=0.3,bins=50)\n",
        "plt.show()"
      ],
      "execution_count": 30,
      "outputs": [
        {
          "output_type": "display_data",
          "data": {
            "image/png": "[encoded data removed]",
            "text/plain": [
              "<Figure size 432x288 with 1 Axes>"
            ]
          },
          "metadata": {
            "tags": [],
            "needs_background": "light"
          }
        }
      ]
    },
    {
      "cell_type": "markdown",
      "metadata": {
        "id": "0QWSTbq0tiQZ"
      },
      "source": [
        "\n",
        "\n",
        "---\n",
        "\n",
        "\n",
        "\n",
        "---\n",
        "\n"
      ]
    },
    {
      "cell_type": "markdown",
      "metadata": {
        "id": "G0Dug7pZtkLl"
      },
      "source": [
        "Latitudeに対する分布　２つの分布が重なっているようにみえる"
      ]
    },
    {
      "cell_type": "code",
      "metadata": {
        "colab": {
          "base_uri": "https://localhost:8080/",
          "height": 265
        },
        "id": "pU1Ujo9ZccNZ",
        "outputId": "e78a26e7-9f41-44f6-bd58-51f2784a71c7"
      },
      "source": [
        "Xlt = df[\"Latitude\"].values.reshape(-1,1)\n",
        "plt.hist(Xlt,bins=50)\n",
        "plt.show()"
      ],
      "execution_count": 31,
      "outputs": [
        {
          "output_type": "display_data",
          "data": {
            "image/png": "[encoded data removed]",
            "text/plain": [
              "<Figure size 432x288 with 1 Axes>"
            ]
          },
          "metadata": {
            "tags": [],
            "needs_background": "light"
          }
        }
      ]
    },
    {
      "cell_type": "markdown",
      "metadata": {
        "id": "ilRM43N8tz5R"
      },
      "source": [
        "このような場合には１つの分布とみなしてフィッテイングしてもあまり意味がない\n"
      ]
    },
    {
      "cell_type": "code",
      "metadata": {
        "colab": {
          "base_uri": "https://localhost:8080/",
          "height": 265
        },
        "id": "-fwfTjMCkiIa",
        "outputId": "c73d7e10-931c-4617-9678-76b0e69542ff"
      },
      "source": [
        "X_StandardScaler = StandardScaler().fit_transform(Xlt)\n",
        "x = np.random.normal(0,1,len(X_StandardScaler))\n",
        "plt.hist(X_StandardScaler,bins=50)\n",
        "plt.hist(x,alpha=0.3,bins=50)\n",
        "plt.show()"
      ],
      "execution_count": 32,
      "outputs": [
        {
          "output_type": "display_data",
          "data": {
            "image/png": "[encoded data removed]",
            "text/plain": [
              "<Figure size 432x288 with 1 Axes>"
            ]
          },
          "metadata": {
            "tags": [],
            "needs_background": "light"
          }
        }
      ]
    },
    {
      "cell_type": "code",
      "metadata": {
        "id": "DAPyFVrUmTXe"
      },
      "source": [
        ""
      ],
      "execution_count": 32,
      "outputs": []
    }
  ]
}