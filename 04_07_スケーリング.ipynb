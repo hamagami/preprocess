{
  "nbformat": 4,
  "nbformat_minor": 0,
  "metadata": {
    "colab": {
      "name": "04-07_スケーリング.ipynb",
      "provenance": [],
      "authorship_tag": "ABX9TyNHjIK6Flhifgq1QakKH99E",
      "include_colab_link": true
    },
    "kernelspec": {
      "name": "python3",
      "display_name": "Python 3"
    },
    "language_info": {
      "name": "python"
    }
  },
  "cells": [
    {
      "cell_type": "markdown",
      "metadata": {
        "id": "view-in-github",
        "colab_type": "text"
      },
      "source": [
        "<a href=\"https://colab.research.google.com/github/hamagami/preprocess/blob/main/04_07_%E3%82%B9%E3%82%B1%E3%83%BC%E3%83%AA%E3%83%B3%E3%82%B0.ipynb\" target=\"_parent\"><img src=\"https://colab.research.google.com/assets/colab-badge.svg\" alt=\"Open In Colab\"/></a>"
      ]
    },
    {
      "cell_type": "markdown",
      "metadata": {
        "id": "9wjf7uuVnCay"
      },
      "source": [
        "# スケーリング"
      ]
    },
    {
      "cell_type": "code",
      "metadata": {
        "id": "-AbRscN2-p3q"
      },
      "source": [
        "import numpy as np\n",
        "import pandas as pd\n",
        "from matplotlib import pyplot as plt\n",
        "%matplotlib inline\n",
        "\n",
        "\n",
        "from sklearn.datasets import fetch_california_housing"
      ],
      "execution_count": null,
      "outputs": []
    },
    {
      "cell_type": "markdown",
      "metadata": {
        "id": "eGEMePY9nvHq"
      },
      "source": [
        "# sklearn には色々なスケーリング関数がある。　\n",
        "ここではこれらのうち一部しか使わない。詳しくは　https://qiita.com/nazoking@github/items/d6ac1948ee138d73fef1\n"
      ]
    },
    {
      "cell_type": "code",
      "metadata": {
        "id": "mDloDlhVnyl-"
      },
      "source": [
        "from sklearn.preprocessing import MinMaxScaler\n",
        "from sklearn.preprocessing import minmax_scale\n",
        "from sklearn.preprocessing import MaxAbsScaler\n",
        "from sklearn.preprocessing import StandardScaler\n",
        "from sklearn.preprocessing import RobustScaler\n",
        "from sklearn.preprocessing import Normalizer\n",
        "from sklearn.preprocessing import QuantileTransformer\n",
        "from sklearn.preprocessing import PowerTransformer"
      ],
      "execution_count": null,
      "outputs": []
    },
    {
      "cell_type": "markdown",
      "metadata": {
        "id": "_p8ObcFwn8Vq"
      },
      "source": [
        "ハウジングデータセットを読みこむ。ちょっと時間かかります"
      ]
    },
    {
      "cell_type": "code",
      "metadata": {
        "id": "SoXT81Ih-vZF"
      },
      "source": [
        "data  =fetch_california_housing()"
      ],
      "execution_count": null,
      "outputs": []
    },
    {
      "cell_type": "markdown",
      "metadata": {
        "id": "v7xySrCuoEQ1"
      },
      "source": [
        "データをpandas.Dataframeにいれる\n"
      ]
    },
    {
      "cell_type": "code",
      "metadata": {
        "id": "1imWo6bFoOb7"
      },
      "source": [
        "df = pd.DataFrame(np.c_[data.data, data.target], columns=data.feature_names + [\"target\"])\n",
        "df\n"
      ],
      "execution_count": null,
      "outputs": []
    },
    {
      "cell_type": "markdown",
      "metadata": {
        "id": "em7XETvSpJPG"
      },
      "source": [
        "Populationについて単純にヒストグラムをつくる"
      ]
    },
    {
      "cell_type": "code",
      "metadata": {
        "id": "-H69402H-9Rr"
      },
      "source": [
        "#LT= df[\"Latitude\"]\n",
        "Pop = df[\"Population\"]\n",
        "plt.hist(Pop,bins=50)\n",
        "plt.show()"
      ],
      "execution_count": null,
      "outputs": []
    },
    {
      "cell_type": "markdown",
      "metadata": {
        "id": "3XVZ0IVEpNpK"
      },
      "source": [
        "一見歪んだ正規分布に見えるが maxが分布から大きく外れた値をとっているこのような場合にminmaxで正規化しても分布の歪は修正されない"
      ]
    },
    {
      "cell_type": "code",
      "metadata": {
        "id": "e3uew9ODoxYl"
      },
      "source": [
        "print(Pop.max())\n",
        "P_MinMaxScaler = MinMaxScaler().fit_transform(Pop.values.reshape(-1,1))\n",
        "plt.hist(P_MinMaxScaler,bins=50)\n",
        "plt.show()\n"
      ],
      "execution_count": null,
      "outputs": []
    },
    {
      "cell_type": "markdown",
      "metadata": {
        "id": "-gPLptVWpfPZ"
      },
      "source": [
        "標準化は外れ値の影響を強くは受けないが値としては残るのであまり分布にフィットしているとはいいがたい\n"
      ]
    },
    {
      "cell_type": "code",
      "metadata": {
        "id": "g9ea9hCmo9W9"
      },
      "source": [
        "X_StandardScaler = StandardScaler().fit_transform(Pop.values.reshape(-1,1))\n",
        "x = np.random.normal(0,1,len(X_StandardScaler))\n",
        "plt.hist(X_StandardScaler,bins=50)\n",
        "plt.hist(x,alpha=0.3,bins=50)\n",
        "plt.show()"
      ],
      "execution_count": null,
      "outputs": []
    },
    {
      "cell_type": "markdown",
      "metadata": {
        "id": "lne17d9mskrf"
      },
      "source": [
        "\n",
        "\n",
        "---\n",
        "\n",
        "\n",
        "\n",
        "---\n",
        "\n"
      ]
    },
    {
      "cell_type": "markdown",
      "metadata": {
        "id": "q1LR6cwdqAbG"
      },
      "source": [
        "MedInc（収入の平均値）の分布について，なにもせずにヒストグラムを作った場合と，平均を0にした場合（分布の形状は変わらず）"
      ]
    },
    {
      "cell_type": "code",
      "metadata": {
        "id": "WtCr6X5m_2ws"
      },
      "source": [
        "df_mi = df[\"MedInc\"]\n",
        "Xorg=df_mi.values.reshape(-1,1)\n",
        "plt.hist(Xorg,bins=50)#収入の平均値\n",
        "plt.show()"
      ],
      "execution_count": null,
      "outputs": []
    },
    {
      "cell_type": "markdown",
      "metadata": {
        "id": "5BRxAjPDq2ek"
      },
      "source": [
        "標準化(minmaxscaler)"
      ]
    },
    {
      "cell_type": "code",
      "metadata": {
        "id": "ldS8gLOlFc-K"
      },
      "source": [
        "X= (df_mi-df_mi.describe()[\"mean\"]).values.reshape(-1,1)\n",
        "X_MinMaxScaler = MinMaxScaler().fit_transform(X)\n",
        "plt.hist(X_MinMaxScaler,bins=50)\n",
        "plt.show()"
      ],
      "execution_count": null,
      "outputs": []
    },
    {
      "cell_type": "markdown",
      "metadata": {
        "id": "N0u4-X7Msq98"
      },
      "source": [
        "絶対値正規化（maxabsscaler)"
      ]
    },
    {
      "cell_type": "code",
      "metadata": {
        "id": "7iheIox0FlAH"
      },
      "source": [
        "X_MaxAbsScaler = MaxAbsScaler().fit_transform(X)\n",
        "plt.hist(X_MaxAbsScaler,bins=50)\n",
        "plt.show()"
      ],
      "execution_count": null,
      "outputs": []
    },
    {
      "cell_type": "markdown",
      "metadata": {
        "id": "2qlMgsHOsx9N"
      },
      "source": [
        "標準化"
      ]
    },
    {
      "cell_type": "code",
      "metadata": {
        "id": "OA-KjdLQNJuB"
      },
      "source": [
        "X_StandardScaler = StandardScaler().fit_transform(Xorg)\n",
        "x = np.random.normal(0,1,len(X_StandardScaler))\n",
        "plt.hist(X_StandardScaler,bins=50)\n",
        "plt.hist(x,alpha=0.3,bins=50)\n",
        "plt.show()"
      ],
      "execution_count": null,
      "outputs": []
    },
    {
      "cell_type": "markdown",
      "metadata": {
        "id": "tkyMAaGVs1TZ"
      },
      "source": [
        "RobustScaler"
      ]
    },
    {
      "cell_type": "code",
      "metadata": {
        "id": "KfiLLQGS6535"
      },
      "source": [
        "X_RobustScaler = RobustScaler(quantile_range=(25, 75)).fit_transform(X)\n",
        "plt.hist(X_RobustScaler,bins=50)"
      ],
      "execution_count": null,
      "outputs": []
    },
    {
      "cell_type": "markdown",
      "metadata": {
        "id": "6B_K70PLtHxN"
      },
      "source": [
        "BoxCox"
      ]
    },
    {
      "cell_type": "code",
      "metadata": {
        "id": "JjHa905FQU4B"
      },
      "source": [
        "X_PowerTransformer_boxcox = PowerTransformer(method='box-cox').fit_transform(Xorg)\n",
        "x = np.random.normal(0,1,len(X_PowerTransformer_boxcox))\n",
        "plt.hist(X_PowerTransformer_boxcox,bins=50)\n",
        "plt.hist(x,alpha=0.3,bins=50)\n",
        "plt.show()"
      ],
      "execution_count": null,
      "outputs": []
    },
    {
      "cell_type": "markdown",
      "metadata": {
        "id": "tHZaqvRbtMuy"
      },
      "source": [
        "Yeo-Johnson"
      ]
    },
    {
      "cell_type": "code",
      "metadata": {
        "id": "MHAB5XNnU88S"
      },
      "source": [
        "X_PowerTransformer_yeojohnson = PowerTransformer(method='yeo-johnson').fit_transform(X)\n",
        "x = np.random.normal(0,1,len(X_PowerTransformer_yeojohnson))\n",
        "plt.hist(X_PowerTransformer_yeojohnson,bins=50)\n",
        "plt.hist(x,alpha=0.3,bins=50)\n",
        "plt.show()"
      ],
      "execution_count": null,
      "outputs": []
    },
    {
      "cell_type": "markdown",
      "metadata": {
        "id": "2hXjJOohtR9d"
      },
      "source": [
        "対数化"
      ]
    },
    {
      "cell_type": "code",
      "metadata": {
        "id": "KykxNCUzV-9q"
      },
      "source": [
        "X_log=np.log(Xorg)\n",
        "plt.hist(X_log,bins=50)\n",
        "plt.show()"
      ],
      "execution_count": null,
      "outputs": []
    },
    {
      "cell_type": "markdown",
      "metadata": {
        "id": "H1J9B7OktVeC"
      },
      "source": [
        "平方根"
      ]
    },
    {
      "cell_type": "code",
      "metadata": {
        "id": "hrmsJrqaZ2y6"
      },
      "source": [
        "X_sqrt=np.sqrt(Xorg)\n",
        "plt.hist(X_sqrt,bins=50)\n",
        "plt.show()"
      ],
      "execution_count": null,
      "outputs": []
    },
    {
      "cell_type": "markdown",
      "metadata": {
        "id": "Mvv4HSYptapo"
      },
      "source": [
        "平方根に対して標準化を行う"
      ]
    },
    {
      "cell_type": "code",
      "metadata": {
        "id": "vWKU43DMaeDn"
      },
      "source": [
        "X_StandardScaler = StandardScaler().fit_transform(X_sqrt)\n",
        "x = np.random.normal(0,1,len(X_StandardScaler))\n",
        "plt.hist(X_StandardScaler,bins=50)\n",
        "plt.hist(x,alpha=0.3,bins=50)\n",
        "plt.show()"
      ],
      "execution_count": null,
      "outputs": []
    },
    {
      "cell_type": "markdown",
      "metadata": {
        "id": "0QWSTbq0tiQZ"
      },
      "source": [
        "\n",
        "\n",
        "---\n",
        "\n",
        "\n",
        "\n",
        "---\n",
        "\n"
      ]
    },
    {
      "cell_type": "markdown",
      "metadata": {
        "id": "G0Dug7pZtkLl"
      },
      "source": [
        "Latitudeに対する分布　２つの分布が重なっているようにみえる"
      ]
    },
    {
      "cell_type": "code",
      "metadata": {
        "id": "pU1Ujo9ZccNZ"
      },
      "source": [
        "Xlt = df[\"Latitude\"].values.reshape(-1,1)\n",
        "plt.hist(Xlt,bins=50)\n",
        "plt.show()"
      ],
      "execution_count": null,
      "outputs": []
    },
    {
      "cell_type": "markdown",
      "metadata": {
        "id": "ilRM43N8tz5R"
      },
      "source": [
        "このような場合には１つの分布とみなしてフィッテイングしてもあまり意味がない\n"
      ]
    },
    {
      "cell_type": "code",
      "metadata": {
        "id": "-fwfTjMCkiIa"
      },
      "source": [
        "X_StandardScaler = StandardScaler().fit_transform(Xlt)\n",
        "x = np.random.normal(0,1,len(X_StandardScaler))\n",
        "plt.hist(X_StandardScaler,bins=50)\n",
        "plt.hist(x,alpha=0.3,bins=50)\n",
        "plt.show()"
      ],
      "execution_count": null,
      "outputs": []
    },
    {
      "cell_type": "code",
      "metadata": {
        "id": "DAPyFVrUmTXe"
      },
      "source": [
        ""
      ],
      "execution_count": null,
      "outputs": []
    }
  ]
}