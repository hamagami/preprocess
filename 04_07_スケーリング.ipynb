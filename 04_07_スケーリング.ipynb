{
  "nbformat": 4,
  "nbformat_minor": 0,
  "metadata": {
    "colab": {
      "name": "04-07_スケーリング.ipynb",
      "provenance": [],
      "authorship_tag": "ABX9TyPkFrVR17vDrJ1hajKOzOqo",
      "include_colab_link": true
    },
    "kernelspec": {
      "name": "python3",
      "display_name": "Python 3"
    },
    "language_info": {
      "name": "python"
    }
  },
  "cells": [
    {
      "cell_type": "markdown",
      "metadata": {
        "id": "view-in-github",
        "colab_type": "text"
      },
      "source": [
        "<a href=\"https://colab.research.google.com/github/hamagami/preprocess/blob/main/04_07_%E3%82%B9%E3%82%B1%E3%83%BC%E3%83%AA%E3%83%B3%E3%82%B0.ipynb\" target=\"_parent\"><img src=\"https://colab.research.google.com/assets/colab-badge.svg\" alt=\"Open In Colab\"/></a>"
      ]
    },
    {
      "cell_type": "code",
      "metadata": {
        "id": "-AbRscN2-p3q"
      },
      "source": [
        "\n",
        "import numpy as np\n",
        "import pandas as pd\n",
        "from matplotlib import pyplot as plt\n",
        "\n",
        "\n",
        "from sklearn.preprocessing import MinMaxScaler\n",
        "from sklearn.preprocessing import minmax_scale\n",
        "from sklearn.preprocessing import MaxAbsScaler\n",
        "from sklearn.preprocessing import StandardScaler\n",
        "from sklearn.preprocessing import RobustScaler\n",
        "from sklearn.preprocessing import Normalizer\n",
        "from sklearn.preprocessing import QuantileTransformer\n",
        "from sklearn.preprocessing import PowerTransformer\n",
        "\n",
        "from sklearn.datasets import fetch_california_housing"
      ],
      "execution_count": null,
      "outputs": []
    },
    {
      "cell_type": "code",
      "metadata": {
        "colab": {
          "base_uri": "https://localhost:8080/"
        },
        "id": "SoXT81Ih-vZF",
        "outputId": "5f32d5cc-44bd-4ee6-a786-c857728ab3e2"
      },
      "source": [
        "data  =fetch_california_housing()"
      ],
      "execution_count": null,
      "outputs": [
        {
          "output_type": "execute_result",
          "data": {
            "text/plain": [
              "{'DESCR': '.. _california_housing_dataset:\\n\\nCalifornia Housing dataset\\n--------------------------\\n\\n**Data Set Characteristics:**\\n\\n    :Number of Instances: 20640\\n\\n    :Number of Attributes: 8 numeric, predictive attributes and the target\\n\\n    :Attribute Information:\\n        - MedInc        median income in block\\n        - HouseAge      median house age in block\\n        - AveRooms      average number of rooms\\n        - AveBedrms     average number of bedrooms\\n        - Population    block population\\n        - AveOccup      average house occupancy\\n        - Latitude      house block latitude\\n        - Longitude     house block longitude\\n\\n    :Missing Attribute Values: None\\n\\nThis dataset was obtained from the StatLib repository.\\nhttp://lib.stat.cmu.edu/datasets/\\n\\nThe target variable is the median house value for California districts.\\n\\nThis dataset was derived from the 1990 U.S. census, using one row per census\\nblock group. A block group is the smallest geographical unit for which the U.S.\\nCensus Bureau publishes sample data (a block group typically has a population\\nof 600 to 3,000 people).\\n\\nIt can be downloaded/loaded using the\\n:func:`sklearn.datasets.fetch_california_housing` function.\\n\\n.. topic:: References\\n\\n    - Pace, R. Kelley and Ronald Barry, Sparse Spatial Autoregressions,\\n      Statistics and Probability Letters, 33 (1997) 291-297\\n',\n",
              " 'data': array([[   8.3252    ,   41.        ,    6.98412698, ...,    2.55555556,\n",
              "           37.88      , -122.23      ],\n",
              "        [   8.3014    ,   21.        ,    6.23813708, ...,    2.10984183,\n",
              "           37.86      , -122.22      ],\n",
              "        [   7.2574    ,   52.        ,    8.28813559, ...,    2.80225989,\n",
              "           37.85      , -122.24      ],\n",
              "        ...,\n",
              "        [   1.7       ,   17.        ,    5.20554273, ...,    2.3256351 ,\n",
              "           39.43      , -121.22      ],\n",
              "        [   1.8672    ,   18.        ,    5.32951289, ...,    2.12320917,\n",
              "           39.43      , -121.32      ],\n",
              "        [   2.3886    ,   16.        ,    5.25471698, ...,    2.61698113,\n",
              "           39.37      , -121.24      ]]),\n",
              " 'feature_names': ['MedInc',\n",
              "  'HouseAge',\n",
              "  'AveRooms',\n",
              "  'AveBedrms',\n",
              "  'Population',\n",
              "  'AveOccup',\n",
              "  'Latitude',\n",
              "  'Longitude'],\n",
              " 'target': array([4.526, 3.585, 3.521, ..., 0.923, 0.847, 0.894])}"
            ]
          },
          "metadata": {
            "tags": []
          },
          "execution_count": 107
        }
      ]
    },
    {
      "cell_type": "code",
      "metadata": {
        "colab": {
          "base_uri": "https://localhost:8080/",
          "height": 779
        },
        "id": "-H69402H-9Rr",
        "outputId": "903b2326-cff7-46af-c875-80fcd119b179"
      },
      "source": [
        "df = pd.DataFrame(np.c_[data.data, data.target], columns=data.feature_names + [\"target\"])\n",
        "LT= df[\"Latitude\"]\n",
        "Pop = df[\"Population\"]\n",
        "#Pop[1]=-20000\n",
        "plt.hist(Pop,bins=50)\n",
        "plt.show()\n",
        "print(Pop.max())\n",
        "P_MinMaxScaler = MinMaxScaler().fit_transform(Pop.values.reshape(-1,1))\n",
        "plt.hist(P_MinMaxScaler,bins=50)\n",
        "plt.show()\n",
        "X_StandardScaler = StandardScaler().fit_transform(Pop.values.reshape(-1,1))\n",
        "x = np.random.normal(0,1,len(X_StandardScaler))\n",
        "plt.hist(X_StandardScaler,bins=50)\n",
        "plt.hist(x,alpha=0.3,bins=50)\n",
        "plt.show()"
      ],
      "execution_count": null,
      "outputs": [
        {
          "output_type": "display_data",
          "data": {
            "image/png": "[encoded data removed]",
            "text/plain": [
              "<Figure size 432x288 with 1 Axes>"
            ]
          },
          "metadata": {
            "tags": [],
            "needs_background": "light"
          }
        },
        {
          "output_type": "stream",
          "text": [
            "35682.0\n"
          ],
          "name": "stdout"
        },
        {
          "output_type": "display_data",
          "data": {
            "image/png": "[encoded data removed]",
            "text/plain": [
              "<Figure size 432x288 with 1 Axes>"
            ]
          },
          "metadata": {
            "tags": [],
            "needs_background": "light"
          }
        },
        {
          "output_type": "display_data",
          "data": {
            "image/png": "[encoded data removed]",
            "text/plain": [
              "<Figure size 432x288 with 1 Axes>"
            ]
          },
          "metadata": {
            "tags": [],
            "needs_background": "light"
          }
        }
      ]
    },
    {
      "cell_type": "code",
      "metadata": {
        "colab": {
          "base_uri": "https://localhost:8080/",
          "height": 531
        },
        "id": "WtCr6X5m_2ws",
        "outputId": "59573ce8-7fa2-4035-fe0c-812487c2c707"
      },
      "source": [
        "df_mi = df[\"MedInc\"]\n",
        "plt.hist(df_mi,bins=50)#収入の平均値\n",
        "plt.show()\n",
        "print(df_mi.describe()[\"mean\"])\n",
        "#print(df_mi)\n",
        "#print(df_mi-3.8)\n",
        "plt.hist(df_mi-3.8,bins=50)\n",
        "plt.show()"
      ],
      "execution_count": null,
      "outputs": [
        {
          "output_type": "display_data",
          "data": {
            "image/png": "[encoded data removed]",
            "text/plain": [
              "<Figure size 432x288 with 1 Axes>"
            ]
          },
          "metadata": {
            "tags": [],
            "needs_background": "light"
          }
        },
        {
          "output_type": "stream",
          "text": [
            "3.8706710029070246\n"
          ],
          "name": "stdout"
        },
        {
          "output_type": "display_data",
          "data": {
            "image/png": "[encoded data removed]",
            "text/plain": [
              "<Figure size 432x288 with 1 Axes>"
            ]
          },
          "metadata": {
            "tags": [],
            "needs_background": "light"
          }
        }
      ]
    },
    {
      "cell_type": "code",
      "metadata": {
        "id": "Kcwhm36UBLaq"
      },
      "source": [
        "Xorg=df_mi.values.reshape(-1,1)\n",
        "X= (df_mi-df_mi.describe()[\"mean\"]).values.reshape(-1,1)"
      ],
      "execution_count": null,
      "outputs": []
    },
    {
      "cell_type": "code",
      "metadata": {
        "colab": {
          "base_uri": "https://localhost:8080/",
          "height": 265
        },
        "id": "ldS8gLOlFc-K",
        "outputId": "3f6f5c2f-aeb7-4245-8cec-d0da89b72cc5"
      },
      "source": [
        "X_MinMaxScaler = MinMaxScaler().fit_transform(X)\n",
        "plt.hist(X_MinMaxScaler,bins=50)\n",
        "plt.show()"
      ],
      "execution_count": null,
      "outputs": [
        {
          "output_type": "display_data",
          "data": {
            "image/png": "[encoded data removed]",
            "text/plain": [
              "<Figure size 432x288 with 1 Axes>"
            ]
          },
          "metadata": {
            "tags": [],
            "needs_background": "light"
          }
        }
      ]
    },
    {
      "cell_type": "code",
      "metadata": {
        "colab": {
          "base_uri": "https://localhost:8080/",
          "height": 265
        },
        "id": "7iheIox0FlAH",
        "outputId": "4997b07a-38a1-4ee3-9438-56cd172fae72"
      },
      "source": [
        "X_MaxAbsScaler = MaxAbsScaler().fit_transform(X)\n",
        "plt.hist(X_MaxAbsScaler,bins=50)\n",
        "plt.show()"
      ],
      "execution_count": null,
      "outputs": [
        {
          "output_type": "display_data",
          "data": {
            "image/png": "[encoded data removed]",
            "text/plain": [
              "<Figure size 432x288 with 1 Axes>"
            ]
          },
          "metadata": {
            "tags": [],
            "needs_background": "light"
          }
        }
      ]
    },
    {
      "cell_type": "code",
      "metadata": {
        "colab": {
          "base_uri": "https://localhost:8080/",
          "height": 265
        },
        "id": "OA-KjdLQNJuB",
        "outputId": "775d901d-d6ed-47fe-9133-ec5aadb38aef"
      },
      "source": [
        "X_StandardScaler = StandardScaler().fit_transform(Xorg)\n",
        "x = np.random.normal(0,1,len(X_StandardScaler))\n",
        "plt.hist(X_StandardScaler,bins=50)\n",
        "plt.hist(x,alpha=0.3,bins=50)\n",
        "plt.show()"
      ],
      "execution_count": null,
      "outputs": [
        {
          "output_type": "display_data",
          "data": {
            "image/png": "[encoded data removed]",
            "text/plain": [
              "<Figure size 432x288 with 1 Axes>"
            ]
          },
          "metadata": {
            "tags": [],
            "needs_background": "light"
          }
        }
      ]
    },
    {
      "cell_type": "code",
      "metadata": {
        "colab": {
          "base_uri": "https://localhost:8080/",
          "height": 585
        },
        "id": "KfiLLQGS6535",
        "outputId": "d3d995b3-1dc4-4c8b-81fc-cf85a4a16ec1"
      },
      "source": [
        "\n",
        "X_RobustScaler = RobustScaler(quantile_range=(25, 75)).fit_transform(X)\n",
        "plt.hist(X_RobustScaler,bins=50)"
      ],
      "execution_count": null,
      "outputs": [
        {
          "output_type": "execute_result",
          "data": {
            "text/plain": [
              "(array([  50.,  163.,  347.,  675., 1012., 1341., 1363., 1592., 1524.,\n",
              "        1616., 1513., 1259., 1401.,  990.,  935.,  812.,  715.,  582.,\n",
              "         398.,  483.,  310.,  280.,  168.,  147.,  156.,  136.,  109.,\n",
              "          86.,   60.,   36.,   28.,   23.,   33.,   58.,   36.,   35.,\n",
              "          27.,   10.,   14.,    7.,   12.,   10.,    7.,    8.,   10.,\n",
              "           4.,    2.,    3.,    2.,   52.]),\n",
              " array([-1.39225176, -1.25921325, -1.12617474, -0.99313622, -0.86009771,\n",
              "        -0.7270592 , -0.59402069, -0.46098218, -0.32794367, -0.19490515,\n",
              "        -0.06186664,  0.07117187,  0.20421038,  0.33724889,  0.47028741,\n",
              "         0.60332592,  0.73636443,  0.86940294,  1.00244145,  1.13547996,\n",
              "         1.26851848,  1.40155699,  1.5345955 ,  1.66763401,  1.80067252,\n",
              "         1.93371104,  2.06674955,  2.19978806,  2.33282657,  2.46586508,\n",
              "         2.59890359,  2.73194211,  2.86498062,  2.99801913,  3.13105764,\n",
              "         3.26409615,  3.39713467,  3.53017318,  3.66321169,  3.7962502 ,\n",
              "         3.92928871,  4.06232722,  4.19536574,  4.32840425,  4.46144276,\n",
              "         4.59448127,  4.72751978,  4.8605583 ,  4.99359681,  5.12663532,\n",
              "         5.25967383]),\n",
              " <a list of 50 Patch objects>)"
            ]
          },
          "metadata": {
            "tags": []
          },
          "execution_count": 137
        },
        {
          "output_type": "display_data",
          "data": {
            "image/png": "[encoded data removed]",
            "text/plain": [
              "<Figure size 432x288 with 1 Axes>"
            ]
          },
          "metadata": {
            "tags": [],
            "needs_background": "light"
          }
        }
      ]
    },
    {
      "cell_type": "code",
      "metadata": {
        "colab": {
          "base_uri": "https://localhost:8080/",
          "height": 266
        },
        "id": "JjHa905FQU4B",
        "outputId": "666f6e1d-acf7-4a7c-df54-5c8c88b62a5f"
      },
      "source": [
        "X_PowerTransformer_boxcox = PowerTransformer(method='box-cox').fit_transform(Xorg)\n",
        "x = np.random.normal(0,1,len(X_PowerTransformer_boxcox))\n",
        "plt.hist(X_PowerTransformer_boxcox,bins=50)\n",
        "plt.hist(x,alpha=0.3,bins=50)\n",
        "plt.show()"
      ],
      "execution_count": null,
      "outputs": [
        {
          "output_type": "display_data",
          "data": {
            "image/png": "[encoded data removed]",
            "text/plain": [
              "<Figure size 432x288 with 1 Axes>"
            ]
          },
          "metadata": {
            "tags": [],
            "needs_background": "light"
          }
        }
      ]
    },
    {
      "cell_type": "code",
      "metadata": {
        "colab": {
          "base_uri": "https://localhost:8080/",
          "height": 265
        },
        "id": "MHAB5XNnU88S",
        "outputId": "34e77cd9-0f8a-4832-a65e-c3a52ce3000c"
      },
      "source": [
        "X_PowerTransformer_yeojohnson = PowerTransformer(method='yeo-johnson').fit_transform(X)\n",
        "x = np.random.normal(0,1,len(X_PowerTransformer_yeojohnson))\n",
        "plt.hist(X_PowerTransformer_yeojohnson,bins=50)\n",
        "plt.hist(x,alpha=0.3,bins=50)\n",
        "plt.show()"
      ],
      "execution_count": null,
      "outputs": [
        {
          "output_type": "display_data",
          "data": {
            "image/png": "[encoded data removed]",
            "text/plain": [
              "<Figure size 432x288 with 1 Axes>"
            ]
          },
          "metadata": {
            "tags": [],
            "needs_background": "light"
          }
        }
      ]
    },
    {
      "cell_type": "code",
      "metadata": {
        "colab": {
          "base_uri": "https://localhost:8080/",
          "height": 265
        },
        "id": "KykxNCUzV-9q",
        "outputId": "b01bf3bb-d463-49c6-9829-0f13220307e8"
      },
      "source": [
        "X_log=np.log(Xorg)\n",
        "plt.hist(X_log,bins=50)\n",
        "plt.show()"
      ],
      "execution_count": null,
      "outputs": [
        {
          "output_type": "display_data",
          "data": {
            "image/png": "[encoded data removed]",
            "text/plain": [
              "<Figure size 432x288 with 1 Axes>"
            ]
          },
          "metadata": {
            "tags": [],
            "needs_background": "light"
          }
        }
      ]
    },
    {
      "cell_type": "code",
      "metadata": {
        "colab": {
          "base_uri": "https://localhost:8080/",
          "height": 265
        },
        "id": "hrmsJrqaZ2y6",
        "outputId": "fd185083-23c1-4852-f4fd-6b8f6cfb2e1e"
      },
      "source": [
        "X_sqrt=np.sqrt(Xorg)\n",
        "plt.hist(X_sqrt,bins=50)\n",
        "plt.show()"
      ],
      "execution_count": null,
      "outputs": [
        {
          "output_type": "display_data",
          "data": {
            "image/png": "[encoded data removed]",
            "text/plain": [
              "<Figure size 432x288 with 1 Axes>"
            ]
          },
          "metadata": {
            "tags": [],
            "needs_background": "light"
          }
        }
      ]
    },
    {
      "cell_type": "code",
      "metadata": {
        "colab": {
          "base_uri": "https://localhost:8080/",
          "height": 265
        },
        "id": "vWKU43DMaeDn",
        "outputId": "73cde392-a41a-4069-a537-486fa8b67307"
      },
      "source": [
        "X_StandardScaler = StandardScaler().fit_transform(X_sqrt)\n",
        "x = np.random.normal(0,1,len(X_StandardScaler))\n",
        "plt.hist(X_StandardScaler,bins=50)\n",
        "plt.hist(x,alpha=0.3,bins=50)\n",
        "plt.show()"
      ],
      "execution_count": null,
      "outputs": [
        {
          "output_type": "display_data",
          "data": {
            "image/png": "[encoded data removed]",
            "text/plain": [
              "<Figure size 432x288 with 1 Axes>"
            ]
          },
          "metadata": {
            "tags": [],
            "needs_background": "light"
          }
        }
      ]
    },
    {
      "cell_type": "code",
      "metadata": {
        "colab": {
          "base_uri": "https://localhost:8080/",
          "height": 265
        },
        "id": "pU1Ujo9ZccNZ",
        "outputId": "aae4bd3f-555e-4e5a-d70f-caf0c5938844"
      },
      "source": [
        "Xlt = df[\"Latitude\"].values.reshape(-1,1)\n",
        "plt.hist(Xlt,bins=50)\n",
        "plt.show()"
      ],
      "execution_count": null,
      "outputs": [
        {
          "output_type": "display_data",
          "data": {
            "image/png": "[encoded data removed]",
            "text/plain": [
              "<Figure size 432x288 with 1 Axes>"
            ]
          },
          "metadata": {
            "tags": [],
            "needs_background": "light"
          }
        }
      ]
    },
    {
      "cell_type": "code",
      "metadata": {
        "colab": {
          "base_uri": "https://localhost:8080/",
          "height": 265
        },
        "id": "-fwfTjMCkiIa",
        "outputId": "da2cb5bd-281d-4653-84b3-8bf5afbea528"
      },
      "source": [
        "X_StandardScaler = StandardScaler().fit_transform(Xlt)\n",
        "x = np.random.normal(0,1,len(X_StandardScaler))\n",
        "plt.hist(X_StandardScaler,bins=50)\n",
        "plt.hist(x,alpha=0.3,bins=50)\n",
        "plt.show()"
      ],
      "execution_count": null,
      "outputs": [
        {
          "output_type": "display_data",
          "data": {
            "image/png": "[encoded data removed]",
            "text/plain": [
              "<Figure size 432x288 with 1 Axes>"
            ]
          },
          "metadata": {
            "tags": [],
            "needs_background": "light"
          }
        }
      ]
    },
    {
      "cell_type": "code",
      "metadata": {
        "id": "DAPyFVrUmTXe"
      },
      "source": [
        ""
      ],
      "execution_count": null,
      "outputs": []
    }
  ]
}