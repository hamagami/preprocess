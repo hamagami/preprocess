{
  "nbformat": 4,
  "nbformat_minor": 0,
  "metadata": {
    "colab": {
      "name": "03-02_データ構造2.ipynb",
      "provenance": [],
      "authorship_tag": "ABX9TyNfmfVc6ReLNaYK4XKXMP40",
      "include_colab_link": true
    },
    "kernelspec": {
      "name": "python3",
      "display_name": "Python 3"
    },
    "language_info": {
      "name": "python"
    }
  },
  "cells": [
    {
      "cell_type": "markdown",
      "metadata": {
        "id": "view-in-github",
        "colab_type": "text"
      },
      "source": [
        "<a href=\"https://colab.research.google.com/github/hamagami/preprocess/blob/main/03_02_%E3%83%87%E3%83%BC%E3%82%BF%E6%A7%8B%E9%80%A02.ipynb\" target=\"_parent\"><img src=\"https://colab.research.google.com/assets/colab-badge.svg\" alt=\"Open In Colab\"/></a>"
      ]
    },
    {
      "cell_type": "markdown",
      "metadata": {
        "id": "9Sh9tObmfpu3"
      },
      "source": [
        "# 表データ構造\n",
        "csvになっているデータをpythonに取り込み簡単にデータを確認します"
      ]
    },
    {
      "cell_type": "code",
      "metadata": {
        "id": "UDbFnO_pfzA8"
      },
      "source": [
        "import pandas as pd # pandas 表データ処理では大変便利なモジュールです\n",
        "import numpy as np\n",
        "import urllib.request # webからデータを読みこむ際につかいます\n",
        "import matplotlib.pyplot as plt #グラフの描画に使うモジュールです"
      ],
      "execution_count": null,
      "outputs": []
    },
    {
      "cell_type": "markdown",
      "metadata": {
        "id": "hNrl75_ggnW2"
      },
      "source": [
        "## データの読み込み\n",
        "webから直接データを読みこむこともできますが，ここではいったんgoogle colabのドライブに保存してから使います"
      ]
    },
    {
      "cell_type": "code",
      "metadata": {
        "id": "3YjayxhRJG1z"
      },
      "source": [
        "url = \"https://raw.githubusercontent.com/pcsanwald/kaggle-titanic/master/train.csv\" #kaggleのタイタニックの乗客データ\n",
        "urllib.request.urlretrieve(url, 'titanic.csv') # titanicという名前で google colabのドライブに保存します"
      ],
      "execution_count": null,
      "outputs": []
    },
    {
      "cell_type": "code",
      "metadata": {
        "id": "-Vowco9VrJm0"
      },
      "source": [
        "df = pd.read_csv('titanic.csv') # pandasのデータフレームに読みこみます"
      ],
      "execution_count": null,
      "outputs": []
    },
    {
      "cell_type": "markdown",
      "metadata": {
        "id": "6ftbSdPCgr6t"
      },
      "source": [
        "## データの中身を見たい場合には　変数を直接評価　あるいは　print文をつかいます"
      ]
    },
    {
      "cell_type": "code",
      "metadata": {
        "id": "m125aAjWgkcI"
      },
      "source": [
        "df"
      ],
      "execution_count": null,
      "outputs": []
    },
    {
      "cell_type": "code",
      "metadata": {
        "id": "tdvKT-vmx3LT"
      },
      "source": [
        "print(df) #print文でも出力しますが，フォーマットがかわります"
      ],
      "execution_count": null,
      "outputs": []
    },
    {
      "cell_type": "markdown",
      "metadata": {
        "id": "vdJG5bWZg1ep"
      },
      "source": [
        "## どのような属性（カラム）があるかは df.columns でわかります"
      ]
    },
    {
      "cell_type": "code",
      "metadata": {
        "id": "t_qJzsdVgy5g"
      },
      "source": [
        "df.columns"
      ],
      "execution_count": null,
      "outputs": []
    },
    {
      "cell_type": "markdown",
      "metadata": {
        "id": "URm9vOC3hacS"
      },
      "source": [
        "## 各カラムの変数の型を知りたいとときは　df.dtypesをみてみます\n",
        "型は pandasがcsvを読みこむときに自動できまりますが，必ずしも思っているような型になっていないことがあります。その場合は後から型を変える必要があります"
      ]
    },
    {
      "cell_type": "code",
      "metadata": {
        "id": "OGyXMCGnhhPO"
      },
      "source": [
        "df.dtypes"
      ],
      "execution_count": null,
      "outputs": []
    },
    {
      "cell_type": "markdown",
      "metadata": {
        "id": "jPvlFvdTg_ej"
      },
      "source": [
        "## データの全体的な統計量を簡単に把握するには df.describe()を実行します\n",
        "describeでわかることは数値データです。カテゴリカルなデータは計算から省かれます\n",
        "describeでもかなりのことがわかりますが，より詳細な分析は04-04で扱うprofileをつかいます"
      ]
    },
    {
      "cell_type": "code",
      "metadata": {
        "id": "e1nIDrJNg8ok"
      },
      "source": [
        "df.describe()"
      ],
      "execution_count": null,
      "outputs": []
    },
    {
      "cell_type": "markdown",
      "metadata": {
        "id": "Vw0m2e-2zjQU"
      },
      "source": [
        "## info で，欠損値の数を調べられます"
      ]
    },
    {
      "cell_type": "code",
      "metadata": {
        "id": "trv1J8c4zKWE"
      },
      "source": [
        "df.info()"
      ],
      "execution_count": null,
      "outputs": []
    },
    {
      "cell_type": "markdown",
      "metadata": {
        "id": "J44ihrEHijEt"
      },
      "source": [
        "## カテゴリカルデータでユニークな値のリストを調べたいときは，カラムを指定してunique 関数を呼びます\n",
        "numpy のarray型で返ってきます"
      ]
    },
    {
      "cell_type": "code",
      "metadata": {
        "id": "XoQY64w-hDou"
      },
      "source": [
        "df[\"cabin\"].unique()"
      ],
      "execution_count": null,
      "outputs": []
    },
    {
      "cell_type": "markdown",
      "metadata": {
        "id": "qxISlItR0A5a"
      },
      "source": [
        "## 例えば　属性cabinのユニークなラベルの数を調べたいときは lenで評価します"
      ]
    },
    {
      "cell_type": "code",
      "metadata": {
        "id": "ey7I6_RYixBZ"
      },
      "source": [
        "len(df[\"cabin\"].unique())"
      ],
      "execution_count": null,
      "outputs": []
    },
    {
      "cell_type": "markdown",
      "metadata": {
        "id": "nwecbZVCkK_-"
      },
      "source": [
        "## 年齢のヒストグラムをつくってみます"
      ]
    },
    {
      "cell_type": "code",
      "metadata": {
        "id": "zSsQeXFvjXKO"
      },
      "source": [
        "plt.hist(df[\"age\"],bins=20) # binの数を20にしています　\n",
        "plt.show()"
      ],
      "execution_count": null,
      "outputs": []
    },
    {
      "cell_type": "markdown",
      "metadata": {
        "id": "BE7gS2NGjZaR"
      },
      "source": [
        "ここでは　pandas や　numpy の詳しい使い方は扱いませんが，大変多くの機能があり大概のことはpandas とnumpyで済ませることができます。使いこなすとpandasだけでほとんどのことができるはずです。\n"
      ]
    },
    {
      "cell_type": "code",
      "metadata": {
        "id": "-41YisEojkyz"
      },
      "source": [
        ""
      ],
      "execution_count": null,
      "outputs": []
    }
  ]
}