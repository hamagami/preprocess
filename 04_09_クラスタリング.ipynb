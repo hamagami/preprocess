{
  "nbformat": 4,
  "nbformat_minor": 0,
  "metadata": {
    "colab": {
      "name": "04-09_クラスタリング.ipynb",
      "provenance": [],
      "authorship_tag": "ABX9TyOIaQxp5Wyqwt3LQFN6T7tc",
      "include_colab_link": true
    },
    "kernelspec": {
      "name": "python3",
      "display_name": "Python 3"
    },
    "language_info": {
      "name": "python"
    }
  },
  "cells": [
    {
      "cell_type": "markdown",
      "metadata": {
        "id": "view-in-github",
        "colab_type": "text"
      },
      "source": [
        "<a href=\"https://colab.research.google.com/github/hamagami/preprocess/blob/main/04_09_%E3%82%AF%E3%83%A9%E3%82%B9%E3%82%BF%E3%83%AA%E3%83%B3%E3%82%B0.ipynb\" target=\"_parent\"><img src=\"https://colab.research.google.com/assets/colab-badge.svg\" alt=\"Open In Colab\"/></a>"
      ]
    },
    {
      "cell_type": "markdown",
      "metadata": {
        "id": "QMfhCZnm-XN5"
      },
      "source": [
        "# クラスタリング"
      ]
    },
    {
      "cell_type": "code",
      "metadata": {
        "id": "NIhniUEQ-YgA"
      },
      "source": [
        "import matplotlib.pyplot as plt\n",
        "import pandas as pd\n",
        "import seaborn as sns\n",
        "from sklearn.cluster import KMeans\n",
        "%matplotlib inline"
      ],
      "execution_count": null,
      "outputs": []
    },
    {
      "cell_type": "code",
      "metadata": {
        "id": "zp2SgAOq0k5f"
      },
      "source": [
        "# CSVファイルの読み込み。\n",
        "df = pd.read_csv(\"https://raw.githubusercontent.com/kennedykwangari/Mall-Customer-Segmentation-Data/master/Mall_Customers.csv\")\n",
        "# 前方10件を表示します。\n",
        "df.head()"
      ],
      "execution_count": null,
      "outputs": []
    },
    {
      "cell_type": "markdown",
      "metadata": {
        "id": "dWMbdEG11BHl"
      },
      "source": [
        "欠損値チェック\n"
      ]
    },
    {
      "cell_type": "code",
      "metadata": {
        "id": "LHLaUex01DLB"
      },
      "source": [
        "df.info()"
      ],
      "execution_count": null,
      "outputs": []
    },
    {
      "cell_type": "markdown",
      "metadata": {
        "id": "NxTj3fbV0-U7"
      },
      "source": [
        "カテゴリカルデータをエンコード\n",
        "ここではgender が2値(Male Female）しかないので単純に0,1に置き換ええるだけ\n"
      ]
    },
    {
      "cell_type": "code",
      "metadata": {
        "id": "uAsNMn7801zN"
      },
      "source": [
        "dfx = df.copy()\n",
        "dfx = dfx.replace(\"Male\",0)\n",
        "dfx = dfx.replace(\"Female\",1)"
      ],
      "execution_count": null,
      "outputs": []
    },
    {
      "cell_type": "markdown",
      "metadata": {
        "id": "RkRi1ZqI1uYq"
      },
      "source": [
        "descriveで統計値を確認し，目的変数と説明変素の関係を可視化して，クラスタの存在を調べてみる\n",
        "\n"
      ]
    },
    {
      "cell_type": "code",
      "metadata": {
        "id": "nlSBaCgz1dsT"
      },
      "source": [
        "dfx.describe()"
      ],
      "execution_count": null,
      "outputs": []
    },
    {
      "cell_type": "code",
      "metadata": {
        "id": "B48UKXDI1kyw"
      },
      "source": [
        "sns.distplot(dfx['Spending Score (1-100)'])# spending scoreはきれいな正規分布にはなっていない"
      ],
      "execution_count": null,
      "outputs": []
    },
    {
      "cell_type": "code",
      "metadata": {
        "id": "tztrVMj212wQ"
      },
      "source": [
        "sns.jointplot(x='Spending Score (1-100)', y='Annual Income (k$)', data=dfx) # annual income と　spending score は5クラスタくらいにわかれている"
      ],
      "execution_count": null,
      "outputs": []
    },
    {
      "cell_type": "code",
      "metadata": {
        "id": "ZnJVTkLJ2Ex_"
      },
      "source": [
        "\n",
        "sns.jointplot(x='Spending Score (1-100)', y='Age', data=df) #spending score と　ageはあまりはっきりしないが3,4くらいのクラスタがありそう"
      ],
      "execution_count": null,
      "outputs": []
    },
    {
      "cell_type": "markdown",
      "metadata": {
        "id": "dHCUB1Cr3IFx"
      },
      "source": [
        "クラスタリングを試す"
      ]
    },
    {
      "cell_type": "code",
      "metadata": {
        "id": "U2oZFn-C2sXd"
      },
      "source": [
        "pred = KMeans(n_clusters=5).fit_predict(dfx)"
      ],
      "execution_count": null,
      "outputs": []
    },
    {
      "cell_type": "code",
      "metadata": {
        "id": "4DsPAAU03U_U"
      },
      "source": [
        "dfx['cluster_id'] = pred"
      ],
      "execution_count": null,
      "outputs": []
    },
    {
      "cell_type": "code",
      "metadata": {
        "id": "Nqf5mfov3aRO"
      },
      "source": [
        "sns.relplot(x='Spending Score (1-100)',\n",
        "                y='Annual Income (k$)', data=dfx,\n",
        "                col=\"Gender\", hue='cluster_id')"
      ],
      "execution_count": null,
      "outputs": []
    },
    {
      "cell_type": "markdown",
      "metadata": {
        "id": "5FZqIJKA34Sa"
      },
      "source": [
        "ここで得られたクラスタごとに標準化，正規化，etcによる前処理をすればよい"
      ]
    },
    {
      "cell_type": "code",
      "metadata": {
        "id": "PPuZm7IW3cIn"
      },
      "source": [
        ""
      ],
      "execution_count": null,
      "outputs": []
    }
  ]
}