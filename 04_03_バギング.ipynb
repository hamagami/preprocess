{
  "nbformat": 4,
  "nbformat_minor": 0,
  "metadata": {
    "colab": {
      "name": "04-03_バギング.ipynb",
      "provenance": [],
      "authorship_tag": "ABX9TyPdnrTHQ/0lA1AiRfuJ26bt",
      "include_colab_link": true
    },
    "kernelspec": {
      "name": "python3",
      "display_name": "Python 3"
    },
    "language_info": {
      "name": "python"
    }
  },
  "cells": [
    {
      "cell_type": "markdown",
      "metadata": {
        "id": "view-in-github",
        "colab_type": "text"
      },
      "source": [
        "<a href=\"https://colab.research.google.com/github/hamagami/preprocess/blob/main/04_03_%E3%83%90%E3%82%AE%E3%83%B3%E3%82%B0.ipynb\" target=\"_parent\"><img src=\"https://colab.research.google.com/assets/colab-badge.svg\" alt=\"Open In Colab\"/></a>"
      ]
    },
    {
      "cell_type": "markdown",
      "metadata": {
        "id": "KBnCkzUm8OZU"
      },
      "source": [
        "バギング"
      ]
    },
    {
      "cell_type": "markdown",
      "metadata": {
        "id": "T1LbQRzD8PK-"
      },
      "source": [
        ""
      ]
    }
  ]
}