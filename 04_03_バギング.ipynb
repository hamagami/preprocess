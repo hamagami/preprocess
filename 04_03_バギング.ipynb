{
  "nbformat": 4,
  "nbformat_minor": 0,
  "metadata": {
    "colab": {
      "name": "04-03_バギング.ipynb",
      "provenance": [],
      "authorship_tag": "ABX9TyOo+eD13VA8AQMoq7ZDtz2d",
      "include_colab_link": true
    },
    "kernelspec": {
      "name": "python3",
      "display_name": "Python 3"
    },
    "language_info": {
      "name": "python"
    }
  },
  "cells": [
    {
      "cell_type": "markdown",
      "metadata": {
        "id": "view-in-github",
        "colab_type": "text"
      },
      "source": [
        "<a href=\"https://colab.research.google.com/github/hamagami/preprocess/blob/main/04_03_%E3%83%90%E3%82%AE%E3%83%B3%E3%82%B0.ipynb\" target=\"_parent\"><img src=\"https://colab.research.google.com/assets/colab-badge.svg\" alt=\"Open In Colab\"/></a>"
      ]
    },
    {
      "cell_type": "markdown",
      "metadata": {
        "id": "KBnCkzUm8OZU"
      },
      "source": [
        "# バギング"
      ]
    },
    {
      "cell_type": "markdown",
      "metadata": {
        "id": "T1LbQRzD8PK-"
      },
      "source": [
        "https://blog.amedama.jp/entry/under-bagging-kfold を改変"
      ]
    },
    {
      "cell_type": "code",
      "metadata": {
        "id": "_pnxBGvcU1qU"
      },
      "source": [
        "import numpy as np\n",
        "from sklearn.model_selection import BaseCrossValidator\n",
        "from sklearn.model_selection import train_test_split\n",
        "from imblearn.under_sampling import RandomUnderSampler\n",
        "from sklearn.datasets import make_classification # サンプルデータをつくるためにsklearnの make_classificationを使います"
      ],
      "execution_count": 36,
      "outputs": []
    },
    {
      "cell_type": "markdown",
      "metadata": {
        "id": "mInG6vscajMM"
      },
      "source": [
        "データを全部使わず，間引きながらundersampling する"
      ]
    },
    {
      "cell_type": "code",
      "metadata": {
        "id": "BXOJQ4XUU2F9"
      },
      "source": [
        "class UnderBaggingKFold(BaseCrossValidator):\n",
        "\n",
        "\n",
        "    def __init__(self, n_splits=5, shuffle=True, random_states=None,\n",
        "                 test_size=0.2, whole_testing=False):\n",
        "        \"\"\"\n",
        "        :param n_splits: Fold の分割数\n",
        "        :param shuffle: 分割時にデータをシャッフルするか\n",
        "        :param random_states: 各 Fold の乱数シード\n",
        "        :param test_size: Under-sampling された中でテスト用データとして使う割合\n",
        "        :param whole_testing: Under-sampling で選ばれなかった全てのデータをテスト用データに追加するか\n",
        "        \"\"\"\n",
        "        self.n_splits = n_splits\n",
        "        self.shuffle = shuffle\n",
        "        self.random_states = random_states\n",
        "        self.test_size = test_size\n",
        "        self.whole_testing = whole_testing\n",
        "\n",
        "        if random_states is not None:\n",
        "            # 各 Fold の乱数シードが指定されているなら分割数をそれに合わせる\n",
        "            self.n_splits = len(random_states)\n",
        "        else:\n",
        "            # 乱数シードが指定されていないときは分割数だけ None で埋めておく\n",
        "            self.random_states = [None] * self.n_splits\n",
        "\n",
        "        # 分割数だけ Under-sampling 用のインスタンスを作っておく\n",
        "        self.samplers_ = [\n",
        "            RandomUnderSampler(random_state=random_state)\n",
        "            for random_state in self.random_states\n",
        "        ]\n",
        "\n",
        "    def split(self, X, y=None, groups=None):\n",
        "        \"\"\"データを学習用とテスト用に分割する\"\"\"\n",
        "        if X.ndim < 2:\n",
        "        \n",
        "            X = np.vstack(X)\n",
        "\n",
        "        for i in range(self.n_splits):\n",
        "            # データを Under-sampling して均衡データにする\n",
        "            sampler = self.samplers_[i]\n",
        "            _, y_sampled = sampler.fit_resample(X, y)\n",
        "            # 選ばれたデータのインデックスを取り出す\n",
        "            sampled_indices = sampler.sample_indices_\n",
        "\n",
        "            # 選ばれたデータを学習用とテスト用に分割する\n",
        "            split_data = train_test_split(sampled_indices,\n",
        "                                          shuffle=self.shuffle,\n",
        "                                          test_size=self.test_size,\n",
        "                                          stratify=y_sampled,\n",
        "                                          random_state=self.random_states[i],\n",
        "                                          )\n",
        "            train_indices, test_indices = split_data\n",
        "\n",
        "            if self.whole_testing:\n",
        "                # Under-sampling で選ばれなかったデータをテスト用に追加する\n",
        "                mask = np.ones(len(X), dtype=np.bool)\n",
        "                mask[sampled_indices] = False\n",
        "                X_indices = np.arange(len(X))\n",
        "                non_sampled_indices = X_indices[mask]\n",
        "                test_indices = np.concatenate([test_indices,\n",
        "                                               non_sampled_indices])\n",
        "\n",
        "            yield train_indices, test_indices\n",
        "\n",
        "    def get_n_splits(self, X=None, y=None, groups=None):\n",
        "        return self.n_splits\n",
        "\n"
      ],
      "execution_count": 38,
      "outputs": []
    },
    {
      "cell_type": "markdown",
      "metadata": {
        "id": "9Lj2_Es6auDJ"
      },
      "source": [
        "簡単のため1次元のデータでテスト"
      ]
    },
    {
      "cell_type": "code",
      "metadata": {
        "id": "GnHoCJnKVsr2"
      },
      "source": [
        " # ダミーの不均衡データを用意する\n",
        "X, y = np.arange(1, 21), np.zeros(20, dtype=np.int8)\n",
        "# 先頭の 4 要素だけ陽性 (Positive) データに指定する\n",
        "y[:4] = 1\n",
        "print(X,y)"
      ],
      "execution_count": null,
      "outputs": []
    },
    {
      "cell_type": "code",
      "metadata": {
        "id": "J6HMAQ1DW7ZV"
      },
      "source": [
        "# 乱数シードを指定した 5-Fold\n",
        "folds = UnderBaggingKFold(random_states=range(4))"
      ],
      "execution_count": 58,
      "outputs": []
    },
    {
      "cell_type": "markdown",
      "metadata": {
        "id": "dmkfAJ0VazkT"
      },
      "source": [
        "データの偏りがないようにアンダーサンプリングを行いながら間引いたデータをいくつも作っています"
      ]
    },
    {
      "cell_type": "code",
      "metadata": {
        "id": "YNj8PkugXRZP"
      },
      "source": [
        "for train_indices, test_indices in folds.split(X, y):\n",
        "        print('train: X={X}, y={y}'.format(X=train_indices, y=y[train_indices]))\n",
        "        print('test: X={X}, y={y}'.format(X=test_indices, y=y[test_indices]))\n",
        "\n",
        "\n"
      ],
      "execution_count": null,
      "outputs": []
    },
    {
      "cell_type": "code",
      "metadata": {
        "id": "_zDrC5eHYsa4"
      },
      "source": [
        ""
      ],
      "execution_count": null,
      "outputs": []
    }
  ]
}